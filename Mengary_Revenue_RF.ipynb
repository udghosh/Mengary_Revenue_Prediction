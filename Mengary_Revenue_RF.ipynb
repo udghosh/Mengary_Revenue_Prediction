{
  "nbformat": 4,
  "nbformat_minor": 0,
  "metadata": {
    "colab": {
      "name": "Mengary_Revenue_RF.ipynb",
      "provenance": [],
      "collapsed_sections": [],
      "include_colab_link": true
    },
    "kernelspec": {
      "name": "python3",
      "display_name": "Python 3"
    }
  },
  "cells": [
    {
      "cell_type": "markdown",
      "metadata": {
        "id": "view-in-github",
        "colab_type": "text"
      },
      "source": [
        "<a href=\"https://colab.research.google.com/github/udghosh/Mengary_Revenue_Prediction/blob/main/Mengary_Revenue_RF.ipynb\" target=\"_parent\"><img src=\"https://colab.research.google.com/assets/colab-badge.svg\" alt=\"Open In Colab\"/></a>"
      ]
    },
    {
      "cell_type": "code",
      "metadata": {
        "id": "h_COerHYcmI6"
      },
      "source": [
        "# Importing Essential Libraries And Functions\n",
        "import pandas as pd\n",
        "import numpy as np\n",
        "from sklearn.model_selection import train_test_split\n",
        "from sklearn.feature_selection import VarianceThreshold\n",
        "import seaborn as sns\n",
        "import matplotlib.pyplot as plt\n",
        "from sklearn.preprocessing import LabelEncoder\n",
        "\n",
        "from sklearn.linear_model import LinearRegression\n",
        "from sklearn.svm import SVR\n",
        "from sklearn.tree import DecisionTreeRegressor\n",
        "from sklearn.ensemble import RandomForestRegressor,RandomForestClassifier\n",
        "import xgboost as xgb\n",
        "from sklearn.metrics import mean_squared_error\n",
        "from sklearn.metrics import r2_score"
      ],
      "execution_count": null,
      "outputs": []
    },
    {
      "cell_type": "code",
      "metadata": {
        "id": "aKwlIhG9dHr4"
      },
      "source": [
        "df=pd.read_csv(\"/content/train.csv\")"
      ],
      "execution_count": null,
      "outputs": []
    },
    {
      "cell_type": "code",
      "metadata": {
        "colab": {
          "base_uri": "https://localhost:8080/",
          "height": 326
        },
        "id": "zC7yjUQSdfra",
        "outputId": "ceea8628-8419-4b1a-a200-69cf9e0b34ad"
      },
      "source": [
        "df.head()"
      ],
      "execution_count": null,
      "outputs": [
        {
          "output_type": "execute_result",
          "data": {
            "text/html": [
              "<div>\n",
              "<style scoped>\n",
              "    .dataframe tbody tr th:only-of-type {\n",
              "        vertical-align: middle;\n",
              "    }\n",
              "\n",
              "    .dataframe tbody tr th {\n",
              "        vertical-align: top;\n",
              "    }\n",
              "\n",
              "    .dataframe thead th {\n",
              "        text-align: right;\n",
              "    }\n",
              "</style>\n",
              "<table border=\"1\" class=\"dataframe\">\n",
              "  <thead>\n",
              "    <tr style=\"text-align: right;\">\n",
              "      <th></th>\n",
              "      <th>id</th>\n",
              "      <th>departure city</th>\n",
              "      <th>discount</th>\n",
              "      <th>price</th>\n",
              "      <th>no of items</th>\n",
              "      <th>location</th>\n",
              "      <th>class</th>\n",
              "      <th>segment</th>\n",
              "      <th>sub-class</th>\n",
              "      <th>delivery type</th>\n",
              "      <th>RID</th>\n",
              "      <th>profit</th>\n",
              "      <th>delivery date</th>\n",
              "      <th>address code</th>\n",
              "      <th>departure state</th>\n",
              "      <th>placement date</th>\n",
              "    </tr>\n",
              "  </thead>\n",
              "  <tbody>\n",
              "    <tr>\n",
              "      <th>0</th>\n",
              "      <td>1</td>\n",
              "      <td>Houston</td>\n",
              "      <td>0.2</td>\n",
              "      <td>16.448</td>\n",
              "      <td>2</td>\n",
              "      <td>Central</td>\n",
              "      <td>kariox</td>\n",
              "      <td>Consumer</td>\n",
              "      <td>phone</td>\n",
              "      <td>Standard Class</td>\n",
              "      <td>7981</td>\n",
              "      <td>5.5512</td>\n",
              "      <td>2018-01-01</td>\n",
              "      <td>77095</td>\n",
              "      <td>Texas</td>\n",
              "      <td>2018-01-01</td>\n",
              "    </tr>\n",
              "    <tr>\n",
              "      <th>1</th>\n",
              "      <td>2</td>\n",
              "      <td>Westland</td>\n",
              "      <td>0.0</td>\n",
              "      <td>29.700</td>\n",
              "      <td>5</td>\n",
              "      <td>Central</td>\n",
              "      <td>kariox</td>\n",
              "      <td>Consumer</td>\n",
              "      <td>headset</td>\n",
              "      <td>Standard Class</td>\n",
              "      <td>6334</td>\n",
              "      <td>13.3650</td>\n",
              "      <td>2018-01-01</td>\n",
              "      <td>48185</td>\n",
              "      <td>Michigan</td>\n",
              "      <td>2018-01-01</td>\n",
              "    </tr>\n",
              "    <tr>\n",
              "      <th>2</th>\n",
              "      <td>3</td>\n",
              "      <td>Westland</td>\n",
              "      <td>0.0</td>\n",
              "      <td>14.730</td>\n",
              "      <td>3</td>\n",
              "      <td>Central</td>\n",
              "      <td>qexty</td>\n",
              "      <td>Consumer</td>\n",
              "      <td>shorts</td>\n",
              "      <td>Standard Class</td>\n",
              "      <td>6333</td>\n",
              "      <td>4.8609</td>\n",
              "      <td>2018-01-01</td>\n",
              "      <td>48185</td>\n",
              "      <td>Michigan</td>\n",
              "      <td>2018-01-01</td>\n",
              "    </tr>\n",
              "    <tr>\n",
              "      <th>3</th>\n",
              "      <td>4</td>\n",
              "      <td>Westland</td>\n",
              "      <td>0.0</td>\n",
              "      <td>43.920</td>\n",
              "      <td>3</td>\n",
              "      <td>Central</td>\n",
              "      <td>kariox</td>\n",
              "      <td>Consumer</td>\n",
              "      <td>television</td>\n",
              "      <td>Standard Class</td>\n",
              "      <td>6332</td>\n",
              "      <td>12.7368</td>\n",
              "      <td>2018-01-01</td>\n",
              "      <td>48185</td>\n",
              "      <td>Michigan</td>\n",
              "      <td>2018-01-01</td>\n",
              "    </tr>\n",
              "    <tr>\n",
              "      <th>4</th>\n",
              "      <td>5</td>\n",
              "      <td>Westland</td>\n",
              "      <td>0.0</td>\n",
              "      <td>66.580</td>\n",
              "      <td>2</td>\n",
              "      <td>Central</td>\n",
              "      <td>kariox</td>\n",
              "      <td>Consumer</td>\n",
              "      <td>laptop</td>\n",
              "      <td>Standard Class</td>\n",
              "      <td>6331</td>\n",
              "      <td>15.9792</td>\n",
              "      <td>2018-01-01</td>\n",
              "      <td>48185</td>\n",
              "      <td>Michigan</td>\n",
              "      <td>2018-01-01</td>\n",
              "    </tr>\n",
              "  </tbody>\n",
              "</table>\n",
              "</div>"
            ],
            "text/plain": [
              "   id departure city  discount  ...  address code  departure state placement date\n",
              "0   1        Houston       0.2  ...         77095            Texas     2018-01-01\n",
              "1   2       Westland       0.0  ...         48185         Michigan     2018-01-01\n",
              "2   3       Westland       0.0  ...         48185         Michigan     2018-01-01\n",
              "3   4       Westland       0.0  ...         48185         Michigan     2018-01-01\n",
              "4   5       Westland       0.0  ...         48185         Michigan     2018-01-01\n",
              "\n",
              "[5 rows x 16 columns]"
            ]
          },
          "metadata": {
            "tags": []
          },
          "execution_count": 149
        }
      ]
    },
    {
      "cell_type": "code",
      "metadata": {
        "id": "zGjhr9_ydkBK"
      },
      "source": [
        "df.set_index(\"id\",inplace=True)"
      ],
      "execution_count": null,
      "outputs": []
    },
    {
      "cell_type": "code",
      "metadata": {
        "colab": {
          "base_uri": "https://localhost:8080/",
          "height": 357
        },
        "id": "7xeM2jasd7mm",
        "outputId": "191258b4-b2df-4f41-a6c6-03ed7638d4b0"
      },
      "source": [
        "df.head()"
      ],
      "execution_count": null,
      "outputs": [
        {
          "output_type": "execute_result",
          "data": {
            "text/html": [
              "<div>\n",
              "<style scoped>\n",
              "    .dataframe tbody tr th:only-of-type {\n",
              "        vertical-align: middle;\n",
              "    }\n",
              "\n",
              "    .dataframe tbody tr th {\n",
              "        vertical-align: top;\n",
              "    }\n",
              "\n",
              "    .dataframe thead th {\n",
              "        text-align: right;\n",
              "    }\n",
              "</style>\n",
              "<table border=\"1\" class=\"dataframe\">\n",
              "  <thead>\n",
              "    <tr style=\"text-align: right;\">\n",
              "      <th></th>\n",
              "      <th>departure city</th>\n",
              "      <th>discount</th>\n",
              "      <th>price</th>\n",
              "      <th>no of items</th>\n",
              "      <th>location</th>\n",
              "      <th>class</th>\n",
              "      <th>segment</th>\n",
              "      <th>sub-class</th>\n",
              "      <th>delivery type</th>\n",
              "      <th>RID</th>\n",
              "      <th>profit</th>\n",
              "      <th>delivery date</th>\n",
              "      <th>address code</th>\n",
              "      <th>departure state</th>\n",
              "      <th>placement date</th>\n",
              "    </tr>\n",
              "    <tr>\n",
              "      <th>id</th>\n",
              "      <th></th>\n",
              "      <th></th>\n",
              "      <th></th>\n",
              "      <th></th>\n",
              "      <th></th>\n",
              "      <th></th>\n",
              "      <th></th>\n",
              "      <th></th>\n",
              "      <th></th>\n",
              "      <th></th>\n",
              "      <th></th>\n",
              "      <th></th>\n",
              "      <th></th>\n",
              "      <th></th>\n",
              "      <th></th>\n",
              "    </tr>\n",
              "  </thead>\n",
              "  <tbody>\n",
              "    <tr>\n",
              "      <th>1</th>\n",
              "      <td>Houston</td>\n",
              "      <td>0.2</td>\n",
              "      <td>16.448</td>\n",
              "      <td>2</td>\n",
              "      <td>Central</td>\n",
              "      <td>kariox</td>\n",
              "      <td>Consumer</td>\n",
              "      <td>phone</td>\n",
              "      <td>Standard Class</td>\n",
              "      <td>7981</td>\n",
              "      <td>5.5512</td>\n",
              "      <td>2018-01-01</td>\n",
              "      <td>77095</td>\n",
              "      <td>Texas</td>\n",
              "      <td>2018-01-01</td>\n",
              "    </tr>\n",
              "    <tr>\n",
              "      <th>2</th>\n",
              "      <td>Westland</td>\n",
              "      <td>0.0</td>\n",
              "      <td>29.700</td>\n",
              "      <td>5</td>\n",
              "      <td>Central</td>\n",
              "      <td>kariox</td>\n",
              "      <td>Consumer</td>\n",
              "      <td>headset</td>\n",
              "      <td>Standard Class</td>\n",
              "      <td>6334</td>\n",
              "      <td>13.3650</td>\n",
              "      <td>2018-01-01</td>\n",
              "      <td>48185</td>\n",
              "      <td>Michigan</td>\n",
              "      <td>2018-01-01</td>\n",
              "    </tr>\n",
              "    <tr>\n",
              "      <th>3</th>\n",
              "      <td>Westland</td>\n",
              "      <td>0.0</td>\n",
              "      <td>14.730</td>\n",
              "      <td>3</td>\n",
              "      <td>Central</td>\n",
              "      <td>qexty</td>\n",
              "      <td>Consumer</td>\n",
              "      <td>shorts</td>\n",
              "      <td>Standard Class</td>\n",
              "      <td>6333</td>\n",
              "      <td>4.8609</td>\n",
              "      <td>2018-01-01</td>\n",
              "      <td>48185</td>\n",
              "      <td>Michigan</td>\n",
              "      <td>2018-01-01</td>\n",
              "    </tr>\n",
              "    <tr>\n",
              "      <th>4</th>\n",
              "      <td>Westland</td>\n",
              "      <td>0.0</td>\n",
              "      <td>43.920</td>\n",
              "      <td>3</td>\n",
              "      <td>Central</td>\n",
              "      <td>kariox</td>\n",
              "      <td>Consumer</td>\n",
              "      <td>television</td>\n",
              "      <td>Standard Class</td>\n",
              "      <td>6332</td>\n",
              "      <td>12.7368</td>\n",
              "      <td>2018-01-01</td>\n",
              "      <td>48185</td>\n",
              "      <td>Michigan</td>\n",
              "      <td>2018-01-01</td>\n",
              "    </tr>\n",
              "    <tr>\n",
              "      <th>5</th>\n",
              "      <td>Westland</td>\n",
              "      <td>0.0</td>\n",
              "      <td>66.580</td>\n",
              "      <td>2</td>\n",
              "      <td>Central</td>\n",
              "      <td>kariox</td>\n",
              "      <td>Consumer</td>\n",
              "      <td>laptop</td>\n",
              "      <td>Standard Class</td>\n",
              "      <td>6331</td>\n",
              "      <td>15.9792</td>\n",
              "      <td>2018-01-01</td>\n",
              "      <td>48185</td>\n",
              "      <td>Michigan</td>\n",
              "      <td>2018-01-01</td>\n",
              "    </tr>\n",
              "  </tbody>\n",
              "</table>\n",
              "</div>"
            ],
            "text/plain": [
              "   departure city  discount  ...  departure state  placement date\n",
              "id                           ...                                 \n",
              "1         Houston       0.2  ...            Texas      2018-01-01\n",
              "2        Westland       0.0  ...         Michigan      2018-01-01\n",
              "3        Westland       0.0  ...         Michigan      2018-01-01\n",
              "4        Westland       0.0  ...         Michigan      2018-01-01\n",
              "5        Westland       0.0  ...         Michigan      2018-01-01\n",
              "\n",
              "[5 rows x 15 columns]"
            ]
          },
          "metadata": {
            "tags": []
          },
          "execution_count": 151
        }
      ]
    },
    {
      "cell_type": "code",
      "metadata": {
        "colab": {
          "base_uri": "https://localhost:8080/"
        },
        "id": "7qHI48NDd8c9",
        "outputId": "7f620b82-2f06-4fc8-9af5-9bb585f36406"
      },
      "source": [
        "df.info()"
      ],
      "execution_count": null,
      "outputs": [
        {
          "output_type": "stream",
          "text": [
            "<class 'pandas.core.frame.DataFrame'>\n",
            "Int64Index: 6700 entries, 1 to 6700\n",
            "Data columns (total 15 columns):\n",
            " #   Column           Non-Null Count  Dtype  \n",
            "---  ------           --------------  -----  \n",
            " 0   departure city   6700 non-null   object \n",
            " 1   discount         6700 non-null   float64\n",
            " 2   price            6700 non-null   float64\n",
            " 3   no of items      6700 non-null   int64  \n",
            " 4   location         6700 non-null   object \n",
            " 5   class            6700 non-null   object \n",
            " 6   segment          6700 non-null   object \n",
            " 7   sub-class        6700 non-null   object \n",
            " 8   delivery type    6699 non-null   object \n",
            " 9   RID              6700 non-null   int64  \n",
            " 10  profit           6700 non-null   float64\n",
            " 11  delivery date    6700 non-null   object \n",
            " 12  address code     6700 non-null   int64  \n",
            " 13  departure state  6700 non-null   object \n",
            " 14  placement date   6700 non-null   object \n",
            "dtypes: float64(3), int64(3), object(9)\n",
            "memory usage: 837.5+ KB\n"
          ],
          "name": "stdout"
        }
      ]
    },
    {
      "cell_type": "code",
      "metadata": {
        "colab": {
          "base_uri": "https://localhost:8080/"
        },
        "id": "H0BYugOxeCuw",
        "outputId": "1fb368e0-45bf-4d5c-f272-7cde11c0dd36"
      },
      "source": [
        "df.isna().sum()"
      ],
      "execution_count": null,
      "outputs": [
        {
          "output_type": "execute_result",
          "data": {
            "text/plain": [
              "departure city     0\n",
              "discount           0\n",
              "price              0\n",
              "no of items        0\n",
              "location           0\n",
              "class              0\n",
              "segment            0\n",
              "sub-class          0\n",
              "delivery type      1\n",
              "RID                0\n",
              "profit             0\n",
              "delivery date      0\n",
              "address code       0\n",
              "departure state    0\n",
              "placement date     0\n",
              "dtype: int64"
            ]
          },
          "metadata": {
            "tags": []
          },
          "execution_count": 153
        }
      ]
    },
    {
      "cell_type": "code",
      "metadata": {
        "colab": {
          "base_uri": "https://localhost:8080/",
          "height": 357
        },
        "id": "KHeiR5o3ekHO",
        "outputId": "988ff2d1-6f7b-4567-89d7-bd2972f4939e"
      },
      "source": [
        "df.head()"
      ],
      "execution_count": null,
      "outputs": [
        {
          "output_type": "execute_result",
          "data": {
            "text/html": [
              "<div>\n",
              "<style scoped>\n",
              "    .dataframe tbody tr th:only-of-type {\n",
              "        vertical-align: middle;\n",
              "    }\n",
              "\n",
              "    .dataframe tbody tr th {\n",
              "        vertical-align: top;\n",
              "    }\n",
              "\n",
              "    .dataframe thead th {\n",
              "        text-align: right;\n",
              "    }\n",
              "</style>\n",
              "<table border=\"1\" class=\"dataframe\">\n",
              "  <thead>\n",
              "    <tr style=\"text-align: right;\">\n",
              "      <th></th>\n",
              "      <th>departure city</th>\n",
              "      <th>discount</th>\n",
              "      <th>price</th>\n",
              "      <th>no of items</th>\n",
              "      <th>location</th>\n",
              "      <th>class</th>\n",
              "      <th>segment</th>\n",
              "      <th>sub-class</th>\n",
              "      <th>delivery type</th>\n",
              "      <th>RID</th>\n",
              "      <th>profit</th>\n",
              "      <th>delivery date</th>\n",
              "      <th>address code</th>\n",
              "      <th>departure state</th>\n",
              "      <th>placement date</th>\n",
              "    </tr>\n",
              "    <tr>\n",
              "      <th>id</th>\n",
              "      <th></th>\n",
              "      <th></th>\n",
              "      <th></th>\n",
              "      <th></th>\n",
              "      <th></th>\n",
              "      <th></th>\n",
              "      <th></th>\n",
              "      <th></th>\n",
              "      <th></th>\n",
              "      <th></th>\n",
              "      <th></th>\n",
              "      <th></th>\n",
              "      <th></th>\n",
              "      <th></th>\n",
              "      <th></th>\n",
              "    </tr>\n",
              "  </thead>\n",
              "  <tbody>\n",
              "    <tr>\n",
              "      <th>1</th>\n",
              "      <td>Houston</td>\n",
              "      <td>0.2</td>\n",
              "      <td>16.448</td>\n",
              "      <td>2</td>\n",
              "      <td>Central</td>\n",
              "      <td>kariox</td>\n",
              "      <td>Consumer</td>\n",
              "      <td>phone</td>\n",
              "      <td>Standard Class</td>\n",
              "      <td>7981</td>\n",
              "      <td>5.5512</td>\n",
              "      <td>2018-01-01</td>\n",
              "      <td>77095</td>\n",
              "      <td>Texas</td>\n",
              "      <td>2018-01-01</td>\n",
              "    </tr>\n",
              "    <tr>\n",
              "      <th>2</th>\n",
              "      <td>Westland</td>\n",
              "      <td>0.0</td>\n",
              "      <td>29.700</td>\n",
              "      <td>5</td>\n",
              "      <td>Central</td>\n",
              "      <td>kariox</td>\n",
              "      <td>Consumer</td>\n",
              "      <td>headset</td>\n",
              "      <td>Standard Class</td>\n",
              "      <td>6334</td>\n",
              "      <td>13.3650</td>\n",
              "      <td>2018-01-01</td>\n",
              "      <td>48185</td>\n",
              "      <td>Michigan</td>\n",
              "      <td>2018-01-01</td>\n",
              "    </tr>\n",
              "    <tr>\n",
              "      <th>3</th>\n",
              "      <td>Westland</td>\n",
              "      <td>0.0</td>\n",
              "      <td>14.730</td>\n",
              "      <td>3</td>\n",
              "      <td>Central</td>\n",
              "      <td>qexty</td>\n",
              "      <td>Consumer</td>\n",
              "      <td>shorts</td>\n",
              "      <td>Standard Class</td>\n",
              "      <td>6333</td>\n",
              "      <td>4.8609</td>\n",
              "      <td>2018-01-01</td>\n",
              "      <td>48185</td>\n",
              "      <td>Michigan</td>\n",
              "      <td>2018-01-01</td>\n",
              "    </tr>\n",
              "    <tr>\n",
              "      <th>4</th>\n",
              "      <td>Westland</td>\n",
              "      <td>0.0</td>\n",
              "      <td>43.920</td>\n",
              "      <td>3</td>\n",
              "      <td>Central</td>\n",
              "      <td>kariox</td>\n",
              "      <td>Consumer</td>\n",
              "      <td>television</td>\n",
              "      <td>Standard Class</td>\n",
              "      <td>6332</td>\n",
              "      <td>12.7368</td>\n",
              "      <td>2018-01-01</td>\n",
              "      <td>48185</td>\n",
              "      <td>Michigan</td>\n",
              "      <td>2018-01-01</td>\n",
              "    </tr>\n",
              "    <tr>\n",
              "      <th>5</th>\n",
              "      <td>Westland</td>\n",
              "      <td>0.0</td>\n",
              "      <td>66.580</td>\n",
              "      <td>2</td>\n",
              "      <td>Central</td>\n",
              "      <td>kariox</td>\n",
              "      <td>Consumer</td>\n",
              "      <td>laptop</td>\n",
              "      <td>Standard Class</td>\n",
              "      <td>6331</td>\n",
              "      <td>15.9792</td>\n",
              "      <td>2018-01-01</td>\n",
              "      <td>48185</td>\n",
              "      <td>Michigan</td>\n",
              "      <td>2018-01-01</td>\n",
              "    </tr>\n",
              "  </tbody>\n",
              "</table>\n",
              "</div>"
            ],
            "text/plain": [
              "   departure city  discount  ...  departure state  placement date\n",
              "id                           ...                                 \n",
              "1         Houston       0.2  ...            Texas      2018-01-01\n",
              "2        Westland       0.0  ...         Michigan      2018-01-01\n",
              "3        Westland       0.0  ...         Michigan      2018-01-01\n",
              "4        Westland       0.0  ...         Michigan      2018-01-01\n",
              "5        Westland       0.0  ...         Michigan      2018-01-01\n",
              "\n",
              "[5 rows x 15 columns]"
            ]
          },
          "metadata": {
            "tags": []
          },
          "execution_count": 154
        }
      ]
    },
    {
      "cell_type": "code",
      "metadata": {
        "colab": {
          "base_uri": "https://localhost:8080/"
        },
        "id": "RbjxFiyne5DF",
        "outputId": "825c7b7d-88c9-4eb1-8deb-74366503f03e"
      },
      "source": [
        "df['departure city'].value_counts()"
      ],
      "execution_count": null,
      "outputs": [
        {
          "output_type": "execute_result",
          "data": {
            "text/plain": [
              "New York City    610\n",
              "Los Angeles      538\n",
              "Philadelphia     355\n",
              "San Francisco    319\n",
              "Houston          273\n",
              "                ... \n",
              "Littleton          1\n",
              "Antioch            1\n",
              "Portage            1\n",
              "New Bedford        1\n",
              "Woodland           1\n",
              "Name: departure city, Length: 469, dtype: int64"
            ]
          },
          "metadata": {
            "tags": []
          },
          "execution_count": 155
        }
      ]
    },
    {
      "cell_type": "code",
      "metadata": {
        "colab": {
          "base_uri": "https://localhost:8080/",
          "height": 351
        },
        "id": "eJCstJD1ioA2",
        "outputId": "c80cdd41-7611-4cb7-ddcc-82275b444c57"
      },
      "source": [
        "sns.boxplot(df['profit'])"
      ],
      "execution_count": null,
      "outputs": [
        {
          "output_type": "stream",
          "text": [
            "/usr/local/lib/python3.7/dist-packages/seaborn/_decorators.py:43: FutureWarning: Pass the following variable as a keyword arg: x. From version 0.12, the only valid positional argument will be `data`, and passing other arguments without an explicit keyword will result in an error or misinterpretation.\n",
            "  FutureWarning\n"
          ],
          "name": "stderr"
        },
        {
          "output_type": "execute_result",
          "data": {
            "text/plain": [
              "<matplotlib.axes._subplots.AxesSubplot at 0x7f0331c3ef90>"
            ]
          },
          "metadata": {
            "tags": []
          },
          "execution_count": 156
        },
        {
          "output_type": "display_data",
          "data": {
            "image/png": "[encoded data removed]",
            "text/plain": [
              "<Figure size 432x288 with 1 Axes>"
            ]
          },
          "metadata": {
            "tags": [],
            "needs_background": "light"
          }
        }
      ]
    },
    {
      "cell_type": "code",
      "metadata": {
        "id": "OiV8Fg9fi-UE"
      },
      "source": [
        "df=df[df['profit']<1500]\n"
      ],
      "execution_count": null,
      "outputs": []
    },
    {
      "cell_type": "code",
      "metadata": {
        "id": "MBx8zk8UnGBj"
      },
      "source": [
        "df=df[df['profit']>-1000]"
      ],
      "execution_count": null,
      "outputs": []
    },
    {
      "cell_type": "code",
      "metadata": {
        "colab": {
          "base_uri": "https://localhost:8080/",
          "height": 351
        },
        "id": "-zqOQkYajI4F",
        "outputId": "6ea10926-9a59-400b-a8db-c68165df3c78"
      },
      "source": [
        "sns.boxplot(df['profit'])\n"
      ],
      "execution_count": null,
      "outputs": [
        {
          "output_type": "stream",
          "text": [
            "/usr/local/lib/python3.7/dist-packages/seaborn/_decorators.py:43: FutureWarning: Pass the following variable as a keyword arg: x. From version 0.12, the only valid positional argument will be `data`, and passing other arguments without an explicit keyword will result in an error or misinterpretation.\n",
            "  FutureWarning\n"
          ],
          "name": "stderr"
        },
        {
          "output_type": "execute_result",
          "data": {
            "text/plain": [
              "<matplotlib.axes._subplots.AxesSubplot at 0x7f0331af4750>"
            ]
          },
          "metadata": {
            "tags": []
          },
          "execution_count": 159
        },
        {
          "output_type": "display_data",
          "data": {
            "image/png": "[encoded data removed]",
            "text/plain": [
              "<Figure size 432x288 with 1 Axes>"
            ]
          },
          "metadata": {
            "tags": [],
            "needs_background": "light"
          }
        }
      ]
    },
    {
      "cell_type": "code",
      "metadata": {
        "colab": {
          "base_uri": "https://localhost:8080/",
          "height": 401
        },
        "id": "tEeJ7DCwfnyI",
        "outputId": "b7e58c83-32d4-47de-acf5-9968557395f4"
      },
      "source": [
        "sns.lmplot(x='price',y='profit',data=df)"
      ],
      "execution_count": null,
      "outputs": [
        {
          "output_type": "execute_result",
          "data": {
            "text/plain": [
              "<seaborn.axisgrid.FacetGrid at 0x7f03318deb50>"
            ]
          },
          "metadata": {
            "tags": []
          },
          "execution_count": 160
        },
        {
          "output_type": "display_data",
          "data": {
            "image/png": "[encoded data removed]",
            "text/plain": [
              "<Figure size 360x360 with 1 Axes>"
            ]
          },
          "metadata": {
            "tags": [],
            "needs_background": "light"
          }
        }
      ]
    },
    {
      "cell_type": "code",
      "metadata": {
        "colab": {
          "base_uri": "https://localhost:8080/",
          "height": 357
        },
        "id": "NgE-yzgqij1w",
        "outputId": "55ffe45a-98fb-4c04-8e64-f6c32d031813"
      },
      "source": [
        "df.head()"
      ],
      "execution_count": null,
      "outputs": [
        {
          "output_type": "execute_result",
          "data": {
            "text/html": [
              "<div>\n",
              "<style scoped>\n",
              "    .dataframe tbody tr th:only-of-type {\n",
              "        vertical-align: middle;\n",
              "    }\n",
              "\n",
              "    .dataframe tbody tr th {\n",
              "        vertical-align: top;\n",
              "    }\n",
              "\n",
              "    .dataframe thead th {\n",
              "        text-align: right;\n",
              "    }\n",
              "</style>\n",
              "<table border=\"1\" class=\"dataframe\">\n",
              "  <thead>\n",
              "    <tr style=\"text-align: right;\">\n",
              "      <th></th>\n",
              "      <th>departure city</th>\n",
              "      <th>discount</th>\n",
              "      <th>price</th>\n",
              "      <th>no of items</th>\n",
              "      <th>location</th>\n",
              "      <th>class</th>\n",
              "      <th>segment</th>\n",
              "      <th>sub-class</th>\n",
              "      <th>delivery type</th>\n",
              "      <th>RID</th>\n",
              "      <th>profit</th>\n",
              "      <th>delivery date</th>\n",
              "      <th>address code</th>\n",
              "      <th>departure state</th>\n",
              "      <th>placement date</th>\n",
              "    </tr>\n",
              "    <tr>\n",
              "      <th>id</th>\n",
              "      <th></th>\n",
              "      <th></th>\n",
              "      <th></th>\n",
              "      <th></th>\n",
              "      <th></th>\n",
              "      <th></th>\n",
              "      <th></th>\n",
              "      <th></th>\n",
              "      <th></th>\n",
              "      <th></th>\n",
              "      <th></th>\n",
              "      <th></th>\n",
              "      <th></th>\n",
              "      <th></th>\n",
              "      <th></th>\n",
              "    </tr>\n",
              "  </thead>\n",
              "  <tbody>\n",
              "    <tr>\n",
              "      <th>1</th>\n",
              "      <td>Houston</td>\n",
              "      <td>0.2</td>\n",
              "      <td>16.448</td>\n",
              "      <td>2</td>\n",
              "      <td>Central</td>\n",
              "      <td>kariox</td>\n",
              "      <td>Consumer</td>\n",
              "      <td>phone</td>\n",
              "      <td>Standard Class</td>\n",
              "      <td>7981</td>\n",
              "      <td>5.5512</td>\n",
              "      <td>2018-01-01</td>\n",
              "      <td>77095</td>\n",
              "      <td>Texas</td>\n",
              "      <td>2018-01-01</td>\n",
              "    </tr>\n",
              "    <tr>\n",
              "      <th>2</th>\n",
              "      <td>Westland</td>\n",
              "      <td>0.0</td>\n",
              "      <td>29.700</td>\n",
              "      <td>5</td>\n",
              "      <td>Central</td>\n",
              "      <td>kariox</td>\n",
              "      <td>Consumer</td>\n",
              "      <td>headset</td>\n",
              "      <td>Standard Class</td>\n",
              "      <td>6334</td>\n",
              "      <td>13.3650</td>\n",
              "      <td>2018-01-01</td>\n",
              "      <td>48185</td>\n",
              "      <td>Michigan</td>\n",
              "      <td>2018-01-01</td>\n",
              "    </tr>\n",
              "    <tr>\n",
              "      <th>3</th>\n",
              "      <td>Westland</td>\n",
              "      <td>0.0</td>\n",
              "      <td>14.730</td>\n",
              "      <td>3</td>\n",
              "      <td>Central</td>\n",
              "      <td>qexty</td>\n",
              "      <td>Consumer</td>\n",
              "      <td>shorts</td>\n",
              "      <td>Standard Class</td>\n",
              "      <td>6333</td>\n",
              "      <td>4.8609</td>\n",
              "      <td>2018-01-01</td>\n",
              "      <td>48185</td>\n",
              "      <td>Michigan</td>\n",
              "      <td>2018-01-01</td>\n",
              "    </tr>\n",
              "    <tr>\n",
              "      <th>4</th>\n",
              "      <td>Westland</td>\n",
              "      <td>0.0</td>\n",
              "      <td>43.920</td>\n",
              "      <td>3</td>\n",
              "      <td>Central</td>\n",
              "      <td>kariox</td>\n",
              "      <td>Consumer</td>\n",
              "      <td>television</td>\n",
              "      <td>Standard Class</td>\n",
              "      <td>6332</td>\n",
              "      <td>12.7368</td>\n",
              "      <td>2018-01-01</td>\n",
              "      <td>48185</td>\n",
              "      <td>Michigan</td>\n",
              "      <td>2018-01-01</td>\n",
              "    </tr>\n",
              "    <tr>\n",
              "      <th>5</th>\n",
              "      <td>Westland</td>\n",
              "      <td>0.0</td>\n",
              "      <td>66.580</td>\n",
              "      <td>2</td>\n",
              "      <td>Central</td>\n",
              "      <td>kariox</td>\n",
              "      <td>Consumer</td>\n",
              "      <td>laptop</td>\n",
              "      <td>Standard Class</td>\n",
              "      <td>6331</td>\n",
              "      <td>15.9792</td>\n",
              "      <td>2018-01-01</td>\n",
              "      <td>48185</td>\n",
              "      <td>Michigan</td>\n",
              "      <td>2018-01-01</td>\n",
              "    </tr>\n",
              "  </tbody>\n",
              "</table>\n",
              "</div>"
            ],
            "text/plain": [
              "   departure city  discount  ...  departure state  placement date\n",
              "id                           ...                                 \n",
              "1         Houston       0.2  ...            Texas      2018-01-01\n",
              "2        Westland       0.0  ...         Michigan      2018-01-01\n",
              "3        Westland       0.0  ...         Michigan      2018-01-01\n",
              "4        Westland       0.0  ...         Michigan      2018-01-01\n",
              "5        Westland       0.0  ...         Michigan      2018-01-01\n",
              "\n",
              "[5 rows x 15 columns]"
            ]
          },
          "metadata": {
            "tags": []
          },
          "execution_count": 161
        }
      ]
    },
    {
      "cell_type": "code",
      "metadata": {
        "colab": {
          "base_uri": "https://localhost:8080/"
        },
        "id": "AU8pwa7poLNb",
        "outputId": "1474e7f4-1207-41a7-8670-23902ffc8763"
      },
      "source": [
        "df['discount'].unique().tolist()"
      ],
      "execution_count": null,
      "outputs": [
        {
          "output_type": "execute_result",
          "data": {
            "text/plain": [
              "[0.2, 0.0, 0.1, 0.7, 0.15, 0.8, 0.6, 0.4, 0.5, 0.3, 0.32, 0.45]"
            ]
          },
          "metadata": {
            "tags": []
          },
          "execution_count": 162
        }
      ]
    },
    {
      "cell_type": "code",
      "metadata": {
        "colab": {
          "base_uri": "https://localhost:8080/",
          "height": 401
        },
        "id": "tiRd44cCoU5R",
        "outputId": "c2478d07-4326-45bb-cb0b-480b8b8cb3ac"
      },
      "source": [
        "sns.lmplot(y='discount',x='profit',data=df)\n"
      ],
      "execution_count": null,
      "outputs": [
        {
          "output_type": "execute_result",
          "data": {
            "text/plain": [
              "<seaborn.axisgrid.FacetGrid at 0x7f03317883d0>"
            ]
          },
          "metadata": {
            "tags": []
          },
          "execution_count": 163
        },
        {
          "output_type": "display_data",
          "data": {
            "image/png": "[encoded data removed]",
            "text/plain": [
              "<Figure size 360x360 with 1 Axes>"
            ]
          },
          "metadata": {
            "tags": [],
            "needs_background": "light"
          }
        }
      ]
    },
    {
      "cell_type": "code",
      "metadata": {
        "id": "hC6P9kx1V4ny"
      },
      "source": [
        "# dis={0.00:12,0.20:11,0.1:10,0.15:9,0.3:8,0.32:7,0.4:6,0.5:5,0.45:4,0.6:3,0.7:2,0.8:1}\n",
        "# df['dis_map']=df['discount'].map(dis)"
      ],
      "execution_count": null,
      "outputs": []
    },
    {
      "cell_type": "code",
      "metadata": {
        "colab": {
          "base_uri": "https://localhost:8080/",
          "height": 297
        },
        "id": "rMYSbwbvpZLg",
        "outputId": "49d10cb7-e0e4-47ca-f6e2-7913e69fea09"
      },
      "source": [
        "sns.boxplot(x='no of items',y='profit',data=df)"
      ],
      "execution_count": null,
      "outputs": [
        {
          "output_type": "execute_result",
          "data": {
            "text/plain": [
              "<matplotlib.axes._subplots.AxesSubplot at 0x7f03319cb7d0>"
            ]
          },
          "metadata": {
            "tags": []
          },
          "execution_count": 165
        },
        {
          "output_type": "display_data",
          "data": {
            "image/png": "[encoded data removed]",
            "text/plain": [
              "<Figure size 432x288 with 1 Axes>"
            ]
          },
          "metadata": {
            "tags": [],
            "needs_background": "light"
          }
        }
      ]
    },
    {
      "cell_type": "code",
      "metadata": {
        "colab": {
          "base_uri": "https://localhost:8080/",
          "height": 297
        },
        "id": "-2YCsc4Kq7M2",
        "outputId": "79b469bb-a087-4bcf-c42c-e7deed24a272"
      },
      "source": [
        "sns.countplot(x='no of items',data=df)\n"
      ],
      "execution_count": null,
      "outputs": [
        {
          "output_type": "execute_result",
          "data": {
            "text/plain": [
              "<matplotlib.axes._subplots.AxesSubplot at 0x7f03319cb450>"
            ]
          },
          "metadata": {
            "tags": []
          },
          "execution_count": 166
        },
        {
          "output_type": "display_data",
          "data": {
            "image/png": "[encoded data removed]",
            "text/plain": [
              "<Figure size 432x288 with 1 Axes>"
            ]
          },
          "metadata": {
            "tags": [],
            "needs_background": "light"
          }
        }
      ]
    },
    {
      "cell_type": "code",
      "metadata": {
        "id": "U2M6nCE7X-i1"
      },
      "source": [
        ""
      ],
      "execution_count": null,
      "outputs": []
    },
    {
      "cell_type": "code",
      "metadata": {
        "colab": {
          "base_uri": "https://localhost:8080/",
          "height": 297
        },
        "id": "3VCQ5RUYq7RC",
        "outputId": "e180a426-ac54-4f99-fdb9-6529f7eeaba5"
      },
      "source": [
        "sns.barplot(x='no of items',y='profit',data=df)"
      ],
      "execution_count": null,
      "outputs": [
        {
          "output_type": "execute_result",
          "data": {
            "text/plain": [
              "<matplotlib.axes._subplots.AxesSubplot at 0x7f03316fe210>"
            ]
          },
          "metadata": {
            "tags": []
          },
          "execution_count": 167
        },
        {
          "output_type": "display_data",
          "data": {
            "image/png": "[encoded data removed]",
            "text/plain": [
              "<Figure size 432x288 with 1 Axes>"
            ]
          },
          "metadata": {
            "tags": [],
            "needs_background": "light"
          }
        }
      ]
    },
    {
      "cell_type": "code",
      "metadata": {
        "id": "vs0fhqMBYJJE"
      },
      "source": [
        "# items={7:14,5:13,4:12,2:11,3:10,1:9,6:8,8:7,9:6,10:5,13:4,12:3,11:2,14:1}\n",
        "items={13:14,14:13,12:12,11:11,8:10,7:9,9:8,5:7,4:6,6:5,10:4,3:3,2:2,1:1}\n",
        "df['item_map']=df['no of items'].map(items)"
      ],
      "execution_count": null,
      "outputs": []
    },
    {
      "cell_type": "code",
      "metadata": {
        "colab": {
          "base_uri": "https://localhost:8080/",
          "height": 357
        },
        "id": "VOnRZUFPbCVP",
        "outputId": "e50b8555-170b-4d20-dc3f-ebb8931c3762"
      },
      "source": [
        "df.head()"
      ],
      "execution_count": null,
      "outputs": [
        {
          "output_type": "execute_result",
          "data": {
            "text/html": [
              "<div>\n",
              "<style scoped>\n",
              "    .dataframe tbody tr th:only-of-type {\n",
              "        vertical-align: middle;\n",
              "    }\n",
              "\n",
              "    .dataframe tbody tr th {\n",
              "        vertical-align: top;\n",
              "    }\n",
              "\n",
              "    .dataframe thead th {\n",
              "        text-align: right;\n",
              "    }\n",
              "</style>\n",
              "<table border=\"1\" class=\"dataframe\">\n",
              "  <thead>\n",
              "    <tr style=\"text-align: right;\">\n",
              "      <th></th>\n",
              "      <th>departure city</th>\n",
              "      <th>discount</th>\n",
              "      <th>price</th>\n",
              "      <th>no of items</th>\n",
              "      <th>location</th>\n",
              "      <th>class</th>\n",
              "      <th>segment</th>\n",
              "      <th>sub-class</th>\n",
              "      <th>delivery type</th>\n",
              "      <th>RID</th>\n",
              "      <th>profit</th>\n",
              "      <th>delivery date</th>\n",
              "      <th>address code</th>\n",
              "      <th>departure state</th>\n",
              "      <th>placement date</th>\n",
              "      <th>item_map</th>\n",
              "    </tr>\n",
              "    <tr>\n",
              "      <th>id</th>\n",
              "      <th></th>\n",
              "      <th></th>\n",
              "      <th></th>\n",
              "      <th></th>\n",
              "      <th></th>\n",
              "      <th></th>\n",
              "      <th></th>\n",
              "      <th></th>\n",
              "      <th></th>\n",
              "      <th></th>\n",
              "      <th></th>\n",
              "      <th></th>\n",
              "      <th></th>\n",
              "      <th></th>\n",
              "      <th></th>\n",
              "      <th></th>\n",
              "    </tr>\n",
              "  </thead>\n",
              "  <tbody>\n",
              "    <tr>\n",
              "      <th>1</th>\n",
              "      <td>Houston</td>\n",
              "      <td>0.2</td>\n",
              "      <td>16.448</td>\n",
              "      <td>2</td>\n",
              "      <td>Central</td>\n",
              "      <td>kariox</td>\n",
              "      <td>Consumer</td>\n",
              "      <td>phone</td>\n",
              "      <td>Standard Class</td>\n",
              "      <td>7981</td>\n",
              "      <td>5.5512</td>\n",
              "      <td>2018-01-01</td>\n",
              "      <td>77095</td>\n",
              "      <td>Texas</td>\n",
              "      <td>2018-01-01</td>\n",
              "      <td>2</td>\n",
              "    </tr>\n",
              "    <tr>\n",
              "      <th>2</th>\n",
              "      <td>Westland</td>\n",
              "      <td>0.0</td>\n",
              "      <td>29.700</td>\n",
              "      <td>5</td>\n",
              "      <td>Central</td>\n",
              "      <td>kariox</td>\n",
              "      <td>Consumer</td>\n",
              "      <td>headset</td>\n",
              "      <td>Standard Class</td>\n",
              "      <td>6334</td>\n",
              "      <td>13.3650</td>\n",
              "      <td>2018-01-01</td>\n",
              "      <td>48185</td>\n",
              "      <td>Michigan</td>\n",
              "      <td>2018-01-01</td>\n",
              "      <td>7</td>\n",
              "    </tr>\n",
              "    <tr>\n",
              "      <th>3</th>\n",
              "      <td>Westland</td>\n",
              "      <td>0.0</td>\n",
              "      <td>14.730</td>\n",
              "      <td>3</td>\n",
              "      <td>Central</td>\n",
              "      <td>qexty</td>\n",
              "      <td>Consumer</td>\n",
              "      <td>shorts</td>\n",
              "      <td>Standard Class</td>\n",
              "      <td>6333</td>\n",
              "      <td>4.8609</td>\n",
              "      <td>2018-01-01</td>\n",
              "      <td>48185</td>\n",
              "      <td>Michigan</td>\n",
              "      <td>2018-01-01</td>\n",
              "      <td>3</td>\n",
              "    </tr>\n",
              "    <tr>\n",
              "      <th>4</th>\n",
              "      <td>Westland</td>\n",
              "      <td>0.0</td>\n",
              "      <td>43.920</td>\n",
              "      <td>3</td>\n",
              "      <td>Central</td>\n",
              "      <td>kariox</td>\n",
              "      <td>Consumer</td>\n",
              "      <td>television</td>\n",
              "      <td>Standard Class</td>\n",
              "      <td>6332</td>\n",
              "      <td>12.7368</td>\n",
              "      <td>2018-01-01</td>\n",
              "      <td>48185</td>\n",
              "      <td>Michigan</td>\n",
              "      <td>2018-01-01</td>\n",
              "      <td>3</td>\n",
              "    </tr>\n",
              "    <tr>\n",
              "      <th>5</th>\n",
              "      <td>Westland</td>\n",
              "      <td>0.0</td>\n",
              "      <td>66.580</td>\n",
              "      <td>2</td>\n",
              "      <td>Central</td>\n",
              "      <td>kariox</td>\n",
              "      <td>Consumer</td>\n",
              "      <td>laptop</td>\n",
              "      <td>Standard Class</td>\n",
              "      <td>6331</td>\n",
              "      <td>15.9792</td>\n",
              "      <td>2018-01-01</td>\n",
              "      <td>48185</td>\n",
              "      <td>Michigan</td>\n",
              "      <td>2018-01-01</td>\n",
              "      <td>2</td>\n",
              "    </tr>\n",
              "  </tbody>\n",
              "</table>\n",
              "</div>"
            ],
            "text/plain": [
              "   departure city  discount   price  ...  departure state placement date item_map\n",
              "id                                   ...                                         \n",
              "1         Houston       0.2  16.448  ...            Texas     2018-01-01        2\n",
              "2        Westland       0.0  29.700  ...         Michigan     2018-01-01        7\n",
              "3        Westland       0.0  14.730  ...         Michigan     2018-01-01        3\n",
              "4        Westland       0.0  43.920  ...         Michigan     2018-01-01        3\n",
              "5        Westland       0.0  66.580  ...         Michigan     2018-01-01        2\n",
              "\n",
              "[5 rows x 16 columns]"
            ]
          },
          "metadata": {
            "tags": []
          },
          "execution_count": 169
        }
      ]
    },
    {
      "cell_type": "code",
      "metadata": {
        "colab": {
          "base_uri": "https://localhost:8080/"
        },
        "id": "dwdZF23IrTqY",
        "outputId": "3f21d1c0-0cd5-4345-cc82-3a3b1589a70a"
      },
      "source": [
        "df.location.value_counts()"
      ],
      "execution_count": null,
      "outputs": [
        {
          "output_type": "execute_result",
          "data": {
            "text/plain": [
              "West       2117\n",
              "East       1920\n",
              "Central    1542\n",
              "South      1095\n",
              "Name: location, dtype: int64"
            ]
          },
          "metadata": {
            "tags": []
          },
          "execution_count": 170
        }
      ]
    },
    {
      "cell_type": "code",
      "metadata": {
        "colab": {
          "base_uri": "https://localhost:8080/",
          "height": 297
        },
        "id": "MbDbd1I8rTt4",
        "outputId": "8391ca52-9c69-443b-d98d-61a51924eba0"
      },
      "source": [
        "sns.boxplot(x='location',y='profit',data=df)\n"
      ],
      "execution_count": null,
      "outputs": [
        {
          "output_type": "execute_result",
          "data": {
            "text/plain": [
              "<matplotlib.axes._subplots.AxesSubplot at 0x7f0330ea6190>"
            ]
          },
          "metadata": {
            "tags": []
          },
          "execution_count": 171
        },
        {
          "output_type": "display_data",
          "data": {
            "image/png": "[encoded data removed]",
            "text/plain": [
              "<Figure size 432x288 with 1 Axes>"
            ]
          },
          "metadata": {
            "tags": [],
            "needs_background": "light"
          }
        }
      ]
    },
    {
      "cell_type": "code",
      "metadata": {
        "colab": {
          "base_uri": "https://localhost:8080/",
          "height": 297
        },
        "id": "jlDTI41CrYJi",
        "outputId": "76e5e04a-3fd7-4c2c-cc8f-d3e365e22476"
      },
      "source": [
        "sns.barplot(x='location',y='profit',data=df)\n"
      ],
      "execution_count": null,
      "outputs": [
        {
          "output_type": "execute_result",
          "data": {
            "text/plain": [
              "<matplotlib.axes._subplots.AxesSubplot at 0x7f0330dd6690>"
            ]
          },
          "metadata": {
            "tags": []
          },
          "execution_count": 172
        },
        {
          "output_type": "display_data",
          "data": {
            "image/png": "[encoded data removed]",
            "text/plain": [
              "<Figure size 432x288 with 1 Axes>"
            ]
          },
          "metadata": {
            "tags": [],
            "needs_background": "light"
          }
        }
      ]
    },
    {
      "cell_type": "code",
      "metadata": {
        "id": "xm2LwXIVcMnP"
      },
      "source": [
        "# loc={'East':4,'South':3,'West':2,'Central':1}\n",
        "loc={'East':1,'South':3,'West':2,'Central':4}\n",
        "df['loc_map']=df['location'].map(loc)"
      ],
      "execution_count": null,
      "outputs": []
    },
    {
      "cell_type": "code",
      "metadata": {
        "id": "ykP46YTkhNyT"
      },
      "source": [
        ""
      ],
      "execution_count": null,
      "outputs": []
    },
    {
      "cell_type": "code",
      "metadata": {
        "colab": {
          "base_uri": "https://localhost:8080/",
          "height": 357
        },
        "id": "X-uhKy5wrYOH",
        "outputId": "9ccd43fd-4895-4366-9c0b-5831f2795726"
      },
      "source": [
        "df.head()"
      ],
      "execution_count": null,
      "outputs": [
        {
          "output_type": "execute_result",
          "data": {
            "text/html": [
              "<div>\n",
              "<style scoped>\n",
              "    .dataframe tbody tr th:only-of-type {\n",
              "        vertical-align: middle;\n",
              "    }\n",
              "\n",
              "    .dataframe tbody tr th {\n",
              "        vertical-align: top;\n",
              "    }\n",
              "\n",
              "    .dataframe thead th {\n",
              "        text-align: right;\n",
              "    }\n",
              "</style>\n",
              "<table border=\"1\" class=\"dataframe\">\n",
              "  <thead>\n",
              "    <tr style=\"text-align: right;\">\n",
              "      <th></th>\n",
              "      <th>departure city</th>\n",
              "      <th>discount</th>\n",
              "      <th>price</th>\n",
              "      <th>no of items</th>\n",
              "      <th>location</th>\n",
              "      <th>class</th>\n",
              "      <th>segment</th>\n",
              "      <th>sub-class</th>\n",
              "      <th>delivery type</th>\n",
              "      <th>RID</th>\n",
              "      <th>profit</th>\n",
              "      <th>delivery date</th>\n",
              "      <th>address code</th>\n",
              "      <th>departure state</th>\n",
              "      <th>placement date</th>\n",
              "      <th>item_map</th>\n",
              "      <th>loc_map</th>\n",
              "    </tr>\n",
              "    <tr>\n",
              "      <th>id</th>\n",
              "      <th></th>\n",
              "      <th></th>\n",
              "      <th></th>\n",
              "      <th></th>\n",
              "      <th></th>\n",
              "      <th></th>\n",
              "      <th></th>\n",
              "      <th></th>\n",
              "      <th></th>\n",
              "      <th></th>\n",
              "      <th></th>\n",
              "      <th></th>\n",
              "      <th></th>\n",
              "      <th></th>\n",
              "      <th></th>\n",
              "      <th></th>\n",
              "      <th></th>\n",
              "    </tr>\n",
              "  </thead>\n",
              "  <tbody>\n",
              "    <tr>\n",
              "      <th>1</th>\n",
              "      <td>Houston</td>\n",
              "      <td>0.2</td>\n",
              "      <td>16.448</td>\n",
              "      <td>2</td>\n",
              "      <td>Central</td>\n",
              "      <td>kariox</td>\n",
              "      <td>Consumer</td>\n",
              "      <td>phone</td>\n",
              "      <td>Standard Class</td>\n",
              "      <td>7981</td>\n",
              "      <td>5.5512</td>\n",
              "      <td>2018-01-01</td>\n",
              "      <td>77095</td>\n",
              "      <td>Texas</td>\n",
              "      <td>2018-01-01</td>\n",
              "      <td>2</td>\n",
              "      <td>4</td>\n",
              "    </tr>\n",
              "    <tr>\n",
              "      <th>2</th>\n",
              "      <td>Westland</td>\n",
              "      <td>0.0</td>\n",
              "      <td>29.700</td>\n",
              "      <td>5</td>\n",
              "      <td>Central</td>\n",
              "      <td>kariox</td>\n",
              "      <td>Consumer</td>\n",
              "      <td>headset</td>\n",
              "      <td>Standard Class</td>\n",
              "      <td>6334</td>\n",
              "      <td>13.3650</td>\n",
              "      <td>2018-01-01</td>\n",
              "      <td>48185</td>\n",
              "      <td>Michigan</td>\n",
              "      <td>2018-01-01</td>\n",
              "      <td>7</td>\n",
              "      <td>4</td>\n",
              "    </tr>\n",
              "    <tr>\n",
              "      <th>3</th>\n",
              "      <td>Westland</td>\n",
              "      <td>0.0</td>\n",
              "      <td>14.730</td>\n",
              "      <td>3</td>\n",
              "      <td>Central</td>\n",
              "      <td>qexty</td>\n",
              "      <td>Consumer</td>\n",
              "      <td>shorts</td>\n",
              "      <td>Standard Class</td>\n",
              "      <td>6333</td>\n",
              "      <td>4.8609</td>\n",
              "      <td>2018-01-01</td>\n",
              "      <td>48185</td>\n",
              "      <td>Michigan</td>\n",
              "      <td>2018-01-01</td>\n",
              "      <td>3</td>\n",
              "      <td>4</td>\n",
              "    </tr>\n",
              "    <tr>\n",
              "      <th>4</th>\n",
              "      <td>Westland</td>\n",
              "      <td>0.0</td>\n",
              "      <td>43.920</td>\n",
              "      <td>3</td>\n",
              "      <td>Central</td>\n",
              "      <td>kariox</td>\n",
              "      <td>Consumer</td>\n",
              "      <td>television</td>\n",
              "      <td>Standard Class</td>\n",
              "      <td>6332</td>\n",
              "      <td>12.7368</td>\n",
              "      <td>2018-01-01</td>\n",
              "      <td>48185</td>\n",
              "      <td>Michigan</td>\n",
              "      <td>2018-01-01</td>\n",
              "      <td>3</td>\n",
              "      <td>4</td>\n",
              "    </tr>\n",
              "    <tr>\n",
              "      <th>5</th>\n",
              "      <td>Westland</td>\n",
              "      <td>0.0</td>\n",
              "      <td>66.580</td>\n",
              "      <td>2</td>\n",
              "      <td>Central</td>\n",
              "      <td>kariox</td>\n",
              "      <td>Consumer</td>\n",
              "      <td>laptop</td>\n",
              "      <td>Standard Class</td>\n",
              "      <td>6331</td>\n",
              "      <td>15.9792</td>\n",
              "      <td>2018-01-01</td>\n",
              "      <td>48185</td>\n",
              "      <td>Michigan</td>\n",
              "      <td>2018-01-01</td>\n",
              "      <td>2</td>\n",
              "      <td>4</td>\n",
              "    </tr>\n",
              "  </tbody>\n",
              "</table>\n",
              "</div>"
            ],
            "text/plain": [
              "   departure city  discount   price  ...  placement date item_map loc_map\n",
              "id                                   ...                                 \n",
              "1         Houston       0.2  16.448  ...      2018-01-01        2       4\n",
              "2        Westland       0.0  29.700  ...      2018-01-01        7       4\n",
              "3        Westland       0.0  14.730  ...      2018-01-01        3       4\n",
              "4        Westland       0.0  43.920  ...      2018-01-01        3       4\n",
              "5        Westland       0.0  66.580  ...      2018-01-01        2       4\n",
              "\n",
              "[5 rows x 17 columns]"
            ]
          },
          "metadata": {
            "tags": []
          },
          "execution_count": 174
        }
      ]
    },
    {
      "cell_type": "code",
      "metadata": {
        "colab": {
          "base_uri": "https://localhost:8080/",
          "height": 297
        },
        "id": "IF48cjD2nrjA",
        "outputId": "e26712b4-9c24-4f74-d793-b211cfe3c791"
      },
      "source": [
        "sns.boxplot(y='class',x='profit',data=df)"
      ],
      "execution_count": null,
      "outputs": [
        {
          "output_type": "execute_result",
          "data": {
            "text/plain": [
              "<matplotlib.axes._subplots.AxesSubplot at 0x7f0330dad9d0>"
            ]
          },
          "metadata": {
            "tags": []
          },
          "execution_count": 175
        },
        {
          "output_type": "display_data",
          "data": {
            "image/png": "[encoded data removed]",
            "text/plain": [
              "<Figure size 432x288 with 1 Axes>"
            ]
          },
          "metadata": {
            "tags": [],
            "needs_background": "light"
          }
        }
      ]
    },
    {
      "cell_type": "code",
      "metadata": {
        "colab": {
          "base_uri": "https://localhost:8080/",
          "height": 297
        },
        "id": "79lsNZGzn8fi",
        "outputId": "6a34bd25-2224-47b9-a188-5b0a77bee703"
      },
      "source": [
        "sns.barplot(x='class',y='profit',data=df)"
      ],
      "execution_count": null,
      "outputs": [
        {
          "output_type": "execute_result",
          "data": {
            "text/plain": [
              "<matplotlib.axes._subplots.AxesSubplot at 0x7f033173b050>"
            ]
          },
          "metadata": {
            "tags": []
          },
          "execution_count": 176
        },
        {
          "output_type": "display_data",
          "data": {
            "image/png": "[encoded data removed]",
            "text/plain": [
              "<Figure size 432x288 with 1 Axes>"
            ]
          },
          "metadata": {
            "tags": [],
            "needs_background": "light"
          }
        }
      ]
    },
    {
      "cell_type": "code",
      "metadata": {
        "id": "D7EHZ4emgzZ-"
      },
      "source": [
        "class_map={'fynota':3,'kariox':2, 'qexty':1}\n",
        "df['class_map']=df['class'].map(class_map)"
      ],
      "execution_count": null,
      "outputs": []
    },
    {
      "cell_type": "code",
      "metadata": {
        "colab": {
          "base_uri": "https://localhost:8080/"
        },
        "id": "8GN9A3lYr1vy",
        "outputId": "940285de-16b9-4b06-8051-7b032048f54c"
      },
      "source": [
        "df.segment.value_counts()"
      ],
      "execution_count": null,
      "outputs": [
        {
          "output_type": "execute_result",
          "data": {
            "text/plain": [
              "Consumer       3507\n",
              "Corporate      2043\n",
              "Home Office    1124\n",
              "Name: segment, dtype: int64"
            ]
          },
          "metadata": {
            "tags": []
          },
          "execution_count": 178
        }
      ]
    },
    {
      "cell_type": "code",
      "metadata": {
        "colab": {
          "base_uri": "https://localhost:8080/",
          "height": 297
        },
        "id": "xeLz-vKRoG4T",
        "outputId": "6428f224-393b-446e-aa14-6d5a064049c2"
      },
      "source": [
        "sns.boxplot(x='segment',y='profit',data=df)\n"
      ],
      "execution_count": null,
      "outputs": [
        {
          "output_type": "execute_result",
          "data": {
            "text/plain": [
              "<matplotlib.axes._subplots.AxesSubplot at 0x7f0331a404d0>"
            ]
          },
          "metadata": {
            "tags": []
          },
          "execution_count": 179
        },
        {
          "output_type": "display_data",
          "data": {
            "image/png": "[encoded data removed]",
            "text/plain": [
              "<Figure size 432x288 with 1 Axes>"
            ]
          },
          "metadata": {
            "tags": [],
            "needs_background": "light"
          }
        }
      ]
    },
    {
      "cell_type": "code",
      "metadata": {
        "colab": {
          "base_uri": "https://localhost:8080/",
          "height": 297
        },
        "id": "UDsK6rjtr75e",
        "outputId": "ff2a2304-ad49-4b07-d1c6-944243c4fb00"
      },
      "source": [
        "sns.barplot(x='segment',y='profit',data=df)\n"
      ],
      "execution_count": null,
      "outputs": [
        {
          "output_type": "execute_result",
          "data": {
            "text/plain": [
              "<matplotlib.axes._subplots.AxesSubplot at 0x7f0330c49250>"
            ]
          },
          "metadata": {
            "tags": []
          },
          "execution_count": 180
        },
        {
          "output_type": "display_data",
          "data": {
            "image/png": "[encoded data removed]",
            "text/plain": [
              "<Figure size 432x288 with 1 Axes>"
            ]
          },
          "metadata": {
            "tags": [],
            "needs_background": "light"
          }
        }
      ]
    },
    {
      "cell_type": "code",
      "metadata": {
        "id": "T4pd0TmBhLvc"
      },
      "source": [
        "segment={'Home Office':3,'Consumer':2,'Corporate':1}\n",
        "df['seg_map']=df['segment'].map(segment)"
      ],
      "execution_count": null,
      "outputs": []
    },
    {
      "cell_type": "code",
      "metadata": {
        "colab": {
          "base_uri": "https://localhost:8080/",
          "height": 297
        },
        "id": "rppIzzT8sCsW",
        "outputId": "3a992c4b-6860-40fb-90a6-e924b5f1d2e6"
      },
      "source": [
        "sns.boxplot(y='sub-class',x='profit',data=df)\n"
      ],
      "execution_count": null,
      "outputs": [
        {
          "output_type": "execute_result",
          "data": {
            "text/plain": [
              "<matplotlib.axes._subplots.AxesSubplot at 0x7f0330bc8f50>"
            ]
          },
          "metadata": {
            "tags": []
          },
          "execution_count": 182
        },
        {
          "output_type": "display_data",
          "data": {
            "image/png": "[encoded data removed]",
            "text/plain": [
              "<Figure size 432x288 with 1 Axes>"
            ]
          },
          "metadata": {
            "tags": [],
            "needs_background": "light"
          }
        }
      ]
    },
    {
      "cell_type": "code",
      "metadata": {
        "colab": {
          "base_uri": "https://localhost:8080/",
          "height": 297
        },
        "id": "bTi-LnQCsXKN",
        "outputId": "409ffd56-911d-40d5-8068-e99830eac63e"
      },
      "source": [
        "sns.barplot(y='sub-class',x='profit',data=df)"
      ],
      "execution_count": null,
      "outputs": [
        {
          "output_type": "execute_result",
          "data": {
            "text/plain": [
              "<matplotlib.axes._subplots.AxesSubplot at 0x7f03309f6790>"
            ]
          },
          "metadata": {
            "tags": []
          },
          "execution_count": 183
        },
        {
          "output_type": "display_data",
          "data": {
            "image/png": "[encoded data removed]",
            "text/plain": [
              "<Figure size 432x288 with 1 Axes>"
            ]
          },
          "metadata": {
            "tags": [],
            "needs_background": "light"
          }
        }
      ]
    },
    {
      "cell_type": "code",
      "metadata": {
        "id": "tvws6MOwhyNu"
      },
      "source": [
        "# sub={'fastfood':17,'phone':16,'tablet':15,'television':14,'watch':13,'chocolates':12,'sweets':11,'tshirts':10,'battery':9,'colddrinks':8,'laptop':7,'headset':6,'shorts':5,'pants':4,'charger':3,'lighting':2,'hoddies':1}\n",
        "sub={'fastfood':17,'sweets':16,'chocolates':15,'colddrinks':14,'tshirts':13,'battery':12,'laptop':11,'phone':10,'watch':9,'headset':8,'shorts':7,'tablet':6,'television':5,'pants':4,'charger':3,'lighting':2,'hoddies':1}\n",
        "df['sub_class_map']=df['sub-class'].map(sub)"
      ],
      "execution_count": null,
      "outputs": []
    },
    {
      "cell_type": "code",
      "metadata": {
        "colab": {
          "base_uri": "https://localhost:8080/"
        },
        "id": "zawskd6Ds2_z",
        "outputId": "8571a1ba-f0d1-40c4-d239-28f576e8e237"
      },
      "source": [
        "df['delivery type'].value_counts()"
      ],
      "execution_count": null,
      "outputs": [
        {
          "output_type": "execute_result",
          "data": {
            "text/plain": [
              "Standard Class    4067\n",
              "Second Class      1286\n",
              "First Class        964\n",
              "Same Day           356\n",
              "Name: delivery type, dtype: int64"
            ]
          },
          "metadata": {
            "tags": []
          },
          "execution_count": 185
        }
      ]
    },
    {
      "cell_type": "code",
      "metadata": {
        "colab": {
          "base_uri": "https://localhost:8080/",
          "height": 297
        },
        "id": "LJULgjW7saHL",
        "outputId": "efc70ff1-20f6-4025-fcba-3c4810ddfcfa"
      },
      "source": [
        "sns.boxplot(x='delivery type',y='profit',data=df)\n"
      ],
      "execution_count": null,
      "outputs": [
        {
          "output_type": "execute_result",
          "data": {
            "text/plain": [
              "<matplotlib.axes._subplots.AxesSubplot at 0x7f033092b350>"
            ]
          },
          "metadata": {
            "tags": []
          },
          "execution_count": 186
        },
        {
          "output_type": "display_data",
          "data": {
            "image/png": "[encoded data removed]",
            "text/plain": [
              "<Figure size 432x288 with 1 Axes>"
            ]
          },
          "metadata": {
            "tags": [],
            "needs_background": "light"
          }
        }
      ]
    },
    {
      "cell_type": "code",
      "metadata": {
        "colab": {
          "base_uri": "https://localhost:8080/",
          "height": 297
        },
        "id": "RqoRkaCwsskT",
        "outputId": "10b153fe-eec5-4244-d11f-28a5e54667e3"
      },
      "source": [
        "sns.barplot(x='delivery type',y='profit',data=df)\n",
        "\n"
      ],
      "execution_count": null,
      "outputs": [
        {
          "output_type": "execute_result",
          "data": {
            "text/plain": [
              "<matplotlib.axes._subplots.AxesSubplot at 0x7f0330856210>"
            ]
          },
          "metadata": {
            "tags": []
          },
          "execution_count": 187
        },
        {
          "output_type": "display_data",
          "data": {
            "image/png": "[encoded data removed]",
            "text/plain": [
              "<Figure size 432x288 with 1 Axes>"
            ]
          },
          "metadata": {
            "tags": [],
            "needs_background": "light"
          }
        }
      ]
    },
    {
      "cell_type": "code",
      "metadata": {
        "id": "6-z6Jby0k6wz"
      },
      "source": [
        "delivery={'First Class':4,'Same Day':3,'Second Class':2,'Standard Class':1}\n",
        "df['del_map']=df['delivery type'].map(delivery)"
      ],
      "execution_count": null,
      "outputs": []
    },
    {
      "cell_type": "code",
      "metadata": {
        "colab": {
          "base_uri": "https://localhost:8080/",
          "height": 357
        },
        "id": "1LOUnTFyswgo",
        "outputId": "8e51d398-09f6-4cca-a77c-0a940fe4af2e"
      },
      "source": [
        "df.head()"
      ],
      "execution_count": null,
      "outputs": [
        {
          "output_type": "execute_result",
          "data": {
            "text/html": [
              "<div>\n",
              "<style scoped>\n",
              "    .dataframe tbody tr th:only-of-type {\n",
              "        vertical-align: middle;\n",
              "    }\n",
              "\n",
              "    .dataframe tbody tr th {\n",
              "        vertical-align: top;\n",
              "    }\n",
              "\n",
              "    .dataframe thead th {\n",
              "        text-align: right;\n",
              "    }\n",
              "</style>\n",
              "<table border=\"1\" class=\"dataframe\">\n",
              "  <thead>\n",
              "    <tr style=\"text-align: right;\">\n",
              "      <th></th>\n",
              "      <th>departure city</th>\n",
              "      <th>discount</th>\n",
              "      <th>price</th>\n",
              "      <th>no of items</th>\n",
              "      <th>location</th>\n",
              "      <th>class</th>\n",
              "      <th>segment</th>\n",
              "      <th>sub-class</th>\n",
              "      <th>delivery type</th>\n",
              "      <th>RID</th>\n",
              "      <th>profit</th>\n",
              "      <th>delivery date</th>\n",
              "      <th>address code</th>\n",
              "      <th>departure state</th>\n",
              "      <th>placement date</th>\n",
              "      <th>item_map</th>\n",
              "      <th>loc_map</th>\n",
              "      <th>class_map</th>\n",
              "      <th>seg_map</th>\n",
              "      <th>sub_class_map</th>\n",
              "      <th>del_map</th>\n",
              "    </tr>\n",
              "    <tr>\n",
              "      <th>id</th>\n",
              "      <th></th>\n",
              "      <th></th>\n",
              "      <th></th>\n",
              "      <th></th>\n",
              "      <th></th>\n",
              "      <th></th>\n",
              "      <th></th>\n",
              "      <th></th>\n",
              "      <th></th>\n",
              "      <th></th>\n",
              "      <th></th>\n",
              "      <th></th>\n",
              "      <th></th>\n",
              "      <th></th>\n",
              "      <th></th>\n",
              "      <th></th>\n",
              "      <th></th>\n",
              "      <th></th>\n",
              "      <th></th>\n",
              "      <th></th>\n",
              "      <th></th>\n",
              "    </tr>\n",
              "  </thead>\n",
              "  <tbody>\n",
              "    <tr>\n",
              "      <th>1</th>\n",
              "      <td>Houston</td>\n",
              "      <td>0.2</td>\n",
              "      <td>16.448</td>\n",
              "      <td>2</td>\n",
              "      <td>Central</td>\n",
              "      <td>kariox</td>\n",
              "      <td>Consumer</td>\n",
              "      <td>phone</td>\n",
              "      <td>Standard Class</td>\n",
              "      <td>7981</td>\n",
              "      <td>5.5512</td>\n",
              "      <td>2018-01-01</td>\n",
              "      <td>77095</td>\n",
              "      <td>Texas</td>\n",
              "      <td>2018-01-01</td>\n",
              "      <td>2</td>\n",
              "      <td>4</td>\n",
              "      <td>2</td>\n",
              "      <td>2</td>\n",
              "      <td>10.0</td>\n",
              "      <td>1.0</td>\n",
              "    </tr>\n",
              "    <tr>\n",
              "      <th>2</th>\n",
              "      <td>Westland</td>\n",
              "      <td>0.0</td>\n",
              "      <td>29.700</td>\n",
              "      <td>5</td>\n",
              "      <td>Central</td>\n",
              "      <td>kariox</td>\n",
              "      <td>Consumer</td>\n",
              "      <td>headset</td>\n",
              "      <td>Standard Class</td>\n",
              "      <td>6334</td>\n",
              "      <td>13.3650</td>\n",
              "      <td>2018-01-01</td>\n",
              "      <td>48185</td>\n",
              "      <td>Michigan</td>\n",
              "      <td>2018-01-01</td>\n",
              "      <td>7</td>\n",
              "      <td>4</td>\n",
              "      <td>2</td>\n",
              "      <td>2</td>\n",
              "      <td>8.0</td>\n",
              "      <td>1.0</td>\n",
              "    </tr>\n",
              "    <tr>\n",
              "      <th>3</th>\n",
              "      <td>Westland</td>\n",
              "      <td>0.0</td>\n",
              "      <td>14.730</td>\n",
              "      <td>3</td>\n",
              "      <td>Central</td>\n",
              "      <td>qexty</td>\n",
              "      <td>Consumer</td>\n",
              "      <td>shorts</td>\n",
              "      <td>Standard Class</td>\n",
              "      <td>6333</td>\n",
              "      <td>4.8609</td>\n",
              "      <td>2018-01-01</td>\n",
              "      <td>48185</td>\n",
              "      <td>Michigan</td>\n",
              "      <td>2018-01-01</td>\n",
              "      <td>3</td>\n",
              "      <td>4</td>\n",
              "      <td>1</td>\n",
              "      <td>2</td>\n",
              "      <td>7.0</td>\n",
              "      <td>1.0</td>\n",
              "    </tr>\n",
              "    <tr>\n",
              "      <th>4</th>\n",
              "      <td>Westland</td>\n",
              "      <td>0.0</td>\n",
              "      <td>43.920</td>\n",
              "      <td>3</td>\n",
              "      <td>Central</td>\n",
              "      <td>kariox</td>\n",
              "      <td>Consumer</td>\n",
              "      <td>television</td>\n",
              "      <td>Standard Class</td>\n",
              "      <td>6332</td>\n",
              "      <td>12.7368</td>\n",
              "      <td>2018-01-01</td>\n",
              "      <td>48185</td>\n",
              "      <td>Michigan</td>\n",
              "      <td>2018-01-01</td>\n",
              "      <td>3</td>\n",
              "      <td>4</td>\n",
              "      <td>2</td>\n",
              "      <td>2</td>\n",
              "      <td>5.0</td>\n",
              "      <td>1.0</td>\n",
              "    </tr>\n",
              "    <tr>\n",
              "      <th>5</th>\n",
              "      <td>Westland</td>\n",
              "      <td>0.0</td>\n",
              "      <td>66.580</td>\n",
              "      <td>2</td>\n",
              "      <td>Central</td>\n",
              "      <td>kariox</td>\n",
              "      <td>Consumer</td>\n",
              "      <td>laptop</td>\n",
              "      <td>Standard Class</td>\n",
              "      <td>6331</td>\n",
              "      <td>15.9792</td>\n",
              "      <td>2018-01-01</td>\n",
              "      <td>48185</td>\n",
              "      <td>Michigan</td>\n",
              "      <td>2018-01-01</td>\n",
              "      <td>2</td>\n",
              "      <td>4</td>\n",
              "      <td>2</td>\n",
              "      <td>2</td>\n",
              "      <td>11.0</td>\n",
              "      <td>1.0</td>\n",
              "    </tr>\n",
              "  </tbody>\n",
              "</table>\n",
              "</div>"
            ],
            "text/plain": [
              "   departure city  discount   price  ...  seg_map sub_class_map del_map\n",
              "id                                   ...                               \n",
              "1         Houston       0.2  16.448  ...        2          10.0     1.0\n",
              "2        Westland       0.0  29.700  ...        2           8.0     1.0\n",
              "3        Westland       0.0  14.730  ...        2           7.0     1.0\n",
              "4        Westland       0.0  43.920  ...        2           5.0     1.0\n",
              "5        Westland       0.0  66.580  ...        2          11.0     1.0\n",
              "\n",
              "[5 rows x 21 columns]"
            ]
          },
          "metadata": {
            "tags": []
          },
          "execution_count": 189
        }
      ]
    },
    {
      "cell_type": "code",
      "metadata": {
        "colab": {
          "base_uri": "https://localhost:8080/"
        },
        "id": "ZUwUGE78tFhO",
        "outputId": "639dca30-6fd3-4ac5-9f7f-bd1004b44fcd"
      },
      "source": [
        "df.groupby('departure state')['profit'].mean()"
      ],
      "execution_count": null,
      "outputs": [
        {
          "output_type": "execute_result",
          "data": {
            "text/plain": [
              "departure state\n",
              "Alabama                 117.565516\n",
              "Arizona                 -13.740675\n",
              "Arkansas                 74.372790\n",
              "California               35.164709\n",
              "Colorado                -17.289336\n",
              "Connecticut              42.327713\n",
              "Delaware                 50.963245\n",
              "District of Columbia    128.065663\n",
              "Florida                  -3.211860\n",
              "Georgia                  54.300818\n",
              "Idaho                    48.285731\n",
              "Illinois                -17.851031\n",
              "Indiana                  55.671662\n",
              "Iowa                     64.853436\n",
              "Kansas                   31.837728\n",
              "Kentucky                 73.272445\n",
              "Louisiana                35.114221\n",
              "Maine                    56.810775\n",
              "Maryland                 62.508409\n",
              "Massachusetts            52.863695\n",
              "Michigan                 49.772869\n",
              "Minnesota                74.656660\n",
              "Mississippi              53.610355\n",
              "Missouri                 61.533664\n",
              "Montana                 130.211036\n",
              "Nebraska                 39.859425\n",
              "Nevada                   43.724007\n",
              "New Hampshire            61.314440\n",
              "New Jersey               59.777457\n",
              "New Mexico               21.981713\n",
              "New York                 52.804424\n",
              "North Carolina           -3.313291\n",
              "Ohio                    -19.539886\n",
              "Oklahoma                 63.249069\n",
              "Oregon                   -8.652604\n",
              "Pennsylvania            -22.576105\n",
              "Rhode Island            124.301735\n",
              "South Carolina           43.365268\n",
              "South Dakota             12.189150\n",
              "Tennessee                -9.624109\n",
              "Texas                   -11.035753\n",
              "Utah                     54.456811\n",
              "Vermont                 266.748050\n",
              "Virginia                 77.733066\n",
              "Washington               54.765522\n",
              "Wisconsin                89.334022\n",
              "Wyoming                 100.196000\n",
              "Name: profit, dtype: float64"
            ]
          },
          "metadata": {
            "tags": []
          },
          "execution_count": 190
        }
      ]
    },
    {
      "cell_type": "code",
      "metadata": {
        "colab": {
          "base_uri": "https://localhost:8080/"
        },
        "id": "pTuy_rVpvIuA",
        "outputId": "b14d02dd-2d8d-4148-f54c-cfddac34ad1f"
      },
      "source": [
        "df.groupby('departure state')['profit'].describe().sort_values('mean',ascending=False)['mean'].tolist()"
      ],
      "execution_count": null,
      "outputs": [
        {
          "output_type": "execute_result",
          "data": {
            "text/plain": [
              "[266.74805,\n",
              " 130.2110357142857,\n",
              " 128.0656625,\n",
              " 124.30173529411765,\n",
              " 117.56551555555555,\n",
              " 100.196,\n",
              " 89.33402207792204,\n",
              " 77.73306555555554,\n",
              " 74.65666,\n",
              " 74.37279024390247,\n",
              " 73.27244545454545,\n",
              " 64.85343571428572,\n",
              " 63.249069387755085,\n",
              " 62.508408823529436,\n",
              " 61.53366410256411,\n",
              " 61.31443999999999,\n",
              " 59.77745697674421,\n",
              " 56.81077500000001,\n",
              " 55.67166206896551,\n",
              " 54.76552195945939,\n",
              " 54.45681052631579,\n",
              " 54.300818032786886,\n",
              " 53.610354999999984,\n",
              " 52.863694791666695,\n",
              " 52.804423544631334,\n",
              " 50.963245454545444,\n",
              " 49.772868947368394,\n",
              " 48.28573076923078,\n",
              " 43.724006666666675,\n",
              " 43.36526764705883,\n",
              " 42.32771250000001,\n",
              " 39.859425,\n",
              " 35.16470896191192,\n",
              " 35.11422142857143,\n",
              " 31.83772777777778,\n",
              " 21.981713333333335,\n",
              " 12.189150000000001,\n",
              " -3.2118600790513847,\n",
              " -3.3132907975460104,\n",
              " -8.652604255319146,\n",
              " -9.62410891089109,\n",
              " -11.03575309200603,\n",
              " -13.740675000000001,\n",
              " -17.28933553719008,\n",
              " -17.85103095975234,\n",
              " -19.539885901639337,\n",
              " -22.57610462724936]"
            ]
          },
          "metadata": {
            "tags": []
          },
          "execution_count": 191
        }
      ]
    },
    {
      "cell_type": "code",
      "metadata": {
        "id": "3khIIkdbtMID"
      },
      "source": [
        "df_dic = df.groupby('departure state')['profit'].mean().reset_index()\n"
      ],
      "execution_count": null,
      "outputs": []
    },
    {
      "cell_type": "code",
      "metadata": {
        "id": "xpiFMgAruUuC"
      },
      "source": [
        "df_dic['loc_class'] = pd.cut(x = df_dic['profit'], bins = [-50,0,50,100,300] , labels = [1,2,3,4])"
      ],
      "execution_count": null,
      "outputs": []
    },
    {
      "cell_type": "code",
      "metadata": {
        "id": "SRvybaGou4gZ"
      },
      "source": [
        "df_dic['loc_class'] = df_dic['loc_class'].astype(int)"
      ],
      "execution_count": null,
      "outputs": []
    },
    {
      "cell_type": "code",
      "metadata": {
        "id": "LCJ2gQl5wrvF"
      },
      "source": [
        "dep_state = df_dic.groupby('departure state')['loc_class'].mean().to_dict()"
      ],
      "execution_count": null,
      "outputs": []
    },
    {
      "cell_type": "code",
      "metadata": {
        "id": "yPnAuj3Iwy6E"
      },
      "source": [
        "df['dep_class'] = df['departure state'].map(dep_state)"
      ],
      "execution_count": null,
      "outputs": []
    },
    {
      "cell_type": "code",
      "metadata": {
        "colab": {
          "base_uri": "https://localhost:8080/",
          "height": 357
        },
        "id": "Hian2xOXw68U",
        "outputId": "3655fab6-5100-46b7-bcba-86680a7a941e"
      },
      "source": [
        "df.head()"
      ],
      "execution_count": null,
      "outputs": [
        {
          "output_type": "execute_result",
          "data": {
            "text/html": [
              "<div>\n",
              "<style scoped>\n",
              "    .dataframe tbody tr th:only-of-type {\n",
              "        vertical-align: middle;\n",
              "    }\n",
              "\n",
              "    .dataframe tbody tr th {\n",
              "        vertical-align: top;\n",
              "    }\n",
              "\n",
              "    .dataframe thead th {\n",
              "        text-align: right;\n",
              "    }\n",
              "</style>\n",
              "<table border=\"1\" class=\"dataframe\">\n",
              "  <thead>\n",
              "    <tr style=\"text-align: right;\">\n",
              "      <th></th>\n",
              "      <th>departure city</th>\n",
              "      <th>discount</th>\n",
              "      <th>price</th>\n",
              "      <th>no of items</th>\n",
              "      <th>location</th>\n",
              "      <th>class</th>\n",
              "      <th>segment</th>\n",
              "      <th>sub-class</th>\n",
              "      <th>delivery type</th>\n",
              "      <th>RID</th>\n",
              "      <th>profit</th>\n",
              "      <th>delivery date</th>\n",
              "      <th>address code</th>\n",
              "      <th>departure state</th>\n",
              "      <th>placement date</th>\n",
              "      <th>item_map</th>\n",
              "      <th>loc_map</th>\n",
              "      <th>class_map</th>\n",
              "      <th>seg_map</th>\n",
              "      <th>sub_class_map</th>\n",
              "      <th>del_map</th>\n",
              "      <th>dep_class</th>\n",
              "    </tr>\n",
              "    <tr>\n",
              "      <th>id</th>\n",
              "      <th></th>\n",
              "      <th></th>\n",
              "      <th></th>\n",
              "      <th></th>\n",
              "      <th></th>\n",
              "      <th></th>\n",
              "      <th></th>\n",
              "      <th></th>\n",
              "      <th></th>\n",
              "      <th></th>\n",
              "      <th></th>\n",
              "      <th></th>\n",
              "      <th></th>\n",
              "      <th></th>\n",
              "      <th></th>\n",
              "      <th></th>\n",
              "      <th></th>\n",
              "      <th></th>\n",
              "      <th></th>\n",
              "      <th></th>\n",
              "      <th></th>\n",
              "      <th></th>\n",
              "    </tr>\n",
              "  </thead>\n",
              "  <tbody>\n",
              "    <tr>\n",
              "      <th>1</th>\n",
              "      <td>Houston</td>\n",
              "      <td>0.2</td>\n",
              "      <td>16.448</td>\n",
              "      <td>2</td>\n",
              "      <td>Central</td>\n",
              "      <td>kariox</td>\n",
              "      <td>Consumer</td>\n",
              "      <td>phone</td>\n",
              "      <td>Standard Class</td>\n",
              "      <td>7981</td>\n",
              "      <td>5.5512</td>\n",
              "      <td>2018-01-01</td>\n",
              "      <td>77095</td>\n",
              "      <td>Texas</td>\n",
              "      <td>2018-01-01</td>\n",
              "      <td>2</td>\n",
              "      <td>4</td>\n",
              "      <td>2</td>\n",
              "      <td>2</td>\n",
              "      <td>10.0</td>\n",
              "      <td>1.0</td>\n",
              "      <td>1</td>\n",
              "    </tr>\n",
              "    <tr>\n",
              "      <th>2</th>\n",
              "      <td>Westland</td>\n",
              "      <td>0.0</td>\n",
              "      <td>29.700</td>\n",
              "      <td>5</td>\n",
              "      <td>Central</td>\n",
              "      <td>kariox</td>\n",
              "      <td>Consumer</td>\n",
              "      <td>headset</td>\n",
              "      <td>Standard Class</td>\n",
              "      <td>6334</td>\n",
              "      <td>13.3650</td>\n",
              "      <td>2018-01-01</td>\n",
              "      <td>48185</td>\n",
              "      <td>Michigan</td>\n",
              "      <td>2018-01-01</td>\n",
              "      <td>7</td>\n",
              "      <td>4</td>\n",
              "      <td>2</td>\n",
              "      <td>2</td>\n",
              "      <td>8.0</td>\n",
              "      <td>1.0</td>\n",
              "      <td>2</td>\n",
              "    </tr>\n",
              "    <tr>\n",
              "      <th>3</th>\n",
              "      <td>Westland</td>\n",
              "      <td>0.0</td>\n",
              "      <td>14.730</td>\n",
              "      <td>3</td>\n",
              "      <td>Central</td>\n",
              "      <td>qexty</td>\n",
              "      <td>Consumer</td>\n",
              "      <td>shorts</td>\n",
              "      <td>Standard Class</td>\n",
              "      <td>6333</td>\n",
              "      <td>4.8609</td>\n",
              "      <td>2018-01-01</td>\n",
              "      <td>48185</td>\n",
              "      <td>Michigan</td>\n",
              "      <td>2018-01-01</td>\n",
              "      <td>3</td>\n",
              "      <td>4</td>\n",
              "      <td>1</td>\n",
              "      <td>2</td>\n",
              "      <td>7.0</td>\n",
              "      <td>1.0</td>\n",
              "      <td>2</td>\n",
              "    </tr>\n",
              "    <tr>\n",
              "      <th>4</th>\n",
              "      <td>Westland</td>\n",
              "      <td>0.0</td>\n",
              "      <td>43.920</td>\n",
              "      <td>3</td>\n",
              "      <td>Central</td>\n",
              "      <td>kariox</td>\n",
              "      <td>Consumer</td>\n",
              "      <td>television</td>\n",
              "      <td>Standard Class</td>\n",
              "      <td>6332</td>\n",
              "      <td>12.7368</td>\n",
              "      <td>2018-01-01</td>\n",
              "      <td>48185</td>\n",
              "      <td>Michigan</td>\n",
              "      <td>2018-01-01</td>\n",
              "      <td>3</td>\n",
              "      <td>4</td>\n",
              "      <td>2</td>\n",
              "      <td>2</td>\n",
              "      <td>5.0</td>\n",
              "      <td>1.0</td>\n",
              "      <td>2</td>\n",
              "    </tr>\n",
              "    <tr>\n",
              "      <th>5</th>\n",
              "      <td>Westland</td>\n",
              "      <td>0.0</td>\n",
              "      <td>66.580</td>\n",
              "      <td>2</td>\n",
              "      <td>Central</td>\n",
              "      <td>kariox</td>\n",
              "      <td>Consumer</td>\n",
              "      <td>laptop</td>\n",
              "      <td>Standard Class</td>\n",
              "      <td>6331</td>\n",
              "      <td>15.9792</td>\n",
              "      <td>2018-01-01</td>\n",
              "      <td>48185</td>\n",
              "      <td>Michigan</td>\n",
              "      <td>2018-01-01</td>\n",
              "      <td>2</td>\n",
              "      <td>4</td>\n",
              "      <td>2</td>\n",
              "      <td>2</td>\n",
              "      <td>11.0</td>\n",
              "      <td>1.0</td>\n",
              "      <td>2</td>\n",
              "    </tr>\n",
              "  </tbody>\n",
              "</table>\n",
              "</div>"
            ],
            "text/plain": [
              "   departure city  discount   price  ...  sub_class_map del_map dep_class\n",
              "id                                   ...                                 \n",
              "1         Houston       0.2  16.448  ...           10.0     1.0         1\n",
              "2        Westland       0.0  29.700  ...            8.0     1.0         2\n",
              "3        Westland       0.0  14.730  ...            7.0     1.0         2\n",
              "4        Westland       0.0  43.920  ...            5.0     1.0         2\n",
              "5        Westland       0.0  66.580  ...           11.0     1.0         2\n",
              "\n",
              "[5 rows x 22 columns]"
            ]
          },
          "metadata": {
            "tags": []
          },
          "execution_count": 197
        }
      ]
    },
    {
      "cell_type": "code",
      "metadata": {
        "colab": {
          "base_uri": "https://localhost:8080/"
        },
        "id": "LRec-G0Mw8Ts",
        "outputId": "8ad9f0b8-7299-442d-951d-79ea1e0eb1e4"
      },
      "source": [
        "df.groupby('departure city')['profit'].describe().sort_values('mean',ascending=False)['mean'].tolist()\n"
      ],
      "execution_count": null,
      "outputs": [
        {
          "output_type": "execute_result",
          "data": {
            "text/plain": [
              "[642.8857499999999,\n",
              " 477.4212,\n",
              " 395.7479,\n",
              " 356.225,\n",
              " 277.38315,\n",
              " 254.84459999999999,\n",
              " 225.8313,\n",
              " 218.30646666666667,\n",
              " 214.9418666666667,\n",
              " 197.8383875,\n",
              " 197.80265454545454,\n",
              " 159.22480000000002,\n",
              " 158.41171666666665,\n",
              " 152.495,\n",
              " 152.41039166666667,\n",
              " 147.09998333333334,\n",
              " 146.4036,\n",
              " 145.2816,\n",
              " 140.86516,\n",
              " 134.76435,\n",
              " 133.08245,\n",
              " 128.0656625,\n",
              " 125.8890125,\n",
              " 121.55194999999999,\n",
              " 120.23112608695652,\n",
              " 119.91311111111109,\n",
              " 118.71013750000002,\n",
              " 118.34866363636364,\n",
              " 115.75424615384617,\n",
              " 115.10452000000001,\n",
              " 111.0668,\n",
              " 110.51135,\n",
              " 110.0528,\n",
              " 102.97095,\n",
              " 100.196,\n",
              " 99.65924444444445,\n",
              " 97.98893333333335,\n",
              " 96.9651,\n",
              " 92.35585555555555,\n",
              " 92.0835,\n",
              " 88.32825,\n",
              " 88.27301904761904,\n",
              " 86.71202727272727,\n",
              " 84.44408000000001,\n",
              " 83.80644,\n",
              " 82.9507,\n",
              " 82.81153333333334,\n",
              " 82.52032222222223,\n",
              " 82.25283448275862,\n",
              " 81.583,\n",
              " 80.736,\n",
              " 79.48148666666665,\n",
              " 78.70830000000001,\n",
              " 77.27137499999999,\n",
              " 76.17866666666666,\n",
              " 75.20911666666667,\n",
              " 74.99786666666667,\n",
              " 73.16365714285713,\n",
              " 72.75079999999998,\n",
              " 70.3548,\n",
              " 70.10736999999999,\n",
              " 69.52958823529411,\n",
              " 68.2266,\n",
              " 67.992,\n",
              " 67.44062857142858,\n",
              " 66.98431428571429,\n",
              " 66.36558823529411,\n",
              " 65.81311666666666,\n",
              " 65.5741,\n",
              " 65.3654,\n",
              " 63.8416,\n",
              " 63.8035875,\n",
              " 62.51544000000001,\n",
              " 62.46862258064517,\n",
              " 61.3833,\n",
              " 60.91990384615386,\n",
              " 60.391999999999996,\n",
              " 60.338580000000015,\n",
              " 59.7939,\n",
              " 59.73910000000001,\n",
              " 59.469766666666665,\n",
              " 59.4555,\n",
              " 58.926095833333335,\n",
              " 58.805800000000005,\n",
              " 58.64891111111111,\n",
              " 57.534866666666666,\n",
              " 57.18564745762711,\n",
              " 57.12024444444445,\n",
              " 56.75223333333334,\n",
              " 56.26932674418605,\n",
              " 56.16013333333333,\n",
              " 56.00591666666668,\n",
              " 55.916266666666665,\n",
              " 55.30091363636363,\n",
              " 54.64294036243829,\n",
              " 54.59012868525889,\n",
              " 54.41522,\n",
              " 53.845274074074084,\n",
              " 53.762847368421056,\n",
              " 53.004400000000004,\n",
              " 52.7705,\n",
              " 50.50337142857143,\n",
              " 49.6048,\n",
              " 49.294200000000004,\n",
              " 49.0209,\n",
              " 48.878992307692315,\n",
              " 48.40589374999999,\n",
              " 48.296,\n",
              " 48.229548000000015,\n",
              " 47.83077142857143,\n",
              " 47.058299999999996,\n",
              " 46.99349999999999,\n",
              " 46.7604,\n",
              " 46.59186666666667,\n",
              " 45.78316,\n",
              " 45.579499999999996,\n",
              " 45.294,\n",
              " 45.2732,\n",
              " 44.654337500000004,\n",
              " 43.83398,\n",
              " 43.37592000000001,\n",
              " 42.649,\n",
              " 42.269169999999995,\n",
              " 42.110153846153835,\n",
              " 41.48216,\n",
              " 41.18725833333335,\n",
              " 40.998132116788305,\n",
              " 40.236275,\n",
              " 40.208074999999994,\n",
              " 40.05217931034483,\n",
              " 39.67815,\n",
              " 39.38215,\n",
              " 39.087466666666664,\n",
              " 38.93425,\n",
              " 38.57073333333333,\n",
              " 38.00336923076923,\n",
              " 37.92049230769231,\n",
              " 37.90244665427509,\n",
              " 37.894475,\n",
              " 37.730260683760676,\n",
              " 37.00110909090909,\n",
              " 36.97665714285714,\n",
              " 36.451950000000004,\n",
              " 35.36301,\n",
              " 35.211400000000005,\n",
              " 35.199799999999996,\n",
              " 35.19735531914894,\n",
              " 35.14702,\n",
              " 34.7519,\n",
              " 34.742,\n",
              " 34.6983,\n",
              " 34.54369523809524,\n",
              " 34.386874999999996,\n",
              " 34.264399999999995,\n",
              " 34.09404012539183,\n",
              " 34.0046,\n",
              " 33.803399999999996,\n",
              " 33.795233333333336,\n",
              " 33.52206551724137,\n",
              " 33.45361000000001,\n",
              " 32.1241,\n",
              " 32.038799999999995,\n",
              " 31.883399999999998,\n",
              " 31.66336,\n",
              " 31.152733333333337,\n",
              " 31.129266666666666,\n",
              " 31.094590476190483,\n",
              " 31.04715,\n",
              " 30.172880000000003,\n",
              " 30.0314,\n",
              " 30.0144,\n",
              " 29.969192307692307,\n",
              " 29.7465,\n",
              " 29.661066666666667,\n",
              " 29.358284000000005,\n",
              " 28.956551515151514,\n",
              " 28.837175000000002,\n",
              " 28.777350000000002,\n",
              " 28.663353846153843,\n",
              " 28.384725,\n",
              " 28.382025000000006,\n",
              " 27.422833333333333,\n",
              " 27.398400000000002,\n",
              " 26.933093333333332,\n",
              " 26.859,\n",
              " 26.8442,\n",
              " 26.698973333333335,\n",
              " 26.64294,\n",
              " 26.6304,\n",
              " 26.46766666666667,\n",
              " 26.361485,\n",
              " 26.3436,\n",
              " 26.195875,\n",
              " 26.08037142857143,\n",
              " 25.810084210526316,\n",
              " 25.471725000000003,\n",
              " 25.368399999999998,\n",
              " 25.15414285714286,\n",
              " 25.077923809523803,\n",
              " 25.0182,\n",
              " 24.322774999999996,\n",
              " 24.14225,\n",
              " 23.9984,\n",
              " 23.9389,\n",
              " 23.871399999999998,\n",
              " 23.5672,\n",
              " 23.49,\n",
              " 22.7897,\n",
              " 22.607650000000003,\n",
              " 22.459999999999997,\n",
              " 22.3842,\n",
              " 22.339533333333325,\n",
              " 22.2196,\n",
              " 22.0536125,\n",
              " 22.011950000000002,\n",
              " 21.997500000000002,\n",
              " 21.27314,\n",
              " 21.27095,\n",
              " 20.659075,\n",
              " 20.545941176470585,\n",
              " 20.534460000000003,\n",
              " 20.40588666666667,\n",
              " 19.770725,\n",
              " 19.746100000000002,\n",
              " 19.56553333333333,\n",
              " 19.383584615384613,\n",
              " 18.454283333333333,\n",
              " 18.338225,\n",
              " 18.0678,\n",
              " 18.0648,\n",
              " 17.94785,\n",
              " 17.82208888888889,\n",
              " 17.745,\n",
              " 17.62933333333334,\n",
              " 17.520166666666665,\n",
              " 17.216425000000005,\n",
              " 17.00815,\n",
              " 16.9087,\n",
              " 16.298907142857146,\n",
              " 16.2688,\n",
              " 16.04085,\n",
              " 15.903,\n",
              " 15.855185714285716,\n",
              " 15.552,\n",
              " 15.520950000000001,\n",
              " 14.9639,\n",
              " 14.956066666666667,\n",
              " 14.539699999999998,\n",
              " 14.24992,\n",
              " 14.1854,\n",
              " 14.17,\n",
              " 14.1426,\n",
              " 13.8579,\n",
              " 13.821399999999999,\n",
              " 13.4899,\n",
              " 13.282,\n",
              " 13.250266666666667,\n",
              " 13.216450000000004,\n",
              " 13.208,\n",
              " 13.13083,\n",
              " 12.988949999999999,\n",
              " 12.892183333333334,\n",
              " 12.711075000000001,\n",
              " 12.694833333333333,\n",
              " 12.489,\n",
              " 12.4421,\n",
              " 12.43228,\n",
              " 12.2328,\n",
              " 12.1851,\n",
              " 12.113999999999999,\n",
              " 11.68,\n",
              " 11.6298,\n",
              " 11.608792307692305,\n",
              " 11.608400000000001,\n",
              " 11.54195,\n",
              " 11.429224999999999,\n",
              " 11.305050000000001,\n",
              " 11.226550000000001,\n",
              " 11.178899999999999,\n",
              " 11.131300000000001,\n",
              " 11.1129,\n",
              " 11.022533333333334,\n",
              " 10.9584,\n",
              " 10.8397,\n",
              " 10.8006,\n",
              " 10.70265,\n",
              " 10.6259,\n",
              " 10.552866666666667,\n",
              " 10.5364,\n",
              " 10.4053,\n",
              " 10.389733333333334,\n",
              " 10.344000000000001,\n",
              " 10.283320000000003,\n",
              " 10.008,\n",
              " 9.8988,\n",
              " 9.8328,\n",
              " 9.684733333333334,\n",
              " 9.39264,\n",
              " 9.33824,\n",
              " 9.3312,\n",
              " 9.25442,\n",
              " 9.07681,\n",
              " 9.006433333333334,\n",
              " 8.90505,\n",
              " 8.67398695652174,\n",
              " 8.662,\n",
              " 8.585475,\n",
              " 8.4816,\n",
              " 8.1319,\n",
              " 8.1024,\n",
              " 8.0178,\n",
              " 7.77577777777778,\n",
              " 7.7661999999999995,\n",
              " 7.7035,\n",
              " 7.4571,\n",
              " 6.9795,\n",
              " 6.894,\n",
              " 6.87735,\n",
              " 6.812,\n",
              " 6.757,\n",
              " 6.740599999999998,\n",
              " 6.60854,\n",
              " 6.5472,\n",
              " 6.5120000000000005,\n",
              " 6.3504,\n",
              " 6.314215384615384,\n",
              " 6.279715384615384,\n",
              " 6.2379999999999995,\n",
              " 6.1102799999999995,\n",
              " 6.090892857142856,\n",
              " 5.81265,\n",
              " 5.609366666666666,\n",
              " 5.462799999999999,\n",
              " 5.3898,\n",
              " 5.3308800000000005,\n",
              " 4.925224999999999,\n",
              " 4.9107,\n",
              " 4.665699999999999,\n",
              " 4.4955,\n",
              " 4.38745,\n",
              " 3.9032,\n",
              " 3.792,\n",
              " 3.6288,\n",
              " 3.574785714285714,\n",
              " 3.5386999999999995,\n",
              " 3.3616,\n",
              " 3.0576,\n",
              " 2.7144,\n",
              " 2.6936,\n",
              " 2.478,\n",
              " 2.4481249999999997,\n",
              " 2.3968,\n",
              " 2.3809607142857137,\n",
              " 2.3328,\n",
              " 2.3312,\n",
              " 2.198199999999999,\n",
              " 1.9941,\n",
              " 1.9615000000000002,\n",
              " 1.7764999999999995,\n",
              " 1.7207999999999999,\n",
              " 1.6575000000000002,\n",
              " 1.5399000000000003,\n",
              " 1.5275142857142845,\n",
              " 1.4689599999999998,\n",
              " 1.3522999999999996,\n",
              " 1.2348,\n",
              " 1.1946,\n",
              " 1.122250000000001,\n",
              " 1.0944636363636364,\n",
              " 0.9473625000000006,\n",
              " 0.722783116883116,\n",
              " 0.3864,\n",
              " -0.11160000000000003,\n",
              " -0.59175,\n",
              " -0.8036000000000001,\n",
              " -1.1401,\n",
              " -1.1534571428571436,\n",
              " -1.2689428571428572,\n",
              " -1.3584,\n",
              " -1.411733333333333,\n",
              " -1.476,\n",
              " -2.3462500000000004,\n",
              " -2.3893333333333344,\n",
              " -3.685899999999999,\n",
              " -4.20106923076923,\n",
              " -4.273,\n",
              " -4.274866666666667,\n",
              " -4.640942857142855,\n",
              " -4.6912811881188095,\n",
              " -4.835325,\n",
              " -5.3313999999999995,\n",
              " -5.4783,\n",
              " -5.555433333333334,\n",
              " -5.8293,\n",
              " -6.5355738095238065,\n",
              " -7.002586956521737,\n",
              " -7.023188235294119,\n",
              " -7.150228735632177,\n",
              " -7.476,\n",
              " -7.548533333333334,\n",
              " -7.97366,\n",
              " -8.132162962962964,\n",
              " -8.9152,\n",
              " -9.412075000000002,\n",
              " -9.566485714285715,\n",
              " -9.969375,\n",
              " -10.0721,\n",
              " -10.386,\n",
              " -10.955088560885613,\n",
              " -11.537416666666667,\n",
              " -11.826214999999998,\n",
              " -12.24465,\n",
              " -12.564062500000004,\n",
              " -13.027999999999999,\n",
              " -13.0835,\n",
              " -13.262369999999999,\n",
              " -14.7708,\n",
              " -15.64245,\n",
              " -16.61,\n",
              " -16.850466666666666,\n",
              " -16.968383333333332,\n",
              " -18.277881818181818,\n",
              " -19.094021739130437,\n",
              " -19.47818,\n",
              " -20.173392307692307,\n",
              " -20.275787853107353,\n",
              " -22.3586,\n",
              " -23.754659999999998,\n",
              " -23.823841666666667,\n",
              " -23.84396304347825,\n",
              " -24.27722857142857,\n",
              " -26.073934375000004,\n",
              " -27.10472857142857,\n",
              " -28.82645,\n",
              " -32.296600000000005,\n",
              " -32.35005714285714,\n",
              " -38.26736399999999,\n",
              " -39.08145555555555,\n",
              " -39.567,\n",
              " -41.057488888888884,\n",
              " -41.17913333333333,\n",
              " -44.8239,\n",
              " -45.85786304347827,\n",
              " -46.09828,\n",
              " -48.937527272727266,\n",
              " -50.441100000000006,\n",
              " -51.3379,\n",
              " -52.68565952380951,\n",
              " -53.033025,\n",
              " -56.949479999999994,\n",
              " -60.99783333333334,\n",
              " -67.9106,\n",
              " -72.07546666666666,\n",
              " -76.09260000000002,\n",
              " -79.3352,\n",
              " -87.97402500000001,\n",
              " -89.6243,\n",
              " -98.8018,\n",
              " -107.20620000000001,\n",
              " -110.0232,\n",
              " -112.62148749999999,\n",
              " -143.5007,\n",
              " -149.22717777777777,\n",
              " -154.25490000000002,\n",
              " -178.70919999999998,\n",
              " -182.352,\n",
              " -186.77552500000002,\n",
              " -188.8339,\n",
              " -200.61916000000002]"
            ]
          },
          "metadata": {
            "tags": []
          },
          "execution_count": 198
        }
      ]
    },
    {
      "cell_type": "code",
      "metadata": {
        "id": "26tsm41AxjaH"
      },
      "source": [
        "df_dic = df.groupby('departure city')['profit'].mean().reset_index()\n"
      ],
      "execution_count": null,
      "outputs": []
    },
    {
      "cell_type": "code",
      "metadata": {
        "colab": {
          "base_uri": "https://localhost:8080/"
        },
        "id": "cgcIiri6xss5",
        "outputId": "e57c6ee5-ca4d-405e-c6e8-951a13b24d63"
      },
      "source": [
        "df_dic.profit.min()"
      ],
      "execution_count": null,
      "outputs": [
        {
          "output_type": "execute_result",
          "data": {
            "text/plain": [
              "-200.61916000000002"
            ]
          },
          "metadata": {
            "tags": []
          },
          "execution_count": 200
        }
      ]
    },
    {
      "cell_type": "code",
      "metadata": {
        "id": "67bng2Nkxq4k"
      },
      "source": [
        "df_dic['loc_class'] = pd.cut(x = df_dic['profit'], bins = [-210,0,50,650] , labels = [1,2,3])\n"
      ],
      "execution_count": null,
      "outputs": []
    },
    {
      "cell_type": "code",
      "metadata": {
        "id": "hR0wxtjjx-QH"
      },
      "source": [
        "df_dic['loc_class'] = df_dic['loc_class'].astype(int)\n",
        "dep_city = df_dic.groupby('departure city')['loc_class'].mean().to_dict()\n",
        "df['dep_city_class'] = df['departure city'].map(dep_city)\n"
      ],
      "execution_count": null,
      "outputs": []
    },
    {
      "cell_type": "code",
      "metadata": {
        "colab": {
          "base_uri": "https://localhost:8080/",
          "height": 357
        },
        "id": "rnxUfgTAx-jU",
        "outputId": "336f52ce-b2a0-42ab-a679-2add5a972761"
      },
      "source": [
        "df.head()"
      ],
      "execution_count": null,
      "outputs": [
        {
          "output_type": "execute_result",
          "data": {
            "text/html": [
              "<div>\n",
              "<style scoped>\n",
              "    .dataframe tbody tr th:only-of-type {\n",
              "        vertical-align: middle;\n",
              "    }\n",
              "\n",
              "    .dataframe tbody tr th {\n",
              "        vertical-align: top;\n",
              "    }\n",
              "\n",
              "    .dataframe thead th {\n",
              "        text-align: right;\n",
              "    }\n",
              "</style>\n",
              "<table border=\"1\" class=\"dataframe\">\n",
              "  <thead>\n",
              "    <tr style=\"text-align: right;\">\n",
              "      <th></th>\n",
              "      <th>departure city</th>\n",
              "      <th>discount</th>\n",
              "      <th>price</th>\n",
              "      <th>no of items</th>\n",
              "      <th>location</th>\n",
              "      <th>class</th>\n",
              "      <th>segment</th>\n",
              "      <th>sub-class</th>\n",
              "      <th>delivery type</th>\n",
              "      <th>RID</th>\n",
              "      <th>profit</th>\n",
              "      <th>delivery date</th>\n",
              "      <th>address code</th>\n",
              "      <th>departure state</th>\n",
              "      <th>placement date</th>\n",
              "      <th>item_map</th>\n",
              "      <th>loc_map</th>\n",
              "      <th>class_map</th>\n",
              "      <th>seg_map</th>\n",
              "      <th>sub_class_map</th>\n",
              "      <th>del_map</th>\n",
              "      <th>dep_class</th>\n",
              "      <th>dep_city_class</th>\n",
              "    </tr>\n",
              "    <tr>\n",
              "      <th>id</th>\n",
              "      <th></th>\n",
              "      <th></th>\n",
              "      <th></th>\n",
              "      <th></th>\n",
              "      <th></th>\n",
              "      <th></th>\n",
              "      <th></th>\n",
              "      <th></th>\n",
              "      <th></th>\n",
              "      <th></th>\n",
              "      <th></th>\n",
              "      <th></th>\n",
              "      <th></th>\n",
              "      <th></th>\n",
              "      <th></th>\n",
              "      <th></th>\n",
              "      <th></th>\n",
              "      <th></th>\n",
              "      <th></th>\n",
              "      <th></th>\n",
              "      <th></th>\n",
              "      <th></th>\n",
              "      <th></th>\n",
              "    </tr>\n",
              "  </thead>\n",
              "  <tbody>\n",
              "    <tr>\n",
              "      <th>1</th>\n",
              "      <td>Houston</td>\n",
              "      <td>0.2</td>\n",
              "      <td>16.448</td>\n",
              "      <td>2</td>\n",
              "      <td>Central</td>\n",
              "      <td>kariox</td>\n",
              "      <td>Consumer</td>\n",
              "      <td>phone</td>\n",
              "      <td>Standard Class</td>\n",
              "      <td>7981</td>\n",
              "      <td>5.5512</td>\n",
              "      <td>2018-01-01</td>\n",
              "      <td>77095</td>\n",
              "      <td>Texas</td>\n",
              "      <td>2018-01-01</td>\n",
              "      <td>2</td>\n",
              "      <td>4</td>\n",
              "      <td>2</td>\n",
              "      <td>2</td>\n",
              "      <td>10.0</td>\n",
              "      <td>1.0</td>\n",
              "      <td>1</td>\n",
              "      <td>1</td>\n",
              "    </tr>\n",
              "    <tr>\n",
              "      <th>2</th>\n",
              "      <td>Westland</td>\n",
              "      <td>0.0</td>\n",
              "      <td>29.700</td>\n",
              "      <td>5</td>\n",
              "      <td>Central</td>\n",
              "      <td>kariox</td>\n",
              "      <td>Consumer</td>\n",
              "      <td>headset</td>\n",
              "      <td>Standard Class</td>\n",
              "      <td>6334</td>\n",
              "      <td>13.3650</td>\n",
              "      <td>2018-01-01</td>\n",
              "      <td>48185</td>\n",
              "      <td>Michigan</td>\n",
              "      <td>2018-01-01</td>\n",
              "      <td>7</td>\n",
              "      <td>4</td>\n",
              "      <td>2</td>\n",
              "      <td>2</td>\n",
              "      <td>8.0</td>\n",
              "      <td>1.0</td>\n",
              "      <td>2</td>\n",
              "      <td>2</td>\n",
              "    </tr>\n",
              "    <tr>\n",
              "      <th>3</th>\n",
              "      <td>Westland</td>\n",
              "      <td>0.0</td>\n",
              "      <td>14.730</td>\n",
              "      <td>3</td>\n",
              "      <td>Central</td>\n",
              "      <td>qexty</td>\n",
              "      <td>Consumer</td>\n",
              "      <td>shorts</td>\n",
              "      <td>Standard Class</td>\n",
              "      <td>6333</td>\n",
              "      <td>4.8609</td>\n",
              "      <td>2018-01-01</td>\n",
              "      <td>48185</td>\n",
              "      <td>Michigan</td>\n",
              "      <td>2018-01-01</td>\n",
              "      <td>3</td>\n",
              "      <td>4</td>\n",
              "      <td>1</td>\n",
              "      <td>2</td>\n",
              "      <td>7.0</td>\n",
              "      <td>1.0</td>\n",
              "      <td>2</td>\n",
              "      <td>2</td>\n",
              "    </tr>\n",
              "    <tr>\n",
              "      <th>4</th>\n",
              "      <td>Westland</td>\n",
              "      <td>0.0</td>\n",
              "      <td>43.920</td>\n",
              "      <td>3</td>\n",
              "      <td>Central</td>\n",
              "      <td>kariox</td>\n",
              "      <td>Consumer</td>\n",
              "      <td>television</td>\n",
              "      <td>Standard Class</td>\n",
              "      <td>6332</td>\n",
              "      <td>12.7368</td>\n",
              "      <td>2018-01-01</td>\n",
              "      <td>48185</td>\n",
              "      <td>Michigan</td>\n",
              "      <td>2018-01-01</td>\n",
              "      <td>3</td>\n",
              "      <td>4</td>\n",
              "      <td>2</td>\n",
              "      <td>2</td>\n",
              "      <td>5.0</td>\n",
              "      <td>1.0</td>\n",
              "      <td>2</td>\n",
              "      <td>2</td>\n",
              "    </tr>\n",
              "    <tr>\n",
              "      <th>5</th>\n",
              "      <td>Westland</td>\n",
              "      <td>0.0</td>\n",
              "      <td>66.580</td>\n",
              "      <td>2</td>\n",
              "      <td>Central</td>\n",
              "      <td>kariox</td>\n",
              "      <td>Consumer</td>\n",
              "      <td>laptop</td>\n",
              "      <td>Standard Class</td>\n",
              "      <td>6331</td>\n",
              "      <td>15.9792</td>\n",
              "      <td>2018-01-01</td>\n",
              "      <td>48185</td>\n",
              "      <td>Michigan</td>\n",
              "      <td>2018-01-01</td>\n",
              "      <td>2</td>\n",
              "      <td>4</td>\n",
              "      <td>2</td>\n",
              "      <td>2</td>\n",
              "      <td>11.0</td>\n",
              "      <td>1.0</td>\n",
              "      <td>2</td>\n",
              "      <td>2</td>\n",
              "    </tr>\n",
              "  </tbody>\n",
              "</table>\n",
              "</div>"
            ],
            "text/plain": [
              "   departure city  discount   price  ...  del_map dep_class dep_city_class\n",
              "id                                   ...                                  \n",
              "1         Houston       0.2  16.448  ...      1.0         1              1\n",
              "2        Westland       0.0  29.700  ...      1.0         2              2\n",
              "3        Westland       0.0  14.730  ...      1.0         2              2\n",
              "4        Westland       0.0  43.920  ...      1.0         2              2\n",
              "5        Westland       0.0  66.580  ...      1.0         2              2\n",
              "\n",
              "[5 rows x 23 columns]"
            ]
          },
          "metadata": {
            "tags": []
          },
          "execution_count": 203
        }
      ]
    },
    {
      "cell_type": "code",
      "metadata": {
        "id": "u0tM-dyry2ot"
      },
      "source": [
        "df_dic = df.groupby('address code')['profit'].mean().reset_index()\n"
      ],
      "execution_count": null,
      "outputs": []
    },
    {
      "cell_type": "code",
      "metadata": {
        "colab": {
          "base_uri": "https://localhost:8080/"
        },
        "id": "3FcX7P56zAvi",
        "outputId": "8b21ea8e-7359-455c-8fc2-d1ae9688d30b"
      },
      "source": [
        "df_dic.profit.min()"
      ],
      "execution_count": null,
      "outputs": [
        {
          "output_type": "execute_result",
          "data": {
            "text/plain": [
              "-200.61916000000002"
            ]
          },
          "metadata": {
            "tags": []
          },
          "execution_count": 205
        }
      ]
    },
    {
      "cell_type": "code",
      "metadata": {
        "id": "C_adcWZkzE4A"
      },
      "source": [
        "df_dic['loc_class'] = pd.cut(x = df_dic['profit'], bins = [-210,0,50,650] , labels = [1,2,3])\n"
      ],
      "execution_count": null,
      "outputs": []
    },
    {
      "cell_type": "code",
      "metadata": {
        "colab": {
          "base_uri": "https://localhost:8080/"
        },
        "id": "RQMXP1E2zLcQ",
        "outputId": "ad7f72a1-8dc2-4d4b-a809-35893d207aae"
      },
      "source": [
        "df_dic['loc_class'].value_counts()"
      ],
      "execution_count": null,
      "outputs": [
        {
          "output_type": "execute_result",
          "data": {
            "text/plain": [
              "2    308\n",
              "3    132\n",
              "1    122\n",
              "Name: loc_class, dtype: int64"
            ]
          },
          "metadata": {
            "tags": []
          },
          "execution_count": 207
        }
      ]
    },
    {
      "cell_type": "code",
      "metadata": {
        "id": "jrYmoIO0zOqk"
      },
      "source": [
        "df_dic['loc_class'] = df_dic['loc_class'].astype(int)\n",
        "add_code = df_dic.groupby('address code')['loc_class'].mean().to_dict()\n",
        "df['address_class'] = df['address code'].map(add_code)\n"
      ],
      "execution_count": null,
      "outputs": []
    },
    {
      "cell_type": "code",
      "metadata": {
        "colab": {
          "base_uri": "https://localhost:8080/",
          "height": 357
        },
        "id": "MNG2w7JLzZcX",
        "outputId": "9686a329-18e3-4668-ea9f-9e5fb43ee608"
      },
      "source": [
        "df.head()"
      ],
      "execution_count": null,
      "outputs": [
        {
          "output_type": "execute_result",
          "data": {
            "text/html": [
              "<div>\n",
              "<style scoped>\n",
              "    .dataframe tbody tr th:only-of-type {\n",
              "        vertical-align: middle;\n",
              "    }\n",
              "\n",
              "    .dataframe tbody tr th {\n",
              "        vertical-align: top;\n",
              "    }\n",
              "\n",
              "    .dataframe thead th {\n",
              "        text-align: right;\n",
              "    }\n",
              "</style>\n",
              "<table border=\"1\" class=\"dataframe\">\n",
              "  <thead>\n",
              "    <tr style=\"text-align: right;\">\n",
              "      <th></th>\n",
              "      <th>departure city</th>\n",
              "      <th>discount</th>\n",
              "      <th>price</th>\n",
              "      <th>no of items</th>\n",
              "      <th>location</th>\n",
              "      <th>class</th>\n",
              "      <th>segment</th>\n",
              "      <th>sub-class</th>\n",
              "      <th>delivery type</th>\n",
              "      <th>RID</th>\n",
              "      <th>profit</th>\n",
              "      <th>delivery date</th>\n",
              "      <th>address code</th>\n",
              "      <th>departure state</th>\n",
              "      <th>placement date</th>\n",
              "      <th>item_map</th>\n",
              "      <th>loc_map</th>\n",
              "      <th>class_map</th>\n",
              "      <th>seg_map</th>\n",
              "      <th>sub_class_map</th>\n",
              "      <th>del_map</th>\n",
              "      <th>dep_class</th>\n",
              "      <th>dep_city_class</th>\n",
              "      <th>address_class</th>\n",
              "    </tr>\n",
              "    <tr>\n",
              "      <th>id</th>\n",
              "      <th></th>\n",
              "      <th></th>\n",
              "      <th></th>\n",
              "      <th></th>\n",
              "      <th></th>\n",
              "      <th></th>\n",
              "      <th></th>\n",
              "      <th></th>\n",
              "      <th></th>\n",
              "      <th></th>\n",
              "      <th></th>\n",
              "      <th></th>\n",
              "      <th></th>\n",
              "      <th></th>\n",
              "      <th></th>\n",
              "      <th></th>\n",
              "      <th></th>\n",
              "      <th></th>\n",
              "      <th></th>\n",
              "      <th></th>\n",
              "      <th></th>\n",
              "      <th></th>\n",
              "      <th></th>\n",
              "      <th></th>\n",
              "    </tr>\n",
              "  </thead>\n",
              "  <tbody>\n",
              "    <tr>\n",
              "      <th>1</th>\n",
              "      <td>Houston</td>\n",
              "      <td>0.2</td>\n",
              "      <td>16.448</td>\n",
              "      <td>2</td>\n",
              "      <td>Central</td>\n",
              "      <td>kariox</td>\n",
              "      <td>Consumer</td>\n",
              "      <td>phone</td>\n",
              "      <td>Standard Class</td>\n",
              "      <td>7981</td>\n",
              "      <td>5.5512</td>\n",
              "      <td>2018-01-01</td>\n",
              "      <td>77095</td>\n",
              "      <td>Texas</td>\n",
              "      <td>2018-01-01</td>\n",
              "      <td>2</td>\n",
              "      <td>4</td>\n",
              "      <td>2</td>\n",
              "      <td>2</td>\n",
              "      <td>10.0</td>\n",
              "      <td>1.0</td>\n",
              "      <td>1</td>\n",
              "      <td>1</td>\n",
              "      <td>1</td>\n",
              "    </tr>\n",
              "    <tr>\n",
              "      <th>2</th>\n",
              "      <td>Westland</td>\n",
              "      <td>0.0</td>\n",
              "      <td>29.700</td>\n",
              "      <td>5</td>\n",
              "      <td>Central</td>\n",
              "      <td>kariox</td>\n",
              "      <td>Consumer</td>\n",
              "      <td>headset</td>\n",
              "      <td>Standard Class</td>\n",
              "      <td>6334</td>\n",
              "      <td>13.3650</td>\n",
              "      <td>2018-01-01</td>\n",
              "      <td>48185</td>\n",
              "      <td>Michigan</td>\n",
              "      <td>2018-01-01</td>\n",
              "      <td>7</td>\n",
              "      <td>4</td>\n",
              "      <td>2</td>\n",
              "      <td>2</td>\n",
              "      <td>8.0</td>\n",
              "      <td>1.0</td>\n",
              "      <td>2</td>\n",
              "      <td>2</td>\n",
              "      <td>2</td>\n",
              "    </tr>\n",
              "    <tr>\n",
              "      <th>3</th>\n",
              "      <td>Westland</td>\n",
              "      <td>0.0</td>\n",
              "      <td>14.730</td>\n",
              "      <td>3</td>\n",
              "      <td>Central</td>\n",
              "      <td>qexty</td>\n",
              "      <td>Consumer</td>\n",
              "      <td>shorts</td>\n",
              "      <td>Standard Class</td>\n",
              "      <td>6333</td>\n",
              "      <td>4.8609</td>\n",
              "      <td>2018-01-01</td>\n",
              "      <td>48185</td>\n",
              "      <td>Michigan</td>\n",
              "      <td>2018-01-01</td>\n",
              "      <td>3</td>\n",
              "      <td>4</td>\n",
              "      <td>1</td>\n",
              "      <td>2</td>\n",
              "      <td>7.0</td>\n",
              "      <td>1.0</td>\n",
              "      <td>2</td>\n",
              "      <td>2</td>\n",
              "      <td>2</td>\n",
              "    </tr>\n",
              "    <tr>\n",
              "      <th>4</th>\n",
              "      <td>Westland</td>\n",
              "      <td>0.0</td>\n",
              "      <td>43.920</td>\n",
              "      <td>3</td>\n",
              "      <td>Central</td>\n",
              "      <td>kariox</td>\n",
              "      <td>Consumer</td>\n",
              "      <td>television</td>\n",
              "      <td>Standard Class</td>\n",
              "      <td>6332</td>\n",
              "      <td>12.7368</td>\n",
              "      <td>2018-01-01</td>\n",
              "      <td>48185</td>\n",
              "      <td>Michigan</td>\n",
              "      <td>2018-01-01</td>\n",
              "      <td>3</td>\n",
              "      <td>4</td>\n",
              "      <td>2</td>\n",
              "      <td>2</td>\n",
              "      <td>5.0</td>\n",
              "      <td>1.0</td>\n",
              "      <td>2</td>\n",
              "      <td>2</td>\n",
              "      <td>2</td>\n",
              "    </tr>\n",
              "    <tr>\n",
              "      <th>5</th>\n",
              "      <td>Westland</td>\n",
              "      <td>0.0</td>\n",
              "      <td>66.580</td>\n",
              "      <td>2</td>\n",
              "      <td>Central</td>\n",
              "      <td>kariox</td>\n",
              "      <td>Consumer</td>\n",
              "      <td>laptop</td>\n",
              "      <td>Standard Class</td>\n",
              "      <td>6331</td>\n",
              "      <td>15.9792</td>\n",
              "      <td>2018-01-01</td>\n",
              "      <td>48185</td>\n",
              "      <td>Michigan</td>\n",
              "      <td>2018-01-01</td>\n",
              "      <td>2</td>\n",
              "      <td>4</td>\n",
              "      <td>2</td>\n",
              "      <td>2</td>\n",
              "      <td>11.0</td>\n",
              "      <td>1.0</td>\n",
              "      <td>2</td>\n",
              "      <td>2</td>\n",
              "      <td>2</td>\n",
              "    </tr>\n",
              "  </tbody>\n",
              "</table>\n",
              "</div>"
            ],
            "text/plain": [
              "   departure city  discount   price  ...  dep_class dep_city_class address_class\n",
              "id                                   ...                                        \n",
              "1         Houston       0.2  16.448  ...          1              1             1\n",
              "2        Westland       0.0  29.700  ...          2              2             2\n",
              "3        Westland       0.0  14.730  ...          2              2             2\n",
              "4        Westland       0.0  43.920  ...          2              2             2\n",
              "5        Westland       0.0  66.580  ...          2              2             2\n",
              "\n",
              "[5 rows x 24 columns]"
            ]
          },
          "metadata": {
            "tags": []
          },
          "execution_count": 209
        }
      ]
    },
    {
      "cell_type": "code",
      "metadata": {
        "colab": {
          "base_uri": "https://localhost:8080/",
          "height": 546
        },
        "id": "Sf9PUkwxza8P",
        "outputId": "b5a5ac81-2606-414d-e3ea-a3e61bf40e43"
      },
      "source": [
        "df.corr()"
      ],
      "execution_count": null,
      "outputs": [
        {
          "output_type": "execute_result",
          "data": {
            "text/html": [
              "<div>\n",
              "<style scoped>\n",
              "    .dataframe tbody tr th:only-of-type {\n",
              "        vertical-align: middle;\n",
              "    }\n",
              "\n",
              "    .dataframe tbody tr th {\n",
              "        vertical-align: top;\n",
              "    }\n",
              "\n",
              "    .dataframe thead th {\n",
              "        text-align: right;\n",
              "    }\n",
              "</style>\n",
              "<table border=\"1\" class=\"dataframe\">\n",
              "  <thead>\n",
              "    <tr style=\"text-align: right;\">\n",
              "      <th></th>\n",
              "      <th>discount</th>\n",
              "      <th>price</th>\n",
              "      <th>no of items</th>\n",
              "      <th>RID</th>\n",
              "      <th>profit</th>\n",
              "      <th>address code</th>\n",
              "      <th>item_map</th>\n",
              "      <th>loc_map</th>\n",
              "      <th>class_map</th>\n",
              "      <th>seg_map</th>\n",
              "      <th>sub_class_map</th>\n",
              "      <th>del_map</th>\n",
              "      <th>dep_class</th>\n",
              "      <th>dep_city_class</th>\n",
              "      <th>address_class</th>\n",
              "    </tr>\n",
              "  </thead>\n",
              "  <tbody>\n",
              "    <tr>\n",
              "      <th>discount</th>\n",
              "      <td>1.000000</td>\n",
              "      <td>-0.046098</td>\n",
              "      <td>0.000617</td>\n",
              "      <td>0.011687</td>\n",
              "      <td>-0.307106</td>\n",
              "      <td>0.067860</td>\n",
              "      <td>-0.000883</td>\n",
              "      <td>0.173545</td>\n",
              "      <td>-0.065329</td>\n",
              "      <td>-0.018681</td>\n",
              "      <td>-0.032142</td>\n",
              "      <td>-0.004485</td>\n",
              "      <td>-0.633804</td>\n",
              "      <td>-0.538099</td>\n",
              "      <td>-0.570047</td>\n",
              "    </tr>\n",
              "    <tr>\n",
              "      <th>price</th>\n",
              "      <td>-0.046098</td>\n",
              "      <td>1.000000</td>\n",
              "      <td>0.246227</td>\n",
              "      <td>-0.008135</td>\n",
              "      <td>0.527843</td>\n",
              "      <td>-0.010998</td>\n",
              "      <td>0.234367</td>\n",
              "      <td>-0.025290</td>\n",
              "      <td>-0.004221</td>\n",
              "      <td>0.001573</td>\n",
              "      <td>0.266905</td>\n",
              "      <td>0.006069</td>\n",
              "      <td>0.092791</td>\n",
              "      <td>0.107536</td>\n",
              "      <td>0.119714</td>\n",
              "    </tr>\n",
              "    <tr>\n",
              "      <th>no of items</th>\n",
              "      <td>0.000617</td>\n",
              "      <td>0.246227</td>\n",
              "      <td>1.000000</td>\n",
              "      <td>-0.003631</td>\n",
              "      <td>0.122635</td>\n",
              "      <td>0.004494</td>\n",
              "      <td>0.905382</td>\n",
              "      <td>0.014305</td>\n",
              "      <td>-0.023504</td>\n",
              "      <td>-0.004722</td>\n",
              "      <td>-0.013741</td>\n",
              "      <td>-0.022025</td>\n",
              "      <td>0.007853</td>\n",
              "      <td>0.013052</td>\n",
              "      <td>0.012659</td>\n",
              "    </tr>\n",
              "    <tr>\n",
              "      <th>RID</th>\n",
              "      <td>0.011687</td>\n",
              "      <td>-0.008135</td>\n",
              "      <td>-0.003631</td>\n",
              "      <td>1.000000</td>\n",
              "      <td>0.002745</td>\n",
              "      <td>0.009695</td>\n",
              "      <td>-0.011543</td>\n",
              "      <td>0.017236</td>\n",
              "      <td>-0.005508</td>\n",
              "      <td>-0.026887</td>\n",
              "      <td>-0.002920</td>\n",
              "      <td>-0.021308</td>\n",
              "      <td>-0.008074</td>\n",
              "      <td>0.003529</td>\n",
              "      <td>0.008032</td>\n",
              "    </tr>\n",
              "    <tr>\n",
              "      <th>profit</th>\n",
              "      <td>-0.307106</td>\n",
              "      <td>0.527843</td>\n",
              "      <td>0.122635</td>\n",
              "      <td>0.002745</td>\n",
              "      <td>1.000000</td>\n",
              "      <td>-0.049335</td>\n",
              "      <td>0.128429</td>\n",
              "      <td>-0.042680</td>\n",
              "      <td>0.136769</td>\n",
              "      <td>0.015166</td>\n",
              "      <td>0.189190</td>\n",
              "      <td>0.016052</td>\n",
              "      <td>0.284077</td>\n",
              "      <td>0.285107</td>\n",
              "      <td>0.311044</td>\n",
              "    </tr>\n",
              "    <tr>\n",
              "      <th>address code</th>\n",
              "      <td>0.067860</td>\n",
              "      <td>-0.010998</td>\n",
              "      <td>0.004494</td>\n",
              "      <td>0.009695</td>\n",
              "      <td>-0.049335</td>\n",
              "      <td>1.000000</td>\n",
              "      <td>0.009198</td>\n",
              "      <td>0.341801</td>\n",
              "      <td>-0.001524</td>\n",
              "      <td>0.003803</td>\n",
              "      <td>0.019124</td>\n",
              "      <td>-0.014260</td>\n",
              "      <td>-0.268545</td>\n",
              "      <td>-0.190403</td>\n",
              "      <td>-0.145060</td>\n",
              "    </tr>\n",
              "    <tr>\n",
              "      <th>item_map</th>\n",
              "      <td>-0.000883</td>\n",
              "      <td>0.234367</td>\n",
              "      <td>0.905382</td>\n",
              "      <td>-0.011543</td>\n",
              "      <td>0.128429</td>\n",
              "      <td>0.009198</td>\n",
              "      <td>1.000000</td>\n",
              "      <td>0.022561</td>\n",
              "      <td>-0.018081</td>\n",
              "      <td>-0.002817</td>\n",
              "      <td>-0.014674</td>\n",
              "      <td>-0.012240</td>\n",
              "      <td>0.009105</td>\n",
              "      <td>0.018249</td>\n",
              "      <td>0.016170</td>\n",
              "    </tr>\n",
              "    <tr>\n",
              "      <th>loc_map</th>\n",
              "      <td>0.173545</td>\n",
              "      <td>-0.025290</td>\n",
              "      <td>0.014305</td>\n",
              "      <td>0.017236</td>\n",
              "      <td>-0.042680</td>\n",
              "      <td>0.341801</td>\n",
              "      <td>0.022561</td>\n",
              "      <td>1.000000</td>\n",
              "      <td>0.005750</td>\n",
              "      <td>0.002384</td>\n",
              "      <td>0.020291</td>\n",
              "      <td>-0.056808</td>\n",
              "      <td>-0.270086</td>\n",
              "      <td>-0.221328</td>\n",
              "      <td>-0.108755</td>\n",
              "    </tr>\n",
              "    <tr>\n",
              "      <th>class_map</th>\n",
              "      <td>-0.065329</td>\n",
              "      <td>-0.004221</td>\n",
              "      <td>-0.023504</td>\n",
              "      <td>-0.005508</td>\n",
              "      <td>0.136769</td>\n",
              "      <td>-0.001524</td>\n",
              "      <td>-0.018081</td>\n",
              "      <td>0.005750</td>\n",
              "      <td>1.000000</td>\n",
              "      <td>0.014053</td>\n",
              "      <td>0.514819</td>\n",
              "      <td>0.010675</td>\n",
              "      <td>-0.008115</td>\n",
              "      <td>-0.014675</td>\n",
              "      <td>-0.009068</td>\n",
              "    </tr>\n",
              "    <tr>\n",
              "      <th>seg_map</th>\n",
              "      <td>-0.018681</td>\n",
              "      <td>0.001573</td>\n",
              "      <td>-0.004722</td>\n",
              "      <td>-0.026887</td>\n",
              "      <td>0.015166</td>\n",
              "      <td>0.003803</td>\n",
              "      <td>-0.002817</td>\n",
              "      <td>0.002384</td>\n",
              "      <td>0.014053</td>\n",
              "      <td>1.000000</td>\n",
              "      <td>-0.005137</td>\n",
              "      <td>-0.002167</td>\n",
              "      <td>0.030362</td>\n",
              "      <td>-0.000679</td>\n",
              "      <td>0.007755</td>\n",
              "    </tr>\n",
              "    <tr>\n",
              "      <th>sub_class_map</th>\n",
              "      <td>-0.032142</td>\n",
              "      <td>0.266905</td>\n",
              "      <td>-0.013741</td>\n",
              "      <td>-0.002920</td>\n",
              "      <td>0.189190</td>\n",
              "      <td>0.019124</td>\n",
              "      <td>-0.014674</td>\n",
              "      <td>0.020291</td>\n",
              "      <td>0.514819</td>\n",
              "      <td>-0.005137</td>\n",
              "      <td>1.000000</td>\n",
              "      <td>0.015420</td>\n",
              "      <td>-0.001648</td>\n",
              "      <td>0.011255</td>\n",
              "      <td>0.021697</td>\n",
              "    </tr>\n",
              "    <tr>\n",
              "      <th>del_map</th>\n",
              "      <td>-0.004485</td>\n",
              "      <td>0.006069</td>\n",
              "      <td>-0.022025</td>\n",
              "      <td>-0.021308</td>\n",
              "      <td>0.016052</td>\n",
              "      <td>-0.014260</td>\n",
              "      <td>-0.012240</td>\n",
              "      <td>-0.056808</td>\n",
              "      <td>0.010675</td>\n",
              "      <td>-0.002167</td>\n",
              "      <td>0.015420</td>\n",
              "      <td>1.000000</td>\n",
              "      <td>-0.014281</td>\n",
              "      <td>-0.005252</td>\n",
              "      <td>-0.016367</td>\n",
              "    </tr>\n",
              "    <tr>\n",
              "      <th>dep_class</th>\n",
              "      <td>-0.633804</td>\n",
              "      <td>0.092791</td>\n",
              "      <td>0.007853</td>\n",
              "      <td>-0.008074</td>\n",
              "      <td>0.284077</td>\n",
              "      <td>-0.268545</td>\n",
              "      <td>0.009105</td>\n",
              "      <td>-0.270086</td>\n",
              "      <td>-0.008115</td>\n",
              "      <td>0.030362</td>\n",
              "      <td>-0.001648</td>\n",
              "      <td>-0.014281</td>\n",
              "      <td>1.000000</td>\n",
              "      <td>0.757571</td>\n",
              "      <td>0.760720</td>\n",
              "    </tr>\n",
              "    <tr>\n",
              "      <th>dep_city_class</th>\n",
              "      <td>-0.538099</td>\n",
              "      <td>0.107536</td>\n",
              "      <td>0.013052</td>\n",
              "      <td>0.003529</td>\n",
              "      <td>0.285107</td>\n",
              "      <td>-0.190403</td>\n",
              "      <td>0.018249</td>\n",
              "      <td>-0.221328</td>\n",
              "      <td>-0.014675</td>\n",
              "      <td>-0.000679</td>\n",
              "      <td>0.011255</td>\n",
              "      <td>-0.005252</td>\n",
              "      <td>0.757571</td>\n",
              "      <td>1.000000</td>\n",
              "      <td>0.793361</td>\n",
              "    </tr>\n",
              "    <tr>\n",
              "      <th>address_class</th>\n",
              "      <td>-0.570047</td>\n",
              "      <td>0.119714</td>\n",
              "      <td>0.012659</td>\n",
              "      <td>0.008032</td>\n",
              "      <td>0.311044</td>\n",
              "      <td>-0.145060</td>\n",
              "      <td>0.016170</td>\n",
              "      <td>-0.108755</td>\n",
              "      <td>-0.009068</td>\n",
              "      <td>0.007755</td>\n",
              "      <td>0.021697</td>\n",
              "      <td>-0.016367</td>\n",
              "      <td>0.760720</td>\n",
              "      <td>0.793361</td>\n",
              "      <td>1.000000</td>\n",
              "    </tr>\n",
              "  </tbody>\n",
              "</table>\n",
              "</div>"
            ],
            "text/plain": [
              "                discount     price  ...  dep_city_class  address_class\n",
              "discount        1.000000 -0.046098  ...       -0.538099      -0.570047\n",
              "price          -0.046098  1.000000  ...        0.107536       0.119714\n",
              "no of items     0.000617  0.246227  ...        0.013052       0.012659\n",
              "RID             0.011687 -0.008135  ...        0.003529       0.008032\n",
              "profit         -0.307106  0.527843  ...        0.285107       0.311044\n",
              "address code    0.067860 -0.010998  ...       -0.190403      -0.145060\n",
              "item_map       -0.000883  0.234367  ...        0.018249       0.016170\n",
              "loc_map         0.173545 -0.025290  ...       -0.221328      -0.108755\n",
              "class_map      -0.065329 -0.004221  ...       -0.014675      -0.009068\n",
              "seg_map        -0.018681  0.001573  ...       -0.000679       0.007755\n",
              "sub_class_map  -0.032142  0.266905  ...        0.011255       0.021697\n",
              "del_map        -0.004485  0.006069  ...       -0.005252      -0.016367\n",
              "dep_class      -0.633804  0.092791  ...        0.757571       0.760720\n",
              "dep_city_class -0.538099  0.107536  ...        1.000000       0.793361\n",
              "address_class  -0.570047  0.119714  ...        0.793361       1.000000\n",
              "\n",
              "[15 rows x 15 columns]"
            ]
          },
          "metadata": {
            "tags": []
          },
          "execution_count": 210
        }
      ]
    },
    {
      "cell_type": "code",
      "metadata": {
        "id": "1ol7q-d7ze2b"
      },
      "source": [
        "df.drop('RID',axis=1 ,inplace=True)"
      ],
      "execution_count": null,
      "outputs": []
    },
    {
      "cell_type": "code",
      "metadata": {
        "id": "fbn6U6f8zpBn",
        "colab": {
          "base_uri": "https://localhost:8080/",
          "height": 357
        },
        "outputId": "ce631398-dd6e-4b82-af61-a792a4906db4"
      },
      "source": [
        "df.head()"
      ],
      "execution_count": null,
      "outputs": [
        {
          "output_type": "execute_result",
          "data": {
            "text/html": [
              "<div>\n",
              "<style scoped>\n",
              "    .dataframe tbody tr th:only-of-type {\n",
              "        vertical-align: middle;\n",
              "    }\n",
              "\n",
              "    .dataframe tbody tr th {\n",
              "        vertical-align: top;\n",
              "    }\n",
              "\n",
              "    .dataframe thead th {\n",
              "        text-align: right;\n",
              "    }\n",
              "</style>\n",
              "<table border=\"1\" class=\"dataframe\">\n",
              "  <thead>\n",
              "    <tr style=\"text-align: right;\">\n",
              "      <th></th>\n",
              "      <th>departure city</th>\n",
              "      <th>discount</th>\n",
              "      <th>price</th>\n",
              "      <th>no of items</th>\n",
              "      <th>location</th>\n",
              "      <th>class</th>\n",
              "      <th>segment</th>\n",
              "      <th>sub-class</th>\n",
              "      <th>delivery type</th>\n",
              "      <th>profit</th>\n",
              "      <th>delivery date</th>\n",
              "      <th>address code</th>\n",
              "      <th>departure state</th>\n",
              "      <th>placement date</th>\n",
              "      <th>item_map</th>\n",
              "      <th>loc_map</th>\n",
              "      <th>class_map</th>\n",
              "      <th>seg_map</th>\n",
              "      <th>sub_class_map</th>\n",
              "      <th>del_map</th>\n",
              "      <th>dep_class</th>\n",
              "      <th>dep_city_class</th>\n",
              "      <th>address_class</th>\n",
              "    </tr>\n",
              "    <tr>\n",
              "      <th>id</th>\n",
              "      <th></th>\n",
              "      <th></th>\n",
              "      <th></th>\n",
              "      <th></th>\n",
              "      <th></th>\n",
              "      <th></th>\n",
              "      <th></th>\n",
              "      <th></th>\n",
              "      <th></th>\n",
              "      <th></th>\n",
              "      <th></th>\n",
              "      <th></th>\n",
              "      <th></th>\n",
              "      <th></th>\n",
              "      <th></th>\n",
              "      <th></th>\n",
              "      <th></th>\n",
              "      <th></th>\n",
              "      <th></th>\n",
              "      <th></th>\n",
              "      <th></th>\n",
              "      <th></th>\n",
              "      <th></th>\n",
              "    </tr>\n",
              "  </thead>\n",
              "  <tbody>\n",
              "    <tr>\n",
              "      <th>1</th>\n",
              "      <td>Houston</td>\n",
              "      <td>0.2</td>\n",
              "      <td>16.448</td>\n",
              "      <td>2</td>\n",
              "      <td>Central</td>\n",
              "      <td>kariox</td>\n",
              "      <td>Consumer</td>\n",
              "      <td>phone</td>\n",
              "      <td>Standard Class</td>\n",
              "      <td>5.5512</td>\n",
              "      <td>2018-01-01</td>\n",
              "      <td>77095</td>\n",
              "      <td>Texas</td>\n",
              "      <td>2018-01-01</td>\n",
              "      <td>2</td>\n",
              "      <td>4</td>\n",
              "      <td>2</td>\n",
              "      <td>2</td>\n",
              "      <td>10.0</td>\n",
              "      <td>1.0</td>\n",
              "      <td>1</td>\n",
              "      <td>1</td>\n",
              "      <td>1</td>\n",
              "    </tr>\n",
              "    <tr>\n",
              "      <th>2</th>\n",
              "      <td>Westland</td>\n",
              "      <td>0.0</td>\n",
              "      <td>29.700</td>\n",
              "      <td>5</td>\n",
              "      <td>Central</td>\n",
              "      <td>kariox</td>\n",
              "      <td>Consumer</td>\n",
              "      <td>headset</td>\n",
              "      <td>Standard Class</td>\n",
              "      <td>13.3650</td>\n",
              "      <td>2018-01-01</td>\n",
              "      <td>48185</td>\n",
              "      <td>Michigan</td>\n",
              "      <td>2018-01-01</td>\n",
              "      <td>7</td>\n",
              "      <td>4</td>\n",
              "      <td>2</td>\n",
              "      <td>2</td>\n",
              "      <td>8.0</td>\n",
              "      <td>1.0</td>\n",
              "      <td>2</td>\n",
              "      <td>2</td>\n",
              "      <td>2</td>\n",
              "    </tr>\n",
              "    <tr>\n",
              "      <th>3</th>\n",
              "      <td>Westland</td>\n",
              "      <td>0.0</td>\n",
              "      <td>14.730</td>\n",
              "      <td>3</td>\n",
              "      <td>Central</td>\n",
              "      <td>qexty</td>\n",
              "      <td>Consumer</td>\n",
              "      <td>shorts</td>\n",
              "      <td>Standard Class</td>\n",
              "      <td>4.8609</td>\n",
              "      <td>2018-01-01</td>\n",
              "      <td>48185</td>\n",
              "      <td>Michigan</td>\n",
              "      <td>2018-01-01</td>\n",
              "      <td>3</td>\n",
              "      <td>4</td>\n",
              "      <td>1</td>\n",
              "      <td>2</td>\n",
              "      <td>7.0</td>\n",
              "      <td>1.0</td>\n",
              "      <td>2</td>\n",
              "      <td>2</td>\n",
              "      <td>2</td>\n",
              "    </tr>\n",
              "    <tr>\n",
              "      <th>4</th>\n",
              "      <td>Westland</td>\n",
              "      <td>0.0</td>\n",
              "      <td>43.920</td>\n",
              "      <td>3</td>\n",
              "      <td>Central</td>\n",
              "      <td>kariox</td>\n",
              "      <td>Consumer</td>\n",
              "      <td>television</td>\n",
              "      <td>Standard Class</td>\n",
              "      <td>12.7368</td>\n",
              "      <td>2018-01-01</td>\n",
              "      <td>48185</td>\n",
              "      <td>Michigan</td>\n",
              "      <td>2018-01-01</td>\n",
              "      <td>3</td>\n",
              "      <td>4</td>\n",
              "      <td>2</td>\n",
              "      <td>2</td>\n",
              "      <td>5.0</td>\n",
              "      <td>1.0</td>\n",
              "      <td>2</td>\n",
              "      <td>2</td>\n",
              "      <td>2</td>\n",
              "    </tr>\n",
              "    <tr>\n",
              "      <th>5</th>\n",
              "      <td>Westland</td>\n",
              "      <td>0.0</td>\n",
              "      <td>66.580</td>\n",
              "      <td>2</td>\n",
              "      <td>Central</td>\n",
              "      <td>kariox</td>\n",
              "      <td>Consumer</td>\n",
              "      <td>laptop</td>\n",
              "      <td>Standard Class</td>\n",
              "      <td>15.9792</td>\n",
              "      <td>2018-01-01</td>\n",
              "      <td>48185</td>\n",
              "      <td>Michigan</td>\n",
              "      <td>2018-01-01</td>\n",
              "      <td>2</td>\n",
              "      <td>4</td>\n",
              "      <td>2</td>\n",
              "      <td>2</td>\n",
              "      <td>11.0</td>\n",
              "      <td>1.0</td>\n",
              "      <td>2</td>\n",
              "      <td>2</td>\n",
              "      <td>2</td>\n",
              "    </tr>\n",
              "  </tbody>\n",
              "</table>\n",
              "</div>"
            ],
            "text/plain": [
              "   departure city  discount   price  ...  dep_class dep_city_class address_class\n",
              "id                                   ...                                        \n",
              "1         Houston       0.2  16.448  ...          1              1             1\n",
              "2        Westland       0.0  29.700  ...          2              2             2\n",
              "3        Westland       0.0  14.730  ...          2              2             2\n",
              "4        Westland       0.0  43.920  ...          2              2             2\n",
              "5        Westland       0.0  66.580  ...          2              2             2\n",
              "\n",
              "[5 rows x 23 columns]"
            ]
          },
          "metadata": {
            "tags": []
          },
          "execution_count": 212
        }
      ]
    },
    {
      "cell_type": "code",
      "metadata": {
        "id": "SlIy4owqVxhk"
      },
      "source": [
        "df['delivery date'] = pd.to_datetime(df['delivery date'])\n",
        "df['placement date'] = pd.to_datetime(df['placement date'])\n",
        "df['duration'] = (df['delivery date'] - df['placement date']).dt.days"
      ],
      "execution_count": null,
      "outputs": []
    },
    {
      "cell_type": "code",
      "metadata": {
        "id": "pNb8JNUuYvdV"
      },
      "source": [
        ""
      ],
      "execution_count": null,
      "outputs": []
    },
    {
      "cell_type": "code",
      "metadata": {
        "colab": {
          "base_uri": "https://localhost:8080/"
        },
        "id": "ii2VCgSLrEPv",
        "outputId": "032fd773-1fa0-4e46-ce6b-817c3dc42e8a"
      },
      "source": [
        "df['delivery_month']=df['delivery date'].dt.month\n",
        "df['delivery_week']=df['delivery date'].dt.week"
      ],
      "execution_count": null,
      "outputs": [
        {
          "output_type": "stream",
          "text": [
            "/usr/local/lib/python3.7/dist-packages/ipykernel_launcher.py:2: FutureWarning: Series.dt.weekofyear and Series.dt.week have been deprecated.  Please use Series.dt.isocalendar().week instead.\n",
            "  \n"
          ],
          "name": "stderr"
        }
      ]
    },
    {
      "cell_type": "code",
      "metadata": {
        "colab": {
          "base_uri": "https://localhost:8080/"
        },
        "id": "eZEsQ5_O0GwB",
        "outputId": "82171639-4cbe-4e3d-ef94-fa328b6b2ae1"
      },
      "source": [
        "df['placement_month']=df['placement date'].dt.month\n",
        "df['placement_week']=df['placement date'].dt.week\n"
      ],
      "execution_count": null,
      "outputs": [
        {
          "output_type": "stream",
          "text": [
            "/usr/local/lib/python3.7/dist-packages/ipykernel_launcher.py:2: FutureWarning: Series.dt.weekofyear and Series.dt.week have been deprecated.  Please use Series.dt.isocalendar().week instead.\n",
            "  \n"
          ],
          "name": "stderr"
        }
      ]
    },
    {
      "cell_type": "code",
      "metadata": {
        "id": "2GcAc2Cx0KuD"
      },
      "source": [
        ""
      ],
      "execution_count": null,
      "outputs": []
    },
    {
      "cell_type": "code",
      "metadata": {
        "colab": {
          "base_uri": "https://localhost:8080/",
          "height": 297
        },
        "id": "pWKiHpBvn93u",
        "outputId": "36353adc-72fd-4eb4-94ee-bb7f6a2162c9"
      },
      "source": [
        "sns.barplot(x='duration',y='profit',data=df)"
      ],
      "execution_count": null,
      "outputs": [
        {
          "output_type": "execute_result",
          "data": {
            "text/plain": [
              "<matplotlib.axes._subplots.AxesSubplot at 0x7f03364c3c90>"
            ]
          },
          "metadata": {
            "tags": []
          },
          "execution_count": 216
        },
        {
          "output_type": "display_data",
          "data": {
            "image/png": "[encoded data removed]",
            "text/plain": [
              "<Figure size 432x288 with 1 Axes>"
            ]
          },
          "metadata": {
            "tags": [],
            "needs_background": "light"
          }
        }
      ]
    },
    {
      "cell_type": "code",
      "metadata": {
        "colab": {
          "base_uri": "https://localhost:8080/",
          "height": 297
        },
        "id": "J6u8wh7eoVt-",
        "outputId": "983d4cb7-9d71-4a61-993a-ac21fc2b39e8"
      },
      "source": [
        "sns.boxplot(x='duration',y='profit',data=df)\n"
      ],
      "execution_count": null,
      "outputs": [
        {
          "output_type": "execute_result",
          "data": {
            "text/plain": [
              "<matplotlib.axes._subplots.AxesSubplot at 0x7f033076c6d0>"
            ]
          },
          "metadata": {
            "tags": []
          },
          "execution_count": 217
        },
        {
          "output_type": "display_data",
          "data": {
            "image/png": "[encoded data removed]",
            "text/plain": [
              "<Figure size 432x288 with 1 Axes>"
            ]
          },
          "metadata": {
            "tags": [],
            "needs_background": "light"
          }
        }
      ]
    },
    {
      "cell_type": "code",
      "metadata": {
        "id": "600-PimAo2PG"
      },
      "source": [
        "# duration={29:5,28:4,30:3,31:2,0:1}\n",
        "duration={31:5,0:4,29:3,30:2,28:1}\n",
        "df['duration_map']=df['duration'].map(duration)"
      ],
      "execution_count": null,
      "outputs": []
    },
    {
      "cell_type": "code",
      "metadata": {
        "id": "_4we3c46oqrk"
      },
      "source": [
        ""
      ],
      "execution_count": null,
      "outputs": []
    },
    {
      "cell_type": "code",
      "metadata": {
        "colab": {
          "base_uri": "https://localhost:8080/",
          "height": 773
        },
        "id": "CS9IljVczlh8",
        "outputId": "84381d33-5eab-4881-f454-a74c1000046e"
      },
      "source": [
        "f, ax = plt.subplots(figsize=(20, 15))\n",
        "corr = df.corr()\n",
        "sns.heatmap(corr, mask=np.zeros_like(corr, dtype=np.bool),cmap=sns.diverging_palette(220, 10, as_cmap=True), square=True, ax=ax, annot=True)\n",
        "plt.show()"
      ],
      "execution_count": null,
      "outputs": [
        {
          "output_type": "display_data",
          "data": {
            "image/png": "[encoded data removed]",
            "text/plain": [
              "<Figure size 1440x1080 with 2 Axes>"
            ]
          },
          "metadata": {
            "tags": [],
            "needs_background": "light"
          }
        }
      ]
    },
    {
      "cell_type": "code",
      "metadata": {
        "id": "Gp3uLvXaGYbl"
      },
      "source": [
        "df.drop(['departure city','location','class','segment','sub-class','delivery type','delivery date','address code','departure state','placement date'], axis=1, inplace=True)"
      ],
      "execution_count": null,
      "outputs": []
    },
    {
      "cell_type": "code",
      "metadata": {
        "id": "cSfqu-891l0n",
        "colab": {
          "base_uri": "https://localhost:8080/"
        },
        "outputId": "026b9bca-5ee4-4d28-8f57-5ee059f763e9"
      },
      "source": [
        "df.isnull().sum()"
      ],
      "execution_count": null,
      "outputs": [
        {
          "output_type": "execute_result",
          "data": {
            "text/plain": [
              "discount             0\n",
              "price                0\n",
              "no of items          0\n",
              "profit               0\n",
              "item_map             0\n",
              "loc_map              0\n",
              "class_map            0\n",
              "seg_map              0\n",
              "sub_class_map      215\n",
              "del_map              1\n",
              "dep_class            0\n",
              "dep_city_class       0\n",
              "address_class        0\n",
              "duration             0\n",
              "delivery_month       0\n",
              "delivery_week        0\n",
              "placement_month      0\n",
              "placement_week       0\n",
              "duration_map         0\n",
              "dtype: int64"
            ]
          },
          "metadata": {
            "tags": []
          },
          "execution_count": 221
        }
      ]
    },
    {
      "cell_type": "code",
      "metadata": {
        "colab": {
          "base_uri": "https://localhost:8080/"
        },
        "id": "5d_6IjhArx2H",
        "outputId": "6b9c22db-2862-4cdb-b8e9-b2c2d024ee8e"
      },
      "source": [
        "df.info()"
      ],
      "execution_count": null,
      "outputs": [
        {
          "output_type": "stream",
          "text": [
            "<class 'pandas.core.frame.DataFrame'>\n",
            "Int64Index: 6674 entries, 1 to 6700\n",
            "Data columns (total 19 columns):\n",
            " #   Column           Non-Null Count  Dtype  \n",
            "---  ------           --------------  -----  \n",
            " 0   discount         6674 non-null   float64\n",
            " 1   price            6674 non-null   float64\n",
            " 2   no of items      6674 non-null   int64  \n",
            " 3   profit           6674 non-null   float64\n",
            " 4   item_map         6674 non-null   int64  \n",
            " 5   loc_map          6674 non-null   int64  \n",
            " 6   class_map        6674 non-null   int64  \n",
            " 7   seg_map          6674 non-null   int64  \n",
            " 8   sub_class_map    6459 non-null   float64\n",
            " 9   del_map          6673 non-null   float64\n",
            " 10  dep_class        6674 non-null   int64  \n",
            " 11  dep_city_class   6674 non-null   int64  \n",
            " 12  address_class    6674 non-null   int64  \n",
            " 13  duration         6674 non-null   int64  \n",
            " 14  delivery_month   6674 non-null   int64  \n",
            " 15  delivery_week    6674 non-null   int64  \n",
            " 16  placement_month  6674 non-null   int64  \n",
            " 17  placement_week   6674 non-null   int64  \n",
            " 18  duration_map     6674 non-null   int64  \n",
            "dtypes: float64(5), int64(14)\n",
            "memory usage: 1.3 MB\n"
          ],
          "name": "stdout"
        }
      ]
    },
    {
      "cell_type": "code",
      "metadata": {
        "id": "c-kvM_qjrf27"
      },
      "source": [
        "# Funtion to clean the dateset for Nan Values and infinite numbers and mismatch in datatype values\n",
        "\n",
        "def clean_dataset(df):\n",
        "    assert isinstance(df, pd.DataFrame), \"df needs to be a pd.DataFrame\"\n",
        "    df.dropna(inplace=True)\n",
        "    indices_to_keep = ~df.isin([np.nan, np.inf, -np.inf]).any(1)\n",
        "    return df[indices_to_keep].astype(np.float64)"
      ],
      "execution_count": null,
      "outputs": []
    },
    {
      "cell_type": "code",
      "metadata": {
        "colab": {
          "base_uri": "https://localhost:8080/",
          "height": 483
        },
        "id": "6MGzZoT3rnmf",
        "outputId": "557cb516-c0d5-4c75-8ab7-1618e7beca91"
      },
      "source": [
        "# Calling the Cleaning Function\n",
        "clean_dataset(df)"
      ],
      "execution_count": null,
      "outputs": [
        {
          "output_type": "execute_result",
          "data": {
            "text/html": [
              "<div>\n",
              "<style scoped>\n",
              "    .dataframe tbody tr th:only-of-type {\n",
              "        vertical-align: middle;\n",
              "    }\n",
              "\n",
              "    .dataframe tbody tr th {\n",
              "        vertical-align: top;\n",
              "    }\n",
              "\n",
              "    .dataframe thead th {\n",
              "        text-align: right;\n",
              "    }\n",
              "</style>\n",
              "<table border=\"1\" class=\"dataframe\">\n",
              "  <thead>\n",
              "    <tr style=\"text-align: right;\">\n",
              "      <th></th>\n",
              "      <th>discount</th>\n",
              "      <th>price</th>\n",
              "      <th>no of items</th>\n",
              "      <th>profit</th>\n",
              "      <th>item_map</th>\n",
              "      <th>loc_map</th>\n",
              "      <th>class_map</th>\n",
              "      <th>seg_map</th>\n",
              "      <th>sub_class_map</th>\n",
              "      <th>del_map</th>\n",
              "      <th>dep_class</th>\n",
              "      <th>dep_city_class</th>\n",
              "      <th>address_class</th>\n",
              "      <th>duration</th>\n",
              "      <th>delivery_month</th>\n",
              "      <th>delivery_week</th>\n",
              "      <th>placement_month</th>\n",
              "      <th>placement_week</th>\n",
              "      <th>duration_map</th>\n",
              "    </tr>\n",
              "    <tr>\n",
              "      <th>id</th>\n",
              "      <th></th>\n",
              "      <th></th>\n",
              "      <th></th>\n",
              "      <th></th>\n",
              "      <th></th>\n",
              "      <th></th>\n",
              "      <th></th>\n",
              "      <th></th>\n",
              "      <th></th>\n",
              "      <th></th>\n",
              "      <th></th>\n",
              "      <th></th>\n",
              "      <th></th>\n",
              "      <th></th>\n",
              "      <th></th>\n",
              "      <th></th>\n",
              "      <th></th>\n",
              "      <th></th>\n",
              "      <th></th>\n",
              "    </tr>\n",
              "  </thead>\n",
              "  <tbody>\n",
              "    <tr>\n",
              "      <th>1</th>\n",
              "      <td>0.2</td>\n",
              "      <td>16.448</td>\n",
              "      <td>2.0</td>\n",
              "      <td>5.5512</td>\n",
              "      <td>2.0</td>\n",
              "      <td>4.0</td>\n",
              "      <td>2.0</td>\n",
              "      <td>2.0</td>\n",
              "      <td>10.0</td>\n",
              "      <td>1.0</td>\n",
              "      <td>1.0</td>\n",
              "      <td>1.0</td>\n",
              "      <td>1.0</td>\n",
              "      <td>0.0</td>\n",
              "      <td>1.0</td>\n",
              "      <td>1.0</td>\n",
              "      <td>1.0</td>\n",
              "      <td>1.0</td>\n",
              "      <td>4.0</td>\n",
              "    </tr>\n",
              "    <tr>\n",
              "      <th>2</th>\n",
              "      <td>0.0</td>\n",
              "      <td>29.700</td>\n",
              "      <td>5.0</td>\n",
              "      <td>13.3650</td>\n",
              "      <td>7.0</td>\n",
              "      <td>4.0</td>\n",
              "      <td>2.0</td>\n",
              "      <td>2.0</td>\n",
              "      <td>8.0</td>\n",
              "      <td>1.0</td>\n",
              "      <td>2.0</td>\n",
              "      <td>2.0</td>\n",
              "      <td>2.0</td>\n",
              "      <td>0.0</td>\n",
              "      <td>1.0</td>\n",
              "      <td>1.0</td>\n",
              "      <td>1.0</td>\n",
              "      <td>1.0</td>\n",
              "      <td>4.0</td>\n",
              "    </tr>\n",
              "    <tr>\n",
              "      <th>3</th>\n",
              "      <td>0.0</td>\n",
              "      <td>14.730</td>\n",
              "      <td>3.0</td>\n",
              "      <td>4.8609</td>\n",
              "      <td>3.0</td>\n",
              "      <td>4.0</td>\n",
              "      <td>1.0</td>\n",
              "      <td>2.0</td>\n",
              "      <td>7.0</td>\n",
              "      <td>1.0</td>\n",
              "      <td>2.0</td>\n",
              "      <td>2.0</td>\n",
              "      <td>2.0</td>\n",
              "      <td>0.0</td>\n",
              "      <td>1.0</td>\n",
              "      <td>1.0</td>\n",
              "      <td>1.0</td>\n",
              "      <td>1.0</td>\n",
              "      <td>4.0</td>\n",
              "    </tr>\n",
              "    <tr>\n",
              "      <th>4</th>\n",
              "      <td>0.0</td>\n",
              "      <td>43.920</td>\n",
              "      <td>3.0</td>\n",
              "      <td>12.7368</td>\n",
              "      <td>3.0</td>\n",
              "      <td>4.0</td>\n",
              "      <td>2.0</td>\n",
              "      <td>2.0</td>\n",
              "      <td>5.0</td>\n",
              "      <td>1.0</td>\n",
              "      <td>2.0</td>\n",
              "      <td>2.0</td>\n",
              "      <td>2.0</td>\n",
              "      <td>0.0</td>\n",
              "      <td>1.0</td>\n",
              "      <td>1.0</td>\n",
              "      <td>1.0</td>\n",
              "      <td>1.0</td>\n",
              "      <td>4.0</td>\n",
              "    </tr>\n",
              "    <tr>\n",
              "      <th>5</th>\n",
              "      <td>0.0</td>\n",
              "      <td>66.580</td>\n",
              "      <td>2.0</td>\n",
              "      <td>15.9792</td>\n",
              "      <td>2.0</td>\n",
              "      <td>4.0</td>\n",
              "      <td>2.0</td>\n",
              "      <td>2.0</td>\n",
              "      <td>11.0</td>\n",
              "      <td>1.0</td>\n",
              "      <td>2.0</td>\n",
              "      <td>2.0</td>\n",
              "      <td>2.0</td>\n",
              "      <td>0.0</td>\n",
              "      <td>1.0</td>\n",
              "      <td>1.0</td>\n",
              "      <td>1.0</td>\n",
              "      <td>1.0</td>\n",
              "      <td>4.0</td>\n",
              "    </tr>\n",
              "    <tr>\n",
              "      <th>...</th>\n",
              "      <td>...</td>\n",
              "      <td>...</td>\n",
              "      <td>...</td>\n",
              "      <td>...</td>\n",
              "      <td>...</td>\n",
              "      <td>...</td>\n",
              "      <td>...</td>\n",
              "      <td>...</td>\n",
              "      <td>...</td>\n",
              "      <td>...</td>\n",
              "      <td>...</td>\n",
              "      <td>...</td>\n",
              "      <td>...</td>\n",
              "      <td>...</td>\n",
              "      <td>...</td>\n",
              "      <td>...</td>\n",
              "      <td>...</td>\n",
              "      <td>...</td>\n",
              "      <td>...</td>\n",
              "    </tr>\n",
              "    <tr>\n",
              "      <th>6696</th>\n",
              "      <td>0.0</td>\n",
              "      <td>542.940</td>\n",
              "      <td>3.0</td>\n",
              "      <td>152.0232</td>\n",
              "      <td>3.0</td>\n",
              "      <td>1.0</td>\n",
              "      <td>2.0</td>\n",
              "      <td>2.0</td>\n",
              "      <td>12.0</td>\n",
              "      <td>1.0</td>\n",
              "      <td>4.0</td>\n",
              "      <td>3.0</td>\n",
              "      <td>3.0</td>\n",
              "      <td>0.0</td>\n",
              "      <td>1.0</td>\n",
              "      <td>53.0</td>\n",
              "      <td>1.0</td>\n",
              "      <td>53.0</td>\n",
              "      <td>4.0</td>\n",
              "    </tr>\n",
              "    <tr>\n",
              "      <th>6697</th>\n",
              "      <td>0.2</td>\n",
              "      <td>276.784</td>\n",
              "      <td>2.0</td>\n",
              "      <td>89.9548</td>\n",
              "      <td>2.0</td>\n",
              "      <td>2.0</td>\n",
              "      <td>2.0</td>\n",
              "      <td>1.0</td>\n",
              "      <td>8.0</td>\n",
              "      <td>1.0</td>\n",
              "      <td>2.0</td>\n",
              "      <td>2.0</td>\n",
              "      <td>2.0</td>\n",
              "      <td>0.0</td>\n",
              "      <td>1.0</td>\n",
              "      <td>53.0</td>\n",
              "      <td>1.0</td>\n",
              "      <td>53.0</td>\n",
              "      <td>4.0</td>\n",
              "    </tr>\n",
              "    <tr>\n",
              "      <th>6698</th>\n",
              "      <td>0.0</td>\n",
              "      <td>2.040</td>\n",
              "      <td>1.0</td>\n",
              "      <td>0.9588</td>\n",
              "      <td>1.0</td>\n",
              "      <td>1.0</td>\n",
              "      <td>2.0</td>\n",
              "      <td>2.0</td>\n",
              "      <td>9.0</td>\n",
              "      <td>1.0</td>\n",
              "      <td>4.0</td>\n",
              "      <td>3.0</td>\n",
              "      <td>3.0</td>\n",
              "      <td>0.0</td>\n",
              "      <td>1.0</td>\n",
              "      <td>53.0</td>\n",
              "      <td>1.0</td>\n",
              "      <td>53.0</td>\n",
              "      <td>4.0</td>\n",
              "    </tr>\n",
              "    <tr>\n",
              "      <th>6699</th>\n",
              "      <td>0.1</td>\n",
              "      <td>207.846</td>\n",
              "      <td>3.0</td>\n",
              "      <td>2.3094</td>\n",
              "      <td>3.0</td>\n",
              "      <td>1.0</td>\n",
              "      <td>1.0</td>\n",
              "      <td>1.0</td>\n",
              "      <td>13.0</td>\n",
              "      <td>2.0</td>\n",
              "      <td>3.0</td>\n",
              "      <td>3.0</td>\n",
              "      <td>2.0</td>\n",
              "      <td>0.0</td>\n",
              "      <td>1.0</td>\n",
              "      <td>53.0</td>\n",
              "      <td>1.0</td>\n",
              "      <td>53.0</td>\n",
              "      <td>4.0</td>\n",
              "    </tr>\n",
              "    <tr>\n",
              "      <th>6700</th>\n",
              "      <td>0.2</td>\n",
              "      <td>160.776</td>\n",
              "      <td>3.0</td>\n",
              "      <td>10.0485</td>\n",
              "      <td>3.0</td>\n",
              "      <td>2.0</td>\n",
              "      <td>3.0</td>\n",
              "      <td>2.0</td>\n",
              "      <td>14.0</td>\n",
              "      <td>1.0</td>\n",
              "      <td>2.0</td>\n",
              "      <td>2.0</td>\n",
              "      <td>3.0</td>\n",
              "      <td>0.0</td>\n",
              "      <td>1.0</td>\n",
              "      <td>53.0</td>\n",
              "      <td>1.0</td>\n",
              "      <td>53.0</td>\n",
              "      <td>4.0</td>\n",
              "    </tr>\n",
              "  </tbody>\n",
              "</table>\n",
              "<p>6458 rows × 19 columns</p>\n",
              "</div>"
            ],
            "text/plain": [
              "      discount    price  ...  placement_week  duration_map\n",
              "id                       ...                              \n",
              "1          0.2   16.448  ...             1.0           4.0\n",
              "2          0.0   29.700  ...             1.0           4.0\n",
              "3          0.0   14.730  ...             1.0           4.0\n",
              "4          0.0   43.920  ...             1.0           4.0\n",
              "5          0.0   66.580  ...             1.0           4.0\n",
              "...        ...      ...  ...             ...           ...\n",
              "6696       0.0  542.940  ...            53.0           4.0\n",
              "6697       0.2  276.784  ...            53.0           4.0\n",
              "6698       0.0    2.040  ...            53.0           4.0\n",
              "6699       0.1  207.846  ...            53.0           4.0\n",
              "6700       0.2  160.776  ...            53.0           4.0\n",
              "\n",
              "[6458 rows x 19 columns]"
            ]
          },
          "metadata": {
            "tags": []
          },
          "execution_count": 224
        }
      ]
    },
    {
      "cell_type": "code",
      "metadata": {
        "id": "j-UDnZAZsT5k"
      },
      "source": [
        "df.reset_index(drop=True,inplace=True)"
      ],
      "execution_count": null,
      "outputs": []
    },
    {
      "cell_type": "code",
      "metadata": {
        "id": "wZSlRHM-sUGj"
      },
      "source": [
        "# Separating the target Column from train Set\n",
        "Y_train = df[['profit']]"
      ],
      "execution_count": null,
      "outputs": []
    },
    {
      "cell_type": "code",
      "metadata": {
        "id": "E-pthNmwsvPB"
      },
      "source": [
        "# Dropping the Target column in train set\n",
        "\n",
        "df.drop('profit', axis = 1, inplace = True)"
      ],
      "execution_count": null,
      "outputs": []
    },
    {
      "cell_type": "code",
      "metadata": {
        "id": "lB2t3c0LtL_I"
      },
      "source": [
        "df.reset_index(drop=True,inplace=True)"
      ],
      "execution_count": null,
      "outputs": []
    },
    {
      "cell_type": "code",
      "metadata": {
        "id": "Oqj7MpBKtVBc"
      },
      "source": [
        "# Function for feature Selection Based on Corelation\n",
        "def cor(dataset,thres):\n",
        "    col_corr = set()\n",
        "    corr_matrix = dataset.corr()\n",
        "    for i in range(len(corr_matrix.columns)):\n",
        "        for j in range(i):\n",
        "            if abs(corr_matrix.iloc[i,j]) > thres:\n",
        "                colname = corr_matrix.columns[i]\n",
        "                col_corr.add(colname)\n",
        "    return col_corr            "
      ],
      "execution_count": null,
      "outputs": []
    },
    {
      "cell_type": "code",
      "metadata": {
        "colab": {
          "base_uri": "https://localhost:8080/"
        },
        "id": "oBWYCNcPtXos",
        "outputId": "4104ee99-49c1-4943-e432-177dc9892838"
      },
      "source": [
        "# Setting Threshold value for feature Selection\n",
        "\n",
        "corr_features = cor(df, 0.8)\n",
        "len(corr_features)"
      ],
      "execution_count": null,
      "outputs": [
        {
          "output_type": "execute_result",
          "data": {
            "text/plain": [
              "4"
            ]
          },
          "metadata": {
            "tags": []
          },
          "execution_count": 230
        }
      ]
    },
    {
      "cell_type": "code",
      "metadata": {
        "colab": {
          "base_uri": "https://localhost:8080/"
        },
        "id": "8dQurrb0tX17",
        "outputId": "4bd346fd-5e37-4e1d-88a1-66b10da2795e"
      },
      "source": [
        "corr_features"
      ],
      "execution_count": null,
      "outputs": [
        {
          "output_type": "execute_result",
          "data": {
            "text/plain": [
              "{'delivery_week', 'item_map', 'placement_month', 'placement_week'}"
            ]
          },
          "metadata": {
            "tags": []
          },
          "execution_count": 231
        }
      ]
    },
    {
      "cell_type": "code",
      "metadata": {
        "id": "o77PCVUHtX5J"
      },
      "source": [
        "df.drop(['delivery_week', 'placement_month', 'placement_week'], axis=1, inplace=True)"
      ],
      "execution_count": null,
      "outputs": []
    },
    {
      "cell_type": "code",
      "metadata": {
        "id": "IxOQtze_uZnZ"
      },
      "source": [
        "from sklearn.model_selection import train_test_split\n",
        "X_train, X_test, y_train, y_test = train_test_split(df, Y_train, test_size=0.05, random_state=42)\n"
      ],
      "execution_count": null,
      "outputs": []
    },
    {
      "cell_type": "code",
      "metadata": {
        "id": "SQq7KC3wuZq7"
      },
      "source": [
        "X_train.reset_index(drop=True,inplace=True)\n",
        "X_test.reset_index(drop=True,inplace=True)\n",
        "y_train.reset_index(drop=True,inplace=True)\n",
        "y_train.reset_index(drop=True,inplace=True)"
      ],
      "execution_count": null,
      "outputs": []
    },
    {
      "cell_type": "code",
      "metadata": {
        "colab": {
          "base_uri": "https://localhost:8080/"
        },
        "id": "Pg30i2M7uZvN",
        "outputId": "f0a91707-48d5-4e83-c483-c9138f262c34"
      },
      "source": [
        "X_train.shape"
      ],
      "execution_count": null,
      "outputs": [
        {
          "output_type": "execute_result",
          "data": {
            "text/plain": [
              "(6135, 15)"
            ]
          },
          "metadata": {
            "tags": []
          },
          "execution_count": 235
        }
      ]
    },
    {
      "cell_type": "code",
      "metadata": {
        "colab": {
          "base_uri": "https://localhost:8080/"
        },
        "id": "iDrhlHPNuZys",
        "outputId": "c08e2335-6268-478e-c46f-6a1250fb5905"
      },
      "source": [
        "X_test.shape"
      ],
      "execution_count": null,
      "outputs": [
        {
          "output_type": "execute_result",
          "data": {
            "text/plain": [
              "(323, 15)"
            ]
          },
          "metadata": {
            "tags": []
          },
          "execution_count": 236
        }
      ]
    },
    {
      "cell_type": "code",
      "metadata": {
        "colab": {
          "base_uri": "https://localhost:8080/"
        },
        "id": "81zO5WllvqQj",
        "outputId": "3e8f3088-73b6-4188-8b42-eb0cc07f701b"
      },
      "source": [
        "lr = LinearRegression()\n",
        "lr.fit(X_train, y_train)\n"
      ],
      "execution_count": null,
      "outputs": [
        {
          "output_type": "execute_result",
          "data": {
            "text/plain": [
              "LinearRegression(copy_X=True, fit_intercept=True, n_jobs=None, normalize=False)"
            ]
          },
          "metadata": {
            "tags": []
          },
          "execution_count": 237
        }
      ]
    },
    {
      "cell_type": "code",
      "metadata": {
        "colab": {
          "base_uri": "https://localhost:8080/"
        },
        "id": "dDg2Ezy_vqrb",
        "outputId": "5eb357ff-450c-42ed-9689-d7bb1cfa3843"
      },
      "source": [
        "predict = lr.predict(X_train)\n",
        "MSE = mean_squared_error(y_train, predict)\n",
        "RMSE = np.sqrt(MSE)\n",
        "R2_SCORE = r2_score(y_train, predict)\n",
        "SCORE = lr.score(X_train, y_train)\n",
        "print(MSE, '\\n',RMSE, '\\n' ,R2_SCORE, '\\n', SCORE, '\\n')"
      ],
      "execution_count": null,
      "outputs": [
        {
          "output_type": "stream",
          "text": [
            "7457.501471309513 \n",
            " 86.35682643143802 \n",
            " 0.44074344758112305 \n",
            " 0.44074344758112305 \n",
            "\n"
          ],
          "name": "stdout"
        }
      ]
    },
    {
      "cell_type": "code",
      "metadata": {
        "colab": {
          "base_uri": "https://localhost:8080/"
        },
        "id": "-ffS4NXhv74X",
        "outputId": "a98f240a-8c77-411b-824d-00b9b5b956d9"
      },
      "source": [
        "predict = lr.predict(X_test)\n",
        "MSE = mean_squared_error(y_test, predict)\n",
        "RMSE = np.sqrt(MSE)\n",
        "R2_SCORE = r2_score(y_test, predict)\n",
        "SCORE = lr.score(X_test, y_test)\n",
        "print(MSE, '\\n',RMSE, '\\n' ,R2_SCORE, '\\n', SCORE, '\\n')"
      ],
      "execution_count": null,
      "outputs": [
        {
          "output_type": "stream",
          "text": [
            "10503.595470201255 \n",
            " 102.48705025612385 \n",
            " -0.1696658778452349 \n",
            " -0.1696658778452349 \n",
            "\n"
          ],
          "name": "stdout"
        }
      ]
    },
    {
      "cell_type": "code",
      "metadata": {
        "id": "ojAcDd5Tye5J",
        "colab": {
          "base_uri": "https://localhost:8080/",
          "height": 87
        },
        "outputId": "acf2fb09-1866-4028-e6fb-466f5d8ef9d1"
      },
      "source": [
        "\"\"\"from sklearn.model_selection import GridSearchCV\n",
        "param_grid = {\"criterion\": [\"mse\", \"mae\"],\n",
        "              \"min_samples_split\": [5, 10, 15, 20, 40],\n",
        "              \"max_depth\": [ 5, 6, 7, 8, 9, 10],\n",
        "              \"min_samples_leaf\": [ 10, 20, 30, 40, 50],\n",
        "              \"max_leaf_nodes\": [ 40, 50, 100, 150, 200],\n",
        "              }\"\"\""
      ],
      "execution_count": null,
      "outputs": [
        {
          "output_type": "execute_result",
          "data": {
            "application/vnd.google.colaboratory.intrinsic+json": {
              "type": "string"
            },
            "text/plain": [
              "'from sklearn.model_selection import GridSearchCV\\nparam_grid = {\"criterion\": [\"mse\", \"mae\"],\\n              \"min_samples_split\": [5, 10, 15, 20, 40],\\n              \"max_depth\": [ 5, 6, 7, 8, 9, 10],\\n              \"min_samples_leaf\": [ 10, 20, 30, 40, 50],\\n              \"max_leaf_nodes\": [ 40, 50, 100, 150, 200],\\n              }'"
            ]
          },
          "metadata": {
            "tags": []
          },
          "execution_count": 240
        }
      ]
    },
    {
      "cell_type": "code",
      "metadata": {
        "id": "5gmytXDDye9A"
      },
      "source": [
        "#dtr = DecisionTreeRegressor()"
      ],
      "execution_count": null,
      "outputs": []
    },
    {
      "cell_type": "code",
      "metadata": {
        "id": "XMNYfLf7yfAV"
      },
      "source": [
        "#grid_search = GridSearchCV(estimator = dtr, param_grid = param_grid, cv = 5)"
      ],
      "execution_count": null,
      "outputs": []
    },
    {
      "cell_type": "code",
      "metadata": {
        "id": "7_xVS1yBzFVF"
      },
      "source": [
        "#grid_search.fit(X_train, y_train)"
      ],
      "execution_count": null,
      "outputs": []
    },
    {
      "cell_type": "code",
      "metadata": {
        "id": "Hw0wuWBBzFaM"
      },
      "source": [
        "#grid_search.best_params_"
      ],
      "execution_count": null,
      "outputs": []
    },
    {
      "cell_type": "code",
      "metadata": {
        "colab": {
          "base_uri": "https://localhost:8080/"
        },
        "id": "xTrZvowYv78K",
        "outputId": "ddab759b-26b3-4ab6-e7b3-6092fd2b80f0"
      },
      "source": [
        "dtr = DecisionTreeRegressor(max_depth = 20, max_leaf_nodes = 200, min_samples_leaf = 20, min_samples_split = 10)\n",
        "dtr.fit(X_train, y_train)\n"
      ],
      "execution_count": null,
      "outputs": [
        {
          "output_type": "execute_result",
          "data": {
            "text/plain": [
              "DecisionTreeRegressor(ccp_alpha=0.0, criterion='mse', max_depth=20,\n",
              "                      max_features=None, max_leaf_nodes=200,\n",
              "                      min_impurity_decrease=0.0, min_impurity_split=None,\n",
              "                      min_samples_leaf=20, min_samples_split=10,\n",
              "                      min_weight_fraction_leaf=0.0, presort='deprecated',\n",
              "                      random_state=None, splitter='best')"
            ]
          },
          "metadata": {
            "tags": []
          },
          "execution_count": 245
        }
      ]
    },
    {
      "cell_type": "code",
      "metadata": {
        "colab": {
          "base_uri": "https://localhost:8080/"
        },
        "id": "8DAqvxDyweqm",
        "outputId": "91774a5e-d73c-47c8-a348-8e213298b68c"
      },
      "source": [
        "\n",
        "predict = dtr.predict(X_train)\n",
        "MSE = mean_squared_error(y_train, predict)\n",
        "RMSE = np.sqrt(MSE)\n",
        "R2_SCORE = r2_score(y_train, predict)\n",
        "SCORE = dtr.score(X_train, y_train)\n",
        "print(MSE, '\\n',RMSE, '\\n' ,R2_SCORE, '\\n', SCORE, '\\n')"
      ],
      "execution_count": null,
      "outputs": [
        {
          "output_type": "stream",
          "text": [
            "3438.2706265965685 \n",
            " 58.636768555204064 \n",
            " 0.7421555484352003 \n",
            " 0.7421555484352003 \n",
            "\n"
          ],
          "name": "stdout"
        }
      ]
    },
    {
      "cell_type": "code",
      "metadata": {
        "colab": {
          "base_uri": "https://localhost:8080/"
        },
        "id": "Rz4wd1Elwet6",
        "outputId": "eb0d83ce-5528-486f-9b17-e2daff44f3ef"
      },
      "source": [
        "predict = dtr.predict(X_test)\n",
        "MSE = mean_squared_error(y_test, predict)\n",
        "RMSE = np.sqrt(MSE)\n",
        "R2_SCORE = r2_score(y_test, predict)\n",
        "SCORE = dtr.score(X_test, y_test)\n",
        "print(MSE, '\\n',RMSE, '\\n' ,R2_SCORE, '\\n', SCORE, '\\n')"
      ],
      "execution_count": null,
      "outputs": [
        {
          "output_type": "stream",
          "text": [
            "9473.916937192162 \n",
            " 97.33404819071362 \n",
            " -0.05500229920425359 \n",
            " -0.05500229920425359 \n",
            "\n"
          ],
          "name": "stdout"
        }
      ]
    },
    {
      "cell_type": "code",
      "metadata": {
        "colab": {
          "base_uri": "https://localhost:8080/",
          "height": 70
        },
        "id": "Ym621Muy0qdq",
        "outputId": "df28d44f-16da-4183-aa79-f2777bea3697"
      },
      "source": [
        "'''from sklearn.model_selection import GridSearchCV\n",
        "param_grid = {\n",
        "    'bootstrap': [True],\n",
        "    'max_depth': [ 40, 50, 60, 70, 100],\n",
        "    'max_features': [ 6, 7, 8],\n",
        "    'min_samples_leaf': [ 3, 4, 5, 7, 10],\n",
        "    'min_samples_split': [ 3, 4, 5, 6, 8, 10],\n",
        "    'n_estimators': [30, 40, 50, 60]\n",
        "}'''\n"
      ],
      "execution_count": null,
      "outputs": [
        {
          "output_type": "execute_result",
          "data": {
            "application/vnd.google.colaboratory.intrinsic+json": {
              "type": "string"
            },
            "text/plain": [
              "\"from sklearn.model_selection import GridSearchCV\\nparam_grid = {\\n    'bootstrap': [True],\\n    'max_depth': [ 40, 50, 60, 70, 100],\\n    'max_features': [ 6, 7, 8],\\n    'min_samples_leaf': [ 3, 4, 5, 7, 10],\\n    'min_samples_split': [ 3, 4, 5, 6, 8, 10],\\n    'n_estimators': [30, 40, 50, 60]\\n}\""
            ]
          },
          "metadata": {
            "tags": []
          },
          "execution_count": 248
        }
      ]
    },
    {
      "cell_type": "code",
      "metadata": {
        "id": "cigOXdFR0qhY"
      },
      "source": [
        "#rf = RandomForestRegressor()"
      ],
      "execution_count": null,
      "outputs": []
    },
    {
      "cell_type": "code",
      "metadata": {
        "id": "o469z5mK0qlZ"
      },
      "source": [
        "#grid_search = GridSearchCV(estimator = rf, param_grid = param_grid, n_jobs = -1, verbose = 2)"
      ],
      "execution_count": null,
      "outputs": []
    },
    {
      "cell_type": "code",
      "metadata": {
        "id": "7_HD7_Qv00jn"
      },
      "source": [
        "#grid_search.fit(X_train, y_train)"
      ],
      "execution_count": null,
      "outputs": []
    },
    {
      "cell_type": "code",
      "metadata": {
        "id": "txAhv_ns00nn"
      },
      "source": [
        "#grid_search.best_params_"
      ],
      "execution_count": null,
      "outputs": []
    },
    {
      "cell_type": "code",
      "metadata": {
        "id": "WqtfO4Un0061"
      },
      "source": [
        ""
      ],
      "execution_count": null,
      "outputs": []
    },
    {
      "cell_type": "code",
      "metadata": {
        "colab": {
          "base_uri": "https://localhost:8080/"
        },
        "id": "qaHjKQOsweyt",
        "outputId": "2ca35446-62ca-431e-e367-f9488e0cb00e"
      },
      "source": [
        "rf = RandomForestRegressor(max_depth = 200, max_features=8, min_samples_leaf=3, min_samples_split=3, n_estimators=40)\n",
        "rf.fit(X_train, y_train)\n",
        "\n"
      ],
      "execution_count": null,
      "outputs": [
        {
          "output_type": "stream",
          "text": [
            "/usr/local/lib/python3.7/dist-packages/ipykernel_launcher.py:2: DataConversionWarning: A column-vector y was passed when a 1d array was expected. Please change the shape of y to (n_samples,), for example using ravel().\n",
            "  \n"
          ],
          "name": "stderr"
        },
        {
          "output_type": "execute_result",
          "data": {
            "text/plain": [
              "RandomForestRegressor(bootstrap=True, ccp_alpha=0.0, criterion='mse',\n",
              "                      max_depth=200, max_features=8, max_leaf_nodes=None,\n",
              "                      max_samples=None, min_impurity_decrease=0.0,\n",
              "                      min_impurity_split=None, min_samples_leaf=3,\n",
              "                      min_samples_split=3, min_weight_fraction_leaf=0.0,\n",
              "                      n_estimators=40, n_jobs=None, oob_score=False,\n",
              "                      random_state=None, verbose=0, warm_start=False)"
            ]
          },
          "metadata": {
            "tags": []
          },
          "execution_count": 253
        }
      ]
    },
    {
      "cell_type": "code",
      "metadata": {
        "colab": {
          "base_uri": "https://localhost:8080/"
        },
        "id": "8OilFmu2w5-_",
        "outputId": "010be479-47b4-4812-f36b-f88115afeac3"
      },
      "source": [
        "predict = rf.predict(X_train)\n",
        "MSE = mean_squared_error(y_train, predict)\n",
        "RMSE = np.sqrt(MSE)\n",
        "R2_SCORE = r2_score(y_train, predict)\n",
        "SCORE = rf.score(X_train, y_train)\n",
        "print(MSE, '\\n',RMSE, '\\n' ,R2_SCORE, '\\n', SCORE, '\\n')"
      ],
      "execution_count": null,
      "outputs": [
        {
          "output_type": "stream",
          "text": [
            "977.538778596233 \n",
            " 31.26561655551083 \n",
            " 0.9266919397499641 \n",
            " 0.9266919397499641 \n",
            "\n"
          ],
          "name": "stdout"
        }
      ]
    },
    {
      "cell_type": "code",
      "metadata": {
        "colab": {
          "base_uri": "https://localhost:8080/"
        },
        "id": "utor421Ew6Cg",
        "outputId": "841ee0a0-0975-4e7e-9ac2-7f3b7760bf03"
      },
      "source": [
        "predict = rf.predict(X_test)\n",
        "MSE = mean_squared_error(y_test, predict)\n",
        "RMSE = np.sqrt(MSE)\n",
        "R2_SCORE = r2_score(y_test, predict)\n",
        "SCORE = rf.score(X_test, y_test)\n",
        "print(MSE, '\\n',RMSE, '\\n' ,R2_SCORE, '\\n', SCORE, '\\n')"
      ],
      "execution_count": null,
      "outputs": [
        {
          "output_type": "stream",
          "text": [
            "3320.374562021846 \n",
            " 57.62269138127658 \n",
            " 0.6302476768188165 \n",
            " 0.6302476768188165 \n",
            "\n"
          ],
          "name": "stdout"
        }
      ]
    },
    {
      "cell_type": "code",
      "metadata": {
        "id": "9oOL5m1Jw6Gl",
        "colab": {
          "base_uri": "https://localhost:8080/"
        },
        "outputId": "b4400e81-edf4-4308-eaae-fe0a10265e93"
      },
      "source": [
        "sr = SVR()\n",
        "sr.fit(X_train, y_train)\n"
      ],
      "execution_count": null,
      "outputs": [
        {
          "output_type": "stream",
          "text": [
            "/usr/local/lib/python3.7/dist-packages/sklearn/utils/validation.py:760: DataConversionWarning: A column-vector y was passed when a 1d array was expected. Please change the shape of y to (n_samples, ), for example using ravel().\n",
            "  y = column_or_1d(y, warn=True)\n"
          ],
          "name": "stderr"
        },
        {
          "output_type": "execute_result",
          "data": {
            "text/plain": [
              "SVR(C=1.0, cache_size=200, coef0=0.0, degree=3, epsilon=0.1, gamma='scale',\n",
              "    kernel='rbf', max_iter=-1, shrinking=True, tol=0.001, verbose=False)"
            ]
          },
          "metadata": {
            "tags": []
          },
          "execution_count": 284
        }
      ]
    },
    {
      "cell_type": "code",
      "metadata": {
        "colab": {
          "base_uri": "https://localhost:8080/"
        },
        "id": "nZdpAG7nPfqT",
        "outputId": "b6f6bad9-cb2d-4164-b360-90c352c6830d"
      },
      "source": [
        "predict = sr.predict(X_train)\n",
        "MSE = mean_squared_error(y_train, predict)\n",
        "RMSE = np.sqrt(MSE)\n",
        "R2_SCORE = r2_score(y_train, predict)\n",
        "SCORE = sr.score(X_train, y_train)\n",
        "print(MSE, '\\n',RMSE, '\\n' ,R2_SCORE, '\\n', SCORE, '\\n')"
      ],
      "execution_count": null,
      "outputs": [
        {
          "output_type": "stream",
          "text": [
            "11049.756092482558 \n",
            " 105.11782005199004 \n",
            " 0.17135135391851952 \n",
            " 0.17135135391851952 \n",
            "\n"
          ],
          "name": "stdout"
        }
      ]
    },
    {
      "cell_type": "code",
      "metadata": {
        "colab": {
          "base_uri": "https://localhost:8080/"
        },
        "id": "cc9YGMZAPfur",
        "outputId": "e2585072-4410-4bf5-a547-597a92686bb3"
      },
      "source": [
        "predict = sr.predict(X_test)\n",
        "MSE = mean_squared_error(y_test, predict)\n",
        "RMSE = np.sqrt(MSE)\n",
        "R2_SCORE = r2_score(y_test, predict)\n",
        "SCORE = sr.score(X_test, y_test) \n",
        "print(MSE, '\\n',RMSE, '\\n' ,R2_SCORE, '\\n', SCORE, '\\n')"
      ],
      "execution_count": null,
      "outputs": [
        {
          "output_type": "stream",
          "text": [
            "9266.623906473207 \n",
            " 96.26330508804072 \n",
            " -0.03191843373790393 \n",
            " -0.03191843373790393 \n",
            "\n"
          ],
          "name": "stdout"
        }
      ]
    },
    {
      "cell_type": "code",
      "metadata": {
        "id": "wD_Vxb6PPf05"
      },
      "source": [
        ""
      ],
      "execution_count": null,
      "outputs": []
    },
    {
      "cell_type": "markdown",
      "metadata": {
        "id": "7OtwitV81mBo"
      },
      "source": [
        "###TEST DATA"
      ]
    },
    {
      "cell_type": "code",
      "metadata": {
        "id": "6GJviCB_w20L"
      },
      "source": [
        ""
      ],
      "execution_count": null,
      "outputs": []
    },
    {
      "cell_type": "code",
      "metadata": {
        "id": "m3A-tYCYw23X"
      },
      "source": [
        ""
      ],
      "execution_count": null,
      "outputs": []
    },
    {
      "cell_type": "code",
      "metadata": {
        "id": "7tOH0vyHw26h"
      },
      "source": [
        ""
      ],
      "execution_count": null,
      "outputs": []
    },
    {
      "cell_type": "code",
      "metadata": {
        "id": "Wtr_G3_Rvpfp"
      },
      "source": [
        ""
      ],
      "execution_count": null,
      "outputs": []
    },
    {
      "cell_type": "code",
      "metadata": {
        "id": "TeKq3U2htW0E"
      },
      "source": [
        ""
      ],
      "execution_count": null,
      "outputs": []
    },
    {
      "cell_type": "code",
      "metadata": {
        "id": "Qxls_PkJtW3c"
      },
      "source": [
        ""
      ],
      "execution_count": null,
      "outputs": []
    },
    {
      "cell_type": "code",
      "metadata": {
        "id": "NGBvqOfwrmwS"
      },
      "source": [
        ""
      ],
      "execution_count": null,
      "outputs": []
    },
    {
      "cell_type": "code",
      "metadata": {
        "id": "nejluAL6re90"
      },
      "source": [
        ""
      ],
      "execution_count": null,
      "outputs": []
    },
    {
      "cell_type": "code",
      "metadata": {
        "id": "9WPORSjN1Sox"
      },
      "source": [
        "test=pd.read_csv(\"/content/test.csv\")"
      ],
      "execution_count": null,
      "outputs": []
    },
    {
      "cell_type": "code",
      "metadata": {
        "colab": {
          "base_uri": "https://localhost:8080/",
          "height": 326
        },
        "id": "3qnUS5hI1WlI",
        "outputId": "b77361d1-d20d-41b0-d548-3bccdc8a3d45"
      },
      "source": [
        "test.head()"
      ],
      "execution_count": null,
      "outputs": [
        {
          "output_type": "execute_result",
          "data": {
            "text/html": [
              "<div>\n",
              "<style scoped>\n",
              "    .dataframe tbody tr th:only-of-type {\n",
              "        vertical-align: middle;\n",
              "    }\n",
              "\n",
              "    .dataframe tbody tr th {\n",
              "        vertical-align: top;\n",
              "    }\n",
              "\n",
              "    .dataframe thead th {\n",
              "        text-align: right;\n",
              "    }\n",
              "</style>\n",
              "<table border=\"1\" class=\"dataframe\">\n",
              "  <thead>\n",
              "    <tr style=\"text-align: right;\">\n",
              "      <th></th>\n",
              "      <th>id</th>\n",
              "      <th>departure city</th>\n",
              "      <th>discount</th>\n",
              "      <th>price</th>\n",
              "      <th>no of items</th>\n",
              "      <th>location</th>\n",
              "      <th>class</th>\n",
              "      <th>segment</th>\n",
              "      <th>sub-class</th>\n",
              "      <th>delivery type</th>\n",
              "      <th>RID</th>\n",
              "      <th>delivery date</th>\n",
              "      <th>address code</th>\n",
              "      <th>departure state</th>\n",
              "      <th>placement date</th>\n",
              "    </tr>\n",
              "  </thead>\n",
              "  <tbody>\n",
              "    <tr>\n",
              "      <th>0</th>\n",
              "      <td>6701</td>\n",
              "      <td>San Francisco</td>\n",
              "      <td>0.0</td>\n",
              "      <td>24.200</td>\n",
              "      <td>5</td>\n",
              "      <td>West</td>\n",
              "      <td>kariox</td>\n",
              "      <td>Consumer</td>\n",
              "      <td>television</td>\n",
              "      <td>Standard Class</td>\n",
              "      <td>2408</td>\n",
              "      <td>2021-01-01</td>\n",
              "      <td>94122</td>\n",
              "      <td>California</td>\n",
              "      <td>2021-01-01</td>\n",
              "    </tr>\n",
              "    <tr>\n",
              "      <th>1</th>\n",
              "      <td>6702</td>\n",
              "      <td>San Francisco</td>\n",
              "      <td>0.2</td>\n",
              "      <td>359.976</td>\n",
              "      <td>3</td>\n",
              "      <td>West</td>\n",
              "      <td>fynota</td>\n",
              "      <td>Consumer</td>\n",
              "      <td>colddrinks</td>\n",
              "      <td>Standard Class</td>\n",
              "      <td>2409</td>\n",
              "      <td>2021-01-01</td>\n",
              "      <td>94122</td>\n",
              "      <td>California</td>\n",
              "      <td>2021-01-01</td>\n",
              "    </tr>\n",
              "    <tr>\n",
              "      <th>2</th>\n",
              "      <td>6703</td>\n",
              "      <td>Waterbury</td>\n",
              "      <td>0.0</td>\n",
              "      <td>3.520</td>\n",
              "      <td>2</td>\n",
              "      <td>East</td>\n",
              "      <td>kariox</td>\n",
              "      <td>Consumer</td>\n",
              "      <td>television</td>\n",
              "      <td>Standard Class</td>\n",
              "      <td>5425</td>\n",
              "      <td>2021-01-01</td>\n",
              "      <td>6708</td>\n",
              "      <td>Connecticut</td>\n",
              "      <td>2021-01-01</td>\n",
              "    </tr>\n",
              "    <tr>\n",
              "      <th>3</th>\n",
              "      <td>6704</td>\n",
              "      <td>Chicago</td>\n",
              "      <td>0.2</td>\n",
              "      <td>11.520</td>\n",
              "      <td>5</td>\n",
              "      <td>Central</td>\n",
              "      <td>kariox</td>\n",
              "      <td>Consumer</td>\n",
              "      <td>tablet</td>\n",
              "      <td>First Class</td>\n",
              "      <td>7408</td>\n",
              "      <td>2021-01-01</td>\n",
              "      <td>60653</td>\n",
              "      <td>Illinois</td>\n",
              "      <td>2021-01-01</td>\n",
              "    </tr>\n",
              "    <tr>\n",
              "      <th>4</th>\n",
              "      <td>6705</td>\n",
              "      <td>Seattle</td>\n",
              "      <td>0.0</td>\n",
              "      <td>242.940</td>\n",
              "      <td>3</td>\n",
              "      <td>West</td>\n",
              "      <td>kariox</td>\n",
              "      <td>Home Office</td>\n",
              "      <td>laptop</td>\n",
              "      <td>Standard Class</td>\n",
              "      <td>733</td>\n",
              "      <td>2021-01-01</td>\n",
              "      <td>98115</td>\n",
              "      <td>Washington</td>\n",
              "      <td>2021-01-01</td>\n",
              "    </tr>\n",
              "  </tbody>\n",
              "</table>\n",
              "</div>"
            ],
            "text/plain": [
              "     id departure city  discount  ...  address code  departure state placement date\n",
              "0  6701  San Francisco       0.0  ...         94122       California     2021-01-01\n",
              "1  6702  San Francisco       0.2  ...         94122       California     2021-01-01\n",
              "2  6703      Waterbury       0.0  ...          6708      Connecticut     2021-01-01\n",
              "3  6704        Chicago       0.2  ...         60653         Illinois     2021-01-01\n",
              "4  6705        Seattle       0.0  ...         98115       Washington     2021-01-01\n",
              "\n",
              "[5 rows x 15 columns]"
            ]
          },
          "metadata": {
            "tags": []
          },
          "execution_count": 257
        }
      ]
    },
    {
      "cell_type": "code",
      "metadata": {
        "colab": {
          "base_uri": "https://localhost:8080/"
        },
        "id": "KORRi9531ZWy",
        "outputId": "081811e9-d291-4077-d9ec-a9a4b0154b6d"
      },
      "source": [
        "test.isna().sum()"
      ],
      "execution_count": null,
      "outputs": [
        {
          "output_type": "execute_result",
          "data": {
            "text/plain": [
              "id                 0\n",
              "departure city     0\n",
              "discount           0\n",
              "price              0\n",
              "no of items        0\n",
              "location           0\n",
              "class              0\n",
              "segment            0\n",
              "sub-class          0\n",
              "delivery type      0\n",
              "RID                0\n",
              "delivery date      0\n",
              "address code       0\n",
              "departure state    0\n",
              "placement date     0\n",
              "dtype: int64"
            ]
          },
          "metadata": {
            "tags": []
          },
          "execution_count": 258
        }
      ]
    },
    {
      "cell_type": "code",
      "metadata": {
        "id": "rS0_mw0M1cO3"
      },
      "source": [
        "test.drop('RID',axis=1,inplace=True)"
      ],
      "execution_count": null,
      "outputs": []
    },
    {
      "cell_type": "code",
      "metadata": {
        "id": "Vm4WS-Pr1jxy"
      },
      "source": [
        "\n",
        "test['item_map']=test['no of items'].map(items)"
      ],
      "execution_count": null,
      "outputs": []
    },
    {
      "cell_type": "code",
      "metadata": {
        "id": "ddXvGNoQ19Ca"
      },
      "source": [
        "\n",
        "test['loc_map']=test['location'].map(loc)"
      ],
      "execution_count": null,
      "outputs": []
    },
    {
      "cell_type": "code",
      "metadata": {
        "id": "BdhpLkM92B_g"
      },
      "source": [
        "\n",
        "test['class_map']=test['class'].map(class_map)"
      ],
      "execution_count": null,
      "outputs": []
    },
    {
      "cell_type": "code",
      "metadata": {
        "id": "LvfDOuk02Km3"
      },
      "source": [
        "\n",
        "test['seg_map']=test['segment'].map(segment)"
      ],
      "execution_count": null,
      "outputs": []
    },
    {
      "cell_type": "code",
      "metadata": {
        "id": "3G56IMSr2Qva"
      },
      "source": [
        "\n",
        "test['sub_class_map']=test['sub-class'].map(sub)"
      ],
      "execution_count": null,
      "outputs": []
    },
    {
      "cell_type": "code",
      "metadata": {
        "id": "KfOwau-M2ctz"
      },
      "source": [
        "\n",
        "test['del_map']=test['delivery type'].map(delivery)"
      ],
      "execution_count": null,
      "outputs": []
    },
    {
      "cell_type": "code",
      "metadata": {
        "id": "ugcRMEE-2cxm"
      },
      "source": [
        ""
      ],
      "execution_count": null,
      "outputs": []
    },
    {
      "cell_type": "code",
      "metadata": {
        "id": "Y3ZYne-x2oXH"
      },
      "source": [
        "# df_dic = test.groupby('departure state')['profit'].mean().reset_index()\n"
      ],
      "execution_count": null,
      "outputs": []
    },
    {
      "cell_type": "code",
      "metadata": {
        "id": "QZrdTngm2oXo"
      },
      "source": [
        "# df_dic['loc_class'] = pd.cut(x = df_dic['profit'], bins = [-50,0,50,100,300] , labels = [1,2,3,4])"
      ],
      "execution_count": null,
      "outputs": []
    },
    {
      "cell_type": "code",
      "metadata": {
        "id": "t0qT1D-_2oXo"
      },
      "source": [
        "# df_dic['loc_class'] = df_dic['loc_class'].astype(int)"
      ],
      "execution_count": null,
      "outputs": []
    },
    {
      "cell_type": "code",
      "metadata": {
        "id": "lpEJU9Yc2oXp"
      },
      "source": [
        "# DIC = df_dic.groupby('departure state')['loc_class'].mean().to_dict()"
      ],
      "execution_count": null,
      "outputs": []
    },
    {
      "cell_type": "code",
      "metadata": {
        "id": "FVjAoX5u2oXq"
      },
      "source": [
        "test['dep_class'] = test['departure state'].map(dep_state)"
      ],
      "execution_count": null,
      "outputs": []
    },
    {
      "cell_type": "code",
      "metadata": {
        "id": "xYud22d65V5E"
      },
      "source": [
        ""
      ],
      "execution_count": null,
      "outputs": []
    },
    {
      "cell_type": "code",
      "metadata": {
        "id": "ABwwtqkG2u57"
      },
      "source": [
        "# df_dic = df.groupby('departure city')['profit'].mean().reset_index()\n"
      ],
      "execution_count": null,
      "outputs": []
    },
    {
      "cell_type": "code",
      "metadata": {
        "id": "1sy9otuq2u6R"
      },
      "source": [
        "# df_dic['loc_class'] = pd.cut(x = df_dic['profit'], bins = [-210,0,50,650] , labels = [1,2,3])\n"
      ],
      "execution_count": null,
      "outputs": []
    },
    {
      "cell_type": "code",
      "metadata": {
        "id": "kH5EMfA02u6S"
      },
      "source": [
        "# df_dic['loc_class'] = df_dic['loc_class'].astype(int)\n",
        "# DIC = df_dic.groupby('departure city')['loc_class'].mean().to_dict()\n",
        "test['dep_city_class'] = test['departure city'].map(dep_city)\n"
      ],
      "execution_count": null,
      "outputs": []
    },
    {
      "cell_type": "code",
      "metadata": {
        "id": "M-aQFdmI2c5R"
      },
      "source": [
        ""
      ],
      "execution_count": null,
      "outputs": []
    },
    {
      "cell_type": "code",
      "metadata": {
        "id": "cbqUwGMp21Ps"
      },
      "source": [
        "# df_dic = df.groupby('address code')['profit'].mean().reset_index()\n"
      ],
      "execution_count": null,
      "outputs": []
    },
    {
      "cell_type": "code",
      "metadata": {
        "id": "Ir2U4Z1Z21P0"
      },
      "source": [
        "# df_dic['loc_class'] = pd.cut(x = df_dic['profit'], bins = [-210,0,50,650] , labels = [1,2,3])\n",
        "# "
      ],
      "execution_count": null,
      "outputs": []
    },
    {
      "cell_type": "code",
      "metadata": {
        "id": "HLtNK5nw21P3"
      },
      "source": [
        "# df_dic['loc_class'] = df_dic['loc_class'].astype(int)\n",
        "# DIC = df_dic.groupby('address code')['loc_class'].mean().to_dict()\n",
        "test['address_class'] = test['address code'].map(add_code)\n"
      ],
      "execution_count": null,
      "outputs": []
    },
    {
      "cell_type": "code",
      "metadata": {
        "id": "gfujWbX42c-Z"
      },
      "source": [
        "test['delivery date'] = pd.to_datetime(test['delivery date'])\n",
        "test['placement date'] = pd.to_datetime(test['placement date'])\n",
        "test['duration'] = (test['delivery date'] - test['placement date']).dt.days"
      ],
      "execution_count": null,
      "outputs": []
    },
    {
      "cell_type": "code",
      "metadata": {
        "colab": {
          "base_uri": "https://localhost:8080/"
        },
        "id": "VqzNDsLW29b6",
        "outputId": "8809f971-68e0-43c2-f2b9-e2737613be3f"
      },
      "source": [
        "test['delivery_month']=test['delivery date'].dt.month\n",
        "test['delivery_week']=test['delivery date'].dt.week\n",
        "test['placement_month']=test['placement date'].dt.month\n",
        "test['placement_week']=test['placement date'].dt.week\n"
      ],
      "execution_count": null,
      "outputs": [
        {
          "output_type": "stream",
          "text": [
            "/usr/local/lib/python3.7/dist-packages/ipykernel_launcher.py:2: FutureWarning: Series.dt.weekofyear and Series.dt.week have been deprecated.  Please use Series.dt.isocalendar().week instead.\n",
            "  \n",
            "/usr/local/lib/python3.7/dist-packages/ipykernel_launcher.py:4: FutureWarning: Series.dt.weekofyear and Series.dt.week have been deprecated.  Please use Series.dt.isocalendar().week instead.\n",
            "  after removing the cwd from sys.path.\n"
          ],
          "name": "stderr"
        }
      ]
    },
    {
      "cell_type": "code",
      "metadata": {
        "id": "3ZP9dyCS29Xo"
      },
      "source": [
        "# duration={31:5,0:4,29:3,30:2,28:1}\n",
        "test['duration_map']=test['duration'].map(duration)"
      ],
      "execution_count": null,
      "outputs": []
    },
    {
      "cell_type": "code",
      "metadata": {
        "id": "kD0w7YXd4yoG"
      },
      "source": [
        "test.set_index('id',inplace=True)"
      ],
      "execution_count": null,
      "outputs": []
    },
    {
      "cell_type": "code",
      "metadata": {
        "colab": {
          "base_uri": "https://localhost:8080/"
        },
        "id": "SHQHnPMG29UB",
        "outputId": "5e5d52ba-c51c-4d74-be85-98db9c315168"
      },
      "source": [
        "test.columns"
      ],
      "execution_count": null,
      "outputs": [
        {
          "output_type": "execute_result",
          "data": {
            "text/plain": [
              "Index(['departure city', 'discount', 'price', 'no of items', 'location',\n",
              "       'class', 'segment', 'sub-class', 'delivery type', 'delivery date',\n",
              "       'address code', 'departure state', 'placement date', 'item_map',\n",
              "       'loc_map', 'class_map', 'seg_map', 'sub_class_map', 'del_map',\n",
              "       'dep_class', 'dep_city_class', 'address_class', 'duration',\n",
              "       'delivery_month', 'delivery_week', 'placement_month', 'placement_week',\n",
              "       'duration_map'],\n",
              "      dtype='object')"
            ]
          },
          "metadata": {
            "tags": []
          },
          "execution_count": 281
        }
      ]
    },
    {
      "cell_type": "code",
      "metadata": {
        "colab": {
          "base_uri": "https://localhost:8080/"
        },
        "id": "FAPgh-6_29Me",
        "outputId": "3e294164-d9ca-4095-bab1-b9ca01dab09a"
      },
      "source": [
        "df.columns"
      ],
      "execution_count": null,
      "outputs": [
        {
          "output_type": "execute_result",
          "data": {
            "text/plain": [
              "Index(['discount', 'price', 'no of items', 'item_map', 'loc_map', 'class_map',\n",
              "       'seg_map', 'sub_class_map', 'del_map', 'dep_class', 'dep_city_class',\n",
              "       'address_class', 'duration', 'delivery_month', 'duration_map'],\n",
              "      dtype='object')"
            ]
          },
          "metadata": {
            "tags": []
          },
          "execution_count": 282
        }
      ]
    },
    {
      "cell_type": "code",
      "metadata": {
        "id": "GlzecVnO4tud"
      },
      "source": [
        "test.drop(['location','class','segment','sub-class','delivery type','delivery date','address code','departure state','placement date','delivery_week', 'placement_month', 'placement_week'], axis=1, inplace=True)"
      ],
      "execution_count": null,
      "outputs": []
    },
    {
      "cell_type": "code",
      "metadata": {
        "id": "bWoTAHpSqb4t"
      },
      "source": [
        ""
      ],
      "execution_count": null,
      "outputs": []
    }
  ]
}